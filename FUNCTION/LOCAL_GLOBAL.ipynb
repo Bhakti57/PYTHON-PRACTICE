{
 "cells": [
  {
   "cell_type": "code",
   "execution_count": 2,
   "id": "bf278f7d",
   "metadata": {},
   "outputs": [
    {
     "name": "stdout",
     "output_type": "stream",
     "text": [
      "Hello Bill Gates\n"
     ]
    }
   ],
   "source": [
    "def greet():\n",
    "    global name\n",
    "    name = 'Bill Gates'\n",
    "    print('Hello', name)\n",
    "greet()\n"
   ]
  },
  {
   "cell_type": "code",
   "execution_count": 3,
   "id": "a71f2d6c",
   "metadata": {},
   "outputs": [
    {
     "name": "stdout",
     "output_type": "stream",
     "text": [
      "Hello Bill Gates\n"
     ]
    }
   ],
   "source": [
    "name = 'Steve'\n",
    "def greet():\n",
    "    name = 'Bill Gates'\n",
    "    print('Hello', name)\n",
    "greet()"
   ]
  },
  {
   "cell_type": "code",
   "execution_count": 4,
   "id": "d242a584",
   "metadata": {},
   "outputs": [
    {
     "name": "stdout",
     "output_type": "stream",
     "text": [
      "Steve\n"
     ]
    }
   ],
   "source": [
    "print(name)"
   ]
  },
  {
   "cell_type": "code",
   "execution_count": 9,
   "id": "0ed4ed6f",
   "metadata": {},
   "outputs": [
    {
     "name": "stdout",
     "output_type": "stream",
     "text": [
      "Hello  Bill\n"
     ]
    }
   ],
   "source": [
    "name = 'Steve'\n",
    "def greet():\n",
    "    global name\n",
    "    name = 'Bill'\n",
    "    print('Hello ', name)\n",
    "greet()"
   ]
  },
  {
   "cell_type": "code",
   "execution_count": 10,
   "id": "6d7a57e3",
   "metadata": {},
   "outputs": [
    {
     "name": "stdout",
     "output_type": "stream",
     "text": [
      "Bill\n"
     ]
    }
   ],
   "source": [
    "print(name)"
   ]
  },
  {
   "cell_type": "code",
   "execution_count": 11,
   "id": "01df3fcb",
   "metadata": {},
   "outputs": [
    {
     "name": "stdout",
     "output_type": "stream",
     "text": [
      "Hello  Bill\n"
     ]
    }
   ],
   "source": [
    "greet() \n"
   ]
  },
  {
   "cell_type": "code",
   "execution_count": 12,
   "id": "562c8d66",
   "metadata": {},
   "outputs": [
    {
     "name": "stdout",
     "output_type": "stream",
     "text": [
      "Value in 1nd function : 999\n",
      "Value in 2nd function : 999\n"
     ]
    }
   ],
   "source": [
    "global_var = 999\n",
    "def function1():\n",
    " print(\"Value in 1nd function :\", global_var)\n",
    "def function2():\n",
    " print(\"Value in 2nd function :\", global_var)\n",
    "function1()\n",
    "function2()\n"
   ]
  },
  {
   "cell_type": "code",
   "execution_count": 13,
   "id": "b493e96c",
   "metadata": {},
   "outputs": [
    {
     "name": "stdout",
     "output_type": "stream",
     "text": [
      "Value in 1st function : 5\n",
      "Value in 2nd function : 555\n",
      "Value in 3rd function : 5\n"
     ]
    }
   ],
   "source": [
    "global_var = 5\n",
    "def function1():\n",
    " print(\"Value in 1st function :\", global_var)\n",
    "def function2():\n",
    " # Modify global variable\n",
    " # function will treat it as a local variable\n",
    " global_var = 555\n",
    " print(\"Value in 2nd function :\", global_var)\n",
    "def function3():\n",
    " print(\"Value in 3rd function :\", global_var)\n",
    "function1()\n",
    "function2()\n",
    "function3()\n"
   ]
  },
  {
   "cell_type": "code",
   "execution_count": 14,
   "id": "2c021809",
   "metadata": {},
   "outputs": [
    {
     "name": "stdout",
     "output_type": "stream",
     "text": [
      "Value in 1st function : 5\n",
      "Value in 2nd function : 555\n",
      "Value in 3rd function : 555\n"
     ]
    }
   ],
   "source": [
    "x = 5\n",
    "# defining 1st function\n",
    "def function1():\n",
    " print(\"Value in 1st function :\", x)\n",
    "# defining 2nd function\n",
    "def function2():\n",
    " # Modify global variable using global keyword\n",
    " global x\n",
    " x = 555\n",
    " print(\"Value in 2nd function :\", x)\n",
    "# defining 3rd function\n",
    "def function3():\n",
    " print(\"Value in 3rd function :\", x)\n",
    "function1()\n",
    "function2()\n",
    "function3()\n"
   ]
  },
  {
   "cell_type": "code",
   "execution_count": null,
   "id": "f11e79cc",
   "metadata": {},
   "outputs": [],
   "source": []
  }
 ],
 "metadata": {
  "kernelspec": {
   "display_name": "Python 3 (ipykernel)",
   "language": "python",
   "name": "python3"
  },
  "language_info": {
   "codemirror_mode": {
    "name": "ipython",
    "version": 3
   },
   "file_extension": ".py",
   "mimetype": "text/x-python",
   "name": "python",
   "nbconvert_exporter": "python",
   "pygments_lexer": "ipython3",
   "version": "3.9.7"
  }
 },
 "nbformat": 4,
 "nbformat_minor": 5
}
