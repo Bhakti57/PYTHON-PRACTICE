{
 "cells": [
  {
   "cell_type": "code",
   "execution_count": 2,
   "id": "ca6a9a1b",
   "metadata": {},
   "outputs": [
    {
     "name": "stdout",
     "output_type": "stream",
     "text": [
      "Addition: -1\n",
      "subtraction: -1\n",
      "multiplication: 30\n",
      "division: 0.8333333333333334\n"
     ]
    }
   ],
   "source": [
    "def arith(num1, num2):\n",
    "    add=num1+num2\n",
    "    sub= num1-num2\n",
    "    multi=num1*num2\n",
    "    div=num1/num2\n",
    "    \n",
    "    return add,sub,multi,div\n",
    "a, b,c,d=arith(5,6)\n",
    "print(\"Addition:\", a)\n",
    "print(\"subtraction:\", b)\n",
    "print(\"multiplication:\", c)\n",
    "print(\"division:\", d)"
   ]
  },
  {
   "cell_type": "code",
   "execution_count": null,
   "id": "3cdbd02a",
   "metadata": {},
   "outputs": [],
   "source": []
  }
 ],
 "metadata": {
  "kernelspec": {
   "display_name": "Python 3 (ipykernel)",
   "language": "python",
   "name": "python3"
  },
  "language_info": {
   "codemirror_mode": {
    "name": "ipython",
    "version": 3
   },
   "file_extension": ".py",
   "mimetype": "text/x-python",
   "name": "python",
   "nbconvert_exporter": "python",
   "pygments_lexer": "ipython3",
   "version": "3.9.7"
  }
 },
 "nbformat": 4,
 "nbformat_minor": 5
}
