{
 "cells": [
  {
   "cell_type": "code",
   "execution_count": 1,
   "id": "f41eb4d9",
   "metadata": {},
   "outputs": [
    {
     "name": "stdout",
     "output_type": "stream",
     "text": [
      "15\n"
     ]
    }
   ],
   "source": [
    "def my_function(x):\n",
    " return 5 * x\n",
    "print(my_function(3))\n"
   ]
  },
  {
   "cell_type": "code",
   "execution_count": 2,
   "id": "71416268",
   "metadata": {},
   "outputs": [
    {
     "name": "stdout",
     "output_type": "stream",
     "text": [
      "Addition : 25\n"
     ]
    }
   ],
   "source": [
    "def calculator(a, b):\n",
    " add = a + b\n",
    " # return the addition\n",
    " return add\n",
    "# call function\n",
    "# take return value in variable\n",
    "res = calculator(20, 5)\n",
    "print(\"Addition :\", res)"
   ]
  },
  {
   "cell_type": "code",
   "execution_count": 3,
   "id": "e0aa72e8",
   "metadata": {},
   "outputs": [
    {
     "name": "stdout",
     "output_type": "stream",
     "text": [
      "30\n",
      "35\n"
     ]
    }
   ],
   "source": [
    "def sum(a, b): \n",
    " return a + b\n",
    "total=sum(10, 20) \n",
    "print(total)\n",
    "total=sum(5, sum(10, 20))\n",
    "print(total)"
   ]
  },
  {
   "cell_type": "code",
   "execution_count": 4,
   "id": "9b3e9393",
   "metadata": {},
   "outputs": [
    {
     "name": "stdout",
     "output_type": "stream",
     "text": [
      "Addition:  12\n",
      "Subtraction:  8\n",
      "Multiplication:  20\n",
      "Division:  5.0\n"
     ]
    }
   ],
   "source": [
    "def arithmetic(num1, num2):\n",
    " add = num1 + num2\n",
    " sub = num1 - num2\n",
    " multiply = num1 * num2\n",
    " division = num1 / num2\n",
    " # return four values\n",
    " return add, sub, multiply, division\n",
    "# read four return values in four variables\n",
    "a, b, c, d = arithmetic(10, 2)\n",
    "print(\"Addition: \", a)\n",
    "print(\"Subtraction: \", b)\n",
    "print(\"Multiplication: \", c)\n",
    "print(\"Division: \", d)\n"
   ]
  },
  {
   "cell_type": "code",
   "execution_count": 7,
   "id": "5aeb8c73",
   "metadata": {},
   "outputs": [
    {
     "name": "stdout",
     "output_type": "stream",
     "text": [
      "Hello  Sanvee\n"
     ]
    }
   ],
   "source": [
    "def greet():\n",
    "    name1 = 'Sanvee'\n",
    "    print('Hello ', name1)\n",
    "greet()\n"
   ]
  },
  {
   "cell_type": "code",
   "execution_count": 8,
   "id": "102ce87d",
   "metadata": {},
   "outputs": [
    {
     "name": "stdout",
     "output_type": "stream",
     "text": [
      "Hello  Sanvee\n"
     ]
    }
   ],
   "source": [
    "name='Sanvee'\n",
    "def greet():\n",
    "     print (\"Hello \", name)\n",
    "greet()"
   ]
  },
  {
   "cell_type": "code",
   "execution_count": null,
   "id": "33c15edf",
   "metadata": {},
   "outputs": [],
   "source": []
  },
  {
   "cell_type": "code",
   "execution_count": null,
   "id": "72d97745",
   "metadata": {},
   "outputs": [],
   "source": []
  }
 ],
 "metadata": {
  "kernelspec": {
   "display_name": "Python 3 (ipykernel)",
   "language": "python",
   "name": "python3"
  },
  "language_info": {
   "codemirror_mode": {
    "name": "ipython",
    "version": 3
   },
   "file_extension": ".py",
   "mimetype": "text/x-python",
   "name": "python",
   "nbconvert_exporter": "python",
   "pygments_lexer": "ipython3",
   "version": "3.9.7"
  }
 },
 "nbformat": 4,
 "nbformat_minor": 5
}
