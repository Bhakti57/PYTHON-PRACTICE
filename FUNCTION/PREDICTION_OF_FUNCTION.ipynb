{
 "cells": [
  {
   "cell_type": "code",
   "execution_count": 1,
   "id": "0e31318b",
   "metadata": {},
   "outputs": [
    {
     "name": "stdout",
     "output_type": "stream",
     "text": [
      "4\n",
      "4\n"
     ]
    }
   ],
   "source": [
    "def s(n1):\n",
    "    print(n1)\n",
    "    n1 = n1 +2\n",
    "n2=4\n",
    "s(n2)\n",
    "print(n2)\n",
    "\n"
   ]
  },
  {
   "cell_type": "code",
   "execution_count": 5,
   "id": "2a37023e",
   "metadata": {},
   "outputs": [
    {
     "name": "stdout",
     "output_type": "stream",
     "text": [
      "18\n"
     ]
    }
   ],
   "source": [
    "def cal(m,n):\n",
    "    if m==n:\n",
    "        return m*3\n",
    "    else:\n",
    "        return m*2\n",
    "s = cal(9, 8)\n",
    "print(s)"
   ]
  },
  {
   "cell_type": "code",
   "execution_count": 11,
   "id": "d0f68bf2",
   "metadata": {},
   "outputs": [
    {
     "name": "stdout",
     "output_type": "stream",
     "text": [
      "3\n",
      "1\n"
     ]
    }
   ],
   "source": [
    "def check():\n",
    "   i = 5\n",
    "   while i > 1:\n",
    "        if i //2==0:\n",
    "              x = i + 2\n",
    "              i = i-1\n",
    "        else:\n",
    "             i = i-2\n",
    "             x = i\n",
    "        print (x)\n",
    "check()"
   ]
  },
  {
   "cell_type": "code",
   "execution_count": 17,
   "id": "fb98947f",
   "metadata": {},
   "outputs": [
    {
     "name": "stdout",
     "output_type": "stream",
     "text": [
      "3 5 5 "
     ]
    }
   ],
   "source": [
    "x = 3\n",
    "def myfunc():\n",
    "    global x\n",
    "    x+=2\n",
    "    print(x, end=' ')\n",
    "print(x, end=' ')\n",
    "myfunc()\n",
    "print(x, end=' ')\n"
   ]
  },
  {
   "cell_type": "code",
   "execution_count": 24,
   "id": "31b78956",
   "metadata": {},
   "outputs": [
    {
     "name": "stdout",
     "output_type": "stream",
     "text": [
      "50#5\n"
     ]
    }
   ],
   "source": [
    "value = 50\n",
    "def display(N):\n",
    "    global value\n",
    "    value = 25\n",
    "    if N%7==0:\n",
    "        value = value + N\n",
    "    else:\n",
    "        value = value - N\n",
    "print(value, end=\"#\")\n",
    "display(20)\n",
    "print(value)"
   ]
  },
  {
   "cell_type": "code",
   "execution_count": 25,
   "id": "5a2695fa",
   "metadata": {},
   "outputs": [
    {
     "name": "stdout",
     "output_type": "stream",
     "text": [
      "5#8#5#4#"
     ]
    }
   ],
   "source": [
    "def ChangeVal(M,N):\n",
    "     for i in range(N):\n",
    "        if M[i]%5 == 0:\n",
    "            M[i]//=5\n",
    "        if M[i]%3 == 0:\n",
    "            M[i]//=3\n",
    "L = [25,8,75,12]\n",
    "ChangeVal(L,4)\n",
    "for i in L:\n",
    "     print(i,end=\"#\")\n"
   ]
  },
  {
   "cell_type": "code",
   "execution_count": 26,
   "id": "656c13ad",
   "metadata": {},
   "outputs": [
    {
     "name": "stdout",
     "output_type": "stream",
     "text": [
      "15\n"
     ]
    }
   ],
   "source": [
    "def c(x, y):\n",
    "    if x % y :\n",
    "         return x+5\n",
    "    else:\n",
    "        return y+10\n",
    "print(c(20, 5))"
   ]
  },
  {
   "cell_type": "code",
   "execution_count": null,
   "id": "1d37088f",
   "metadata": {},
   "outputs": [],
   "source": []
  }
 ],
 "metadata": {
  "kernelspec": {
   "display_name": "Python 3 (ipykernel)",
   "language": "python",
   "name": "python3"
  },
  "language_info": {
   "codemirror_mode": {
    "name": "ipython",
    "version": 3
   },
   "file_extension": ".py",
   "mimetype": "text/x-python",
   "name": "python",
   "nbconvert_exporter": "python",
   "pygments_lexer": "ipython3",
   "version": "3.9.7"
  }
 },
 "nbformat": 4,
 "nbformat_minor": 5
}
