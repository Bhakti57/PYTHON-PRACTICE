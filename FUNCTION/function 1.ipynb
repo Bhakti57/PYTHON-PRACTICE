{
 "cells": [
  {
   "cell_type": "code",
   "execution_count": 1,
   "id": "79b5b98b",
   "metadata": {},
   "outputs": [
    {
     "name": "stdout",
     "output_type": "stream",
     "text": [
      "Welcome to NetTech\n"
     ]
    }
   ],
   "source": [
    "def message():\n",
    " print(\"Welcome to NetTech\")\n",
    "message()"
   ]
  },
  {
   "cell_type": "code",
   "execution_count": 2,
   "id": "e5fce54f",
   "metadata": {},
   "outputs": [
    {
     "data": {
      "text/plain": [
       "9"
      ]
     },
     "execution_count": 2,
     "metadata": {},
     "output_type": "execute_result"
    }
   ],
   "source": [
    "def add(a, b):\n",
    " return a+b\n",
    "add(5, 4)\n"
   ]
  },
  {
   "cell_type": "code",
   "execution_count": 3,
   "id": "6c2252a4",
   "metadata": {},
   "outputs": [
    {
     "name": "stdout",
     "output_type": "stream",
     "text": [
      "Hello Students Welcome to NetTech\n",
      "Your course name is Python\n"
     ]
    }
   ],
   "source": [
    "def course_func(name, course_name):\n",
    " print(\"Hello\", name, \"Welcome to NetTech\")\n",
    " print(\"Your course name is\", course_name)\n",
    "# call function\n",
    "course_func('Students', 'Python')"
   ]
  },
  {
   "cell_type": "code",
   "execution_count": 4,
   "id": "24f9cd78",
   "metadata": {},
   "outputs": [
    {
     "name": "stdout",
     "output_type": "stream",
     "text": [
      "Sanvee Khot\n"
     ]
    }
   ],
   "source": [
    "def my_function(fname, lname):\n",
    " print(fname + \" \" + lname)\n",
    "my_function(\"Sanvee\", \"Khot\")"
   ]
  },
  {
   "cell_type": "code",
   "execution_count": null,
   "id": "b5737f05",
   "metadata": {},
   "outputs": [],
   "source": [
    "def my_function(*kids):\n",
    " print(\"The youngest child is \" + kids[2])\n",
    "my_function(\"a\", \"b\", \"c\")"
   ]
  }
 ],
 "metadata": {
  "kernelspec": {
   "display_name": "Python 3 (ipykernel)",
   "language": "python",
   "name": "python3"
  },
  "language_info": {
   "codemirror_mode": {
    "name": "ipython",
    "version": 3
   },
   "file_extension": ".py",
   "mimetype": "text/x-python",
   "name": "python",
   "nbconvert_exporter": "python",
   "pygments_lexer": "ipython3",
   "version": "3.9.7"
  }
 },
 "nbformat": 4,
 "nbformat_minor": 5
}
