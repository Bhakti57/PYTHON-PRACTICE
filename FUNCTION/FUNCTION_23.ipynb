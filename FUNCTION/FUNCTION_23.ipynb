{
 "cells": [
  {
   "cell_type": "code",
   "execution_count": 2,
   "id": "aca21251",
   "metadata": {
    "scrolled": true
   },
   "outputs": [
    {
     "name": "stdout",
     "output_type": "stream",
     "text": [
      "Select an operations :\n",
      "1. Addition\n",
      "2. Substraction\n",
      "3. Multiflication\n",
      "4. Division\n",
      "5. Remiander\n",
      "6. Absolute div\n",
      "Enter a number : 23\n",
      "Enter a number : 23\n",
      "Enter a number as per the required operation : 3\n",
      "The Multiflication is  529.0\n",
      "\n",
      "Want to performe another operation?(Y/N)N\n",
      "OFF\n"
     ]
    }
   ],
   "source": [
    "# 1. Make a calculator using function.\n",
    "def add(a,b):\n",
    "    return(a+b)\n",
    "def sub(a,b):\n",
    "    return(a-b)\n",
    "def multi(a,b):\n",
    "    return(a*b)\n",
    "def div(a,b):\n",
    "    return(a/b)\n",
    "def remn(a,b):\n",
    "    return(a%b)\n",
    "def fdiv(a,b):\n",
    "    return(a//b)\n",
    "print(\"Select an operations :\")\n",
    "print(\"1. Addition\")\n",
    "print(\"2. Substraction\")\n",
    "print(\"3. Multiflication\")\n",
    "print(\"4. Division\")\n",
    "print(\"5. Remiander\")\n",
    "print(\"6. Absolute div\")\n",
    "while True:\n",
    "    a = float(input(\"Enter a number : \"))\n",
    "    b = float(input(\"Enter a number : \"))\n",
    "    choose = int(input(\"Enter a number as per the required operation : \"))\n",
    "    if choose in (1,2,3,4,5,6):\n",
    "        if choose ==1:\n",
    "            print(\"The addition is \", add(a,b))\n",
    "        elif choose ==2:\n",
    "            print(\"The Substrction is\", sub(a,b))\n",
    "        elif choose ==3:\n",
    "            print(\"The Multiflication is \",multi(a,b))\n",
    "        elif choose ==4:\n",
    "            print(\"The division is \", div(a,b))\n",
    "        elif choose ==5:\n",
    "            print(\"The reminder is \", remn(a,b))\n",
    "        elif choose ==6:\n",
    "            print(\"The absolute div is \", fdiv(a,b))\n",
    "        else: print(\"Invalide number.\")\n",
    "        next=input(\"\\nWant to performe another operation?(Y/N)\")\n",
    "        if next == 'N':\n",
    "            print(\"OFF\")\n",
    "            break\n",
    "    else: print(\"Invalide Number\")"
   ]
  },
  {
   "cell_type": "code",
   "execution_count": 3,
   "id": "37f16fca",
   "metadata": {},
   "outputs": [
    {
     "name": "stdout",
     "output_type": "stream",
     "text": [
      "[1, 55, 89, 5, 9, 6]\n"
     ]
    }
   ],
   "source": [
    "# 3. Write a python function that takes a list and returns a new list with unique elements of the first list.\n",
    "\n",
    "def function_1(nums):\n",
    "    list1 = []\n",
    "    for n in nums:\n",
    "        if n not in list1:\n",
    "            list1.append(n)\n",
    "    return list1\n",
    "print(function_1([1,55,89,5,5,9,9,5,6]))"
   ]
  },
  {
   "cell_type": "code",
   "execution_count": 4,
   "id": "7765729b",
   "metadata": {},
   "outputs": [
    {
     "name": "stdout",
     "output_type": "stream",
     "text": [
      "Maximum no is : 10\n",
      "Minimum no is : 8\n"
     ]
    }
   ],
   "source": [
    "# 4. Find maximum and minimum number from two numbers using function.\n",
    "def function(num1, num2):\n",
    "    if num1>num2:\n",
    "        print(\"Maximum no is :\", num1)\n",
    "        print(\"Minimum no is :\", num2)\n",
    "    else:\n",
    "        print(\"Maximum no is :\", num2)\n",
    "        print(\"Minimum no is :\", num1)\n",
    "function(10, 8)"
   ]
  },
  {
   "cell_type": "code",
   "execution_count": 5,
   "id": "89db5b9e",
   "metadata": {},
   "outputs": [
    {
     "name": "stdout",
     "output_type": "stream",
     "text": [
      "18  is maximum and minimum is 9\n"
     ]
    }
   ],
   "source": [
    "def function(n1, n2):\n",
    "    if n1>n2:\n",
    "        print(n1,\" is maximum and minimum is\",n2)\n",
    "    else:\n",
    "        print(n2,\" is maximum and minimum is\",n1)\n",
    "function(9,18)"
   ]
  },
  {
   "cell_type": "code",
   "execution_count": 7,
   "id": "465041ca",
   "metadata": {},
   "outputs": [
    {
     "name": "stdout",
     "output_type": "stream",
     "text": [
      "Enter the string: Hello World\n",
      "Number of uppercase letter is: 2\n",
      "Number of lowercase letter is: 8\n"
     ]
    }
   ],
   "source": [
    "#5. Find the number of uppercases and lowercases letters in string.\n",
    "def string(a):\n",
    "    d={'uppercase':0,'lowercase':0}\n",
    "    for i in a:\n",
    "        if i.isupper():\n",
    "            d['uppercase']+=1\n",
    "            \n",
    "        elif i.islower():\n",
    "            d['lowercase']+=1\n",
    "        else: pass\n",
    "    print(\"Enter the string:\",a)\n",
    "    print(\"Number of uppercase letter is:\",d['uppercase'])\n",
    "    print(\"Number of lowercase letter is:\",d['lowercase'])\n",
    "string(\"Hello World\")"
   ]
  },
  {
   "cell_type": "code",
   "execution_count": 8,
   "id": "f8ac950e",
   "metadata": {},
   "outputs": [
    {
     "name": "stdout",
     "output_type": "stream",
     "text": [
      "Enter a number : 23\n",
      "This is a prime number\n"
     ]
    }
   ],
   "source": [
    "#6. write a program to check number is prime or not.\n",
    "def prime(n):\n",
    "    for i in range(2,n):\n",
    "        if n % 2 == 0:\n",
    "            return \" Not a prime number\"\n",
    "        return \"This is a prime number\"\n",
    "n = int(input(\"Enter a number : \"))\n",
    "print(prime(n))"
   ]
  },
  {
   "cell_type": "code",
   "execution_count": 9,
   "id": "f04c81cd",
   "metadata": {},
   "outputs": [
    {
     "name": "stdout",
     "output_type": "stream",
     "text": [
      "4\n"
     ]
    }
   ],
   "source": [
    "#7. Display the powers of 2 using anonymous functions\n",
    "\n",
    "x = lambda a : a**2\n",
    "print(x(2))"
   ]
  },
  {
   "cell_type": "code",
   "execution_count": 10,
   "id": "7e81a08e",
   "metadata": {},
   "outputs": [
    {
     "name": "stdout",
     "output_type": "stream",
     "text": [
      "4\n",
      "4\n"
     ]
    }
   ],
   "source": [
    "def s(n1):\n",
    "     print(n1)\n",
    "     n1 = n1 +2\n",
    "n2=4\n",
    "s(n2)\n",
    "print(n2)"
   ]
  },
  {
   "cell_type": "code",
   "execution_count": 11,
   "id": "0986a100",
   "metadata": {},
   "outputs": [
    {
     "name": "stdout",
     "output_type": "stream",
     "text": [
      "3 5 "
     ]
    }
   ],
   "source": [
    "x = 3\n",
    "def myfunc():\n",
    "      global x\n",
    "      x+=2\n",
    "     \n",
    "print(x, end=' ')\n",
    "myfunc()\n",
    "print(x, end=' ')"
   ]
  },
  {
   "cell_type": "code",
   "execution_count": 14,
   "id": "1a3730f9",
   "metadata": {},
   "outputs": [
    {
     "name": "stdout",
     "output_type": "stream",
     "text": [
      "50#5\n"
     ]
    }
   ],
   "source": [
    "value = 50\n",
    "def display(N):\n",
    "    global value\n",
    "    value = 25\n",
    "    if N%7==0:\n",
    "        value = value + N\n",
    "    else:\n",
    "        value = value - N\n",
    "print(value, end=\"#\")\n",
    "display(20)\n",
    "print(value)"
   ]
  },
  {
   "cell_type": "code",
   "execution_count": null,
   "id": "6267fbab",
   "metadata": {},
   "outputs": [],
   "source": []
  }
 ],
 "metadata": {
  "kernelspec": {
   "display_name": "Python 3 (ipykernel)",
   "language": "python",
   "name": "python3"
  },
  "language_info": {
   "codemirror_mode": {
    "name": "ipython",
    "version": 3
   },
   "file_extension": ".py",
   "mimetype": "text/x-python",
   "name": "python",
   "nbconvert_exporter": "python",
   "pygments_lexer": "ipython3",
   "version": "3.9.7"
  }
 },
 "nbformat": 4,
 "nbformat_minor": 5
}
