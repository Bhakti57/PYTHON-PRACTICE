{
 "cells": [
  {
   "cell_type": "code",
   "execution_count": 1,
   "id": "db9b8f21",
   "metadata": {},
   "outputs": [
    {
     "name": "stdout",
     "output_type": "stream",
     "text": [
      "15\n"
     ]
    }
   ],
   "source": [
    "x = lambda a : a + 10\n",
    "print(x(5))\n"
   ]
  },
  {
   "cell_type": "code",
   "execution_count": 2,
   "id": "0a8af3b6",
   "metadata": {},
   "outputs": [
    {
     "name": "stdout",
     "output_type": "stream",
     "text": [
      "30\n"
     ]
    }
   ],
   "source": [
    "x = lambda a, b : a * b\n",
    "print(x(5, 6))\n"
   ]
  },
  {
   "cell_type": "code",
   "execution_count": 3,
   "id": "ec359f4b",
   "metadata": {},
   "outputs": [
    {
     "name": "stdout",
     "output_type": "stream",
     "text": [
      "13\n"
     ]
    }
   ],
   "source": [
    "x = lambda a, b, c : a + b + c\n",
    "print(x(5, 6, 2))"
   ]
  },
  {
   "cell_type": "code",
   "execution_count": 4,
   "id": "7b3cbf93",
   "metadata": {},
   "outputs": [
    {
     "data": {
      "text/plain": [
       "25"
      ]
     },
     "execution_count": 4,
     "metadata": {},
     "output_type": "execute_result"
    }
   ],
   "source": [
    "(lambda x: x*x)(5)\n"
   ]
  },
  {
   "cell_type": "code",
   "execution_count": 5,
   "id": "deaba89c",
   "metadata": {},
   "outputs": [
    {
     "name": "stdout",
     "output_type": "stream",
     "text": [
      "Calling function argument:\n",
      "Hello World\n"
     ]
    }
   ],
   "source": [
    "def dosomething(fn):\n",
    "    print('Calling function argument:')\n",
    "    fn()\n",
    " \n",
    "#without variable lambda function\n",
    "dosomething(lambda : print('Hello World'))"
   ]
  },
  {
   "cell_type": "code",
   "execution_count": 9,
   "id": "8b9f7fb1",
   "metadata": {},
   "outputs": [
    {
     "name": "stdout",
     "output_type": "stream",
     "text": [
      "Even numbers are: [10, 12, 78, 6]\n"
     ]
    }
   ],
   "source": [
    "def even_numbers(nums):\n",
    "    even_list = []\n",
    "    for n in nums:\n",
    "        if n % 2 == 0:\n",
    "            even_list.append(n)\n",
    "    return even_list\n",
    "num_list = [10, 5, 12, 78, 6, 1, 7, 9]\n",
    "ans = even_numbers(num_list)\n",
    "print(\"Even numbers are:\", ans)\n"
   ]
  },
  {
   "cell_type": "code",
   "execution_count": 10,
   "id": "d2e42c7f",
   "metadata": {},
   "outputs": [
    {
     "name": "stdout",
     "output_type": "stream",
     "text": [
      "Even numbers are:  [10, 12, 78, 6]\n"
     ]
    }
   ],
   "source": [
    "l = [10, 5, 12, 78, 6, 1, 7, 9]\n",
    "even_nos = list(filter(lambda x: x % 2 == 0, l))\n",
    "print(\"Even numbers are: \", even_nos)"
   ]
  },
  {
   "cell_type": "code",
   "execution_count": 11,
   "id": "a6ff934d",
   "metadata": {},
   "outputs": [
    {
     "name": "stdout",
     "output_type": "stream",
     "text": [
      "[4, 6, 8, 12]\n"
     ]
    }
   ],
   "source": [
    "# Program to filter out only the even items from a list\n",
    "my_list = [1, 5, 4, 6, 8, 11, 3, 12]\n",
    "new_list = list(filter(lambda x: (x%2 == 0) , my_list))\n",
    "print(new_list)\n"
   ]
  },
  {
   "cell_type": "code",
   "execution_count": 12,
   "id": "cffec19a",
   "metadata": {},
   "outputs": [
    {
     "name": "stdout",
     "output_type": "stream",
     "text": [
      "[2, 10, 8, 12, 16, 22, 6, 24]\n"
     ]
    }
   ],
   "source": [
    "# Program to double each item in a list using map()\n",
    "my_list = [1, 5, 4, 6, 8, 11, 3, 12]\n",
    "new_list = list(map(lambda x: x * 2 , my_list))\n",
    "print(new_list)"
   ]
  },
  {
   "cell_type": "code",
   "execution_count": null,
   "id": "e3a6a5f3",
   "metadata": {},
   "outputs": [],
   "source": []
  }
 ],
 "metadata": {
  "kernelspec": {
   "display_name": "Python 3 (ipykernel)",
   "language": "python",
   "name": "python3"
  },
  "language_info": {
   "codemirror_mode": {
    "name": "ipython",
    "version": 3
   },
   "file_extension": ".py",
   "mimetype": "text/x-python",
   "name": "python",
   "nbconvert_exporter": "python",
   "pygments_lexer": "ipython3",
   "version": "3.9.7"
  }
 },
 "nbformat": 4,
 "nbformat_minor": 5
}
