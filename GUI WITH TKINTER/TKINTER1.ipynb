{
 "cells": [
  {
   "cell_type": "code",
   "execution_count": 34,
   "id": "4caa491d",
   "metadata": {},
   "outputs": [],
   "source": [
    "from tkinter import * \n",
    "root=Tk()\n",
    "root.geometry(\"665x453\")\n",
    "root.minsize(350,200)\n",
    "root.maxsize(1300,964)\n",
    "f1=Frame(root, bg=\"blue\", borderwidth=24, relief=SUNKEN)\n",
    "f1.pack()\n",
    "bhakti=Label(f1, text=\"Bhakti\", font=\"Helvetica 20 bold\", fg=\"red\",  pady=24)\n",
    "bhakti.pack(side=LEFT, anchor= \"nw\")\n",
    "\n",
    "root.mainloop()\n"
   ]
  },
  {
   "cell_type": "code",
   "execution_count": null,
   "id": "1b19d83b",
   "metadata": {},
   "outputs": [],
   "source": []
  },
  {
   "cell_type": "code",
   "execution_count": null,
   "id": "8b4be3ee",
   "metadata": {},
   "outputs": [],
   "source": []
  }
 ],
 "metadata": {
  "kernelspec": {
   "display_name": "Python 3 (ipykernel)",
   "language": "python",
   "name": "python3"
  },
  "language_info": {
   "codemirror_mode": {
    "name": "ipython",
    "version": 3
   },
   "file_extension": ".py",
   "mimetype": "text/x-python",
   "name": "python",
   "nbconvert_exporter": "python",
   "pygments_lexer": "ipython3",
   "version": "3.9.7"
  }
 },
 "nbformat": 4,
 "nbformat_minor": 5
}
