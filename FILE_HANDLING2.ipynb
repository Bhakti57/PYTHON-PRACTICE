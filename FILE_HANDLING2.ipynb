{
 "cells": [
  {
   "cell_type": "code",
   "execution_count": 1,
   "id": "9eb87b99",
   "metadata": {},
   "outputs": [],
   "source": [
    "import os"
   ]
  },
  {
   "cell_type": "code",
   "execution_count": 2,
   "id": "57b97cf4",
   "metadata": {},
   "outputs": [
    {
     "data": {
      "text/plain": [
       "'C:\\\\Users\\\\Bhakti'"
      ]
     },
     "execution_count": 2,
     "metadata": {},
     "output_type": "execute_result"
    }
   ],
   "source": [
    "os.getcwd()"
   ]
  },
  {
   "cell_type": "code",
   "execution_count": 3,
   "id": "7cead9e8",
   "metadata": {},
   "outputs": [
    {
     "name": "stdout",
     "output_type": "stream",
     "text": [
      "C:\\Users\\Bhakti\n"
     ]
    }
   ],
   "source": [
    "print(os.getcwd())#remove extra backslash"
   ]
  },
  {
   "cell_type": "code",
   "execution_count": 7,
   "id": "117cb381",
   "metadata": {},
   "outputs": [],
   "source": [
    "os.chdir('d:\\\\')"
   ]
  },
  {
   "cell_type": "code",
   "execution_count": 8,
   "id": "26b11dce",
   "metadata": {},
   "outputs": [
    {
     "name": "stdout",
     "output_type": "stream",
     "text": [
      "d:\\\n"
     ]
    }
   ],
   "source": [
    "print(os.getcwd())"
   ]
  },
  {
   "cell_type": "code",
   "execution_count": 9,
   "id": "fe6dc858",
   "metadata": {},
   "outputs": [
    {
     "data": {
      "text/plain": [
       "['!qhlogs.doc',\n",
       " '$RECYCLE.BIN',\n",
       " 'anaconda',\n",
       " 'bhakti',\n",
       " 'IMG_20220421_114506.jpg',\n",
       " 'IMG_20220421_114520.jpg',\n",
       " 'IMG_20220421_114524.jpg',\n",
       " 'IMG_20220421_114527.jpg',\n",
       " 'IMG_20220421_141607.jpg',\n",
       " 'IMG_20220421_141611.jpg',\n",
       " 'IMG_20220421_141614.jpg',\n",
       " 'PHOTO-2021-10-21-10-10-29.jpg',\n",
       " 'PHOTO-2021-10-21-10-10-32.jpg',\n",
       " 'PHOTO-2021-10-21-10-10-41.jpg',\n",
       " 'PHOTO-2021-10-21-10-10-54.jpg',\n",
       " 'PHOTO-2021-10-21-10-10-57.jpg',\n",
       " 'PHOTO-2021-10-21-10-10-58.jpg',\n",
       " 'Python',\n",
       " 'Quick Heal',\n",
       " 'Screenshot_2022-04-21-19-34-27-820_com.whatsapp.jpg',\n",
       " 'System Volume Information']"
      ]
     },
     "execution_count": 9,
     "metadata": {},
     "output_type": "execute_result"
    }
   ],
   "source": [
    "os.listdir()"
   ]
  },
  {
   "cell_type": "code",
   "execution_count": 10,
   "id": "bc923e82",
   "metadata": {},
   "outputs": [],
   "source": [
    "import pickle"
   ]
  },
  {
   "cell_type": "code",
   "execution_count": 11,
   "id": "0dd822f4",
   "metadata": {},
   "outputs": [],
   "source": [
    "textbook = [\"English\", \"Hindi\", \"Maths\", \"Science\", \"History\", \"Geography\"]"
   ]
  },
  {
   "cell_type": "code",
   "execution_count": 12,
   "id": "5af1b7c3",
   "metadata": {},
   "outputs": [],
   "source": [
    "file = \"mytext.pkl\""
   ]
  },
  {
   "cell_type": "code",
   "execution_count": 13,
   "id": "f9fb73da",
   "metadata": {},
   "outputs": [],
   "source": [
    "fileobj = open(file,\"wb\")"
   ]
  },
  {
   "cell_type": "code",
   "execution_count": 14,
   "id": "6e4773fc",
   "metadata": {},
   "outputs": [],
   "source": [
    "pickle.dump(textbook, fileobj)"
   ]
  },
  {
   "cell_type": "code",
   "execution_count": 15,
   "id": "80a94ac8",
   "metadata": {},
   "outputs": [],
   "source": [
    "fileobj.close()"
   ]
  },
  {
   "cell_type": "code",
   "execution_count": 16,
   "id": "5c8d631f",
   "metadata": {},
   "outputs": [],
   "source": [
    "file1 = \"mytext.pkl\""
   ]
  },
  {
   "cell_type": "code",
   "execution_count": 17,
   "id": "79451e58",
   "metadata": {},
   "outputs": [],
   "source": [
    "fileobj1 = open(file1,\"rb\")"
   ]
  },
  {
   "cell_type": "code",
   "execution_count": 19,
   "id": "60601764",
   "metadata": {},
   "outputs": [],
   "source": [
    "MyText = pickle.load(fileobj1)"
   ]
  },
  {
   "cell_type": "code",
   "execution_count": 20,
   "id": "7900a783",
   "metadata": {},
   "outputs": [
    {
     "name": "stdout",
     "output_type": "stream",
     "text": [
      "['English', 'Hindi', 'Maths', 'Science', 'History', 'Geography']\n"
     ]
    }
   ],
   "source": [
    "print(MyText)"
   ]
  },
  {
   "cell_type": "code",
   "execution_count": 21,
   "id": "a4d1fca2",
   "metadata": {},
   "outputs": [
    {
     "name": "stdout",
     "output_type": "stream",
     "text": [
      "<class 'list'>\n"
     ]
    }
   ],
   "source": [
    "print(type(MyText))"
   ]
  },
  {
   "cell_type": "code",
   "execution_count": null,
   "id": "4bf47bc1",
   "metadata": {},
   "outputs": [],
   "source": []
  }
 ],
 "metadata": {
  "kernelspec": {
   "display_name": "Python 3 (ipykernel)",
   "language": "python",
   "name": "python3"
  },
  "language_info": {
   "codemirror_mode": {
    "name": "ipython",
    "version": 3
   },
   "file_extension": ".py",
   "mimetype": "text/x-python",
   "name": "python",
   "nbconvert_exporter": "python",
   "pygments_lexer": "ipython3",
   "version": "3.9.7"
  }
 },
 "nbformat": 4,
 "nbformat_minor": 5
}
