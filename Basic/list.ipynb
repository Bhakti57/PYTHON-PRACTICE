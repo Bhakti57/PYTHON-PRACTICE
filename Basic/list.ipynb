{
 "cells": [
  {
   "cell_type": "code",
   "execution_count": 1,
   "id": "579e2e69",
   "metadata": {},
   "outputs": [
    {
     "name": "stdout",
     "output_type": "stream",
     "text": [
      "['bhakti', 20, 'IT', 'Bhandup']\n"
     ]
    }
   ],
   "source": [
    "a=[\"bhakti\",20,\"IT\",\"Bhandup\"]\n",
    "print(a)"
   ]
  },
  {
   "cell_type": "code",
   "execution_count": 12,
   "id": "083e0a1a",
   "metadata": {},
   "outputs": [
    {
     "data": {
      "text/plain": [
       "'IT'"
      ]
     },
     "execution_count": 12,
     "metadata": {},
     "output_type": "execute_result"
    }
   ],
   "source": [
    "a[2]"
   ]
  },
  {
   "cell_type": "code",
   "execution_count": 6,
   "id": "90f95d17",
   "metadata": {},
   "outputs": [
    {
     "name": "stdout",
     "output_type": "stream",
     "text": [
      "['IT']\n"
     ]
    }
   ],
   "source": [
    "print(a[2:3])"
   ]
  },
  {
   "cell_type": "code",
   "execution_count": 10,
   "id": "d8959462",
   "metadata": {},
   "outputs": [
    {
     "data": {
      "text/plain": [
       "'Bhandup'"
      ]
     },
     "execution_count": 10,
     "metadata": {},
     "output_type": "execute_result"
    }
   ],
   "source": [
    "a[3]"
   ]
  },
  {
   "cell_type": "code",
   "execution_count": 11,
   "id": "4cfe2ca2",
   "metadata": {},
   "outputs": [
    {
     "data": {
      "text/plain": [
       "3"
      ]
     },
     "execution_count": 11,
     "metadata": {},
     "output_type": "execute_result"
    }
   ],
   "source": [
    "a.index(\"Bhandup\")"
   ]
  },
  {
   "cell_type": "code",
   "execution_count": 17,
   "id": "2cea07a2",
   "metadata": {},
   "outputs": [
    {
     "name": "stdout",
     "output_type": "stream",
     "text": [
      "[20, 'IT', 'Bhandup']\n"
     ]
    }
   ],
   "source": [
    "print(a[1:4])"
   ]
  },
  {
   "cell_type": "code",
   "execution_count": 18,
   "id": "918f3f20",
   "metadata": {},
   "outputs": [
    {
     "name": "stdout",
     "output_type": "stream",
     "text": [
      "[20, 'IT', 'Bhandup']\n"
     ]
    }
   ],
   "source": [
    "print(a[-3:])"
   ]
  },
  {
   "cell_type": "code",
   "execution_count": 19,
   "id": "7612fbbd",
   "metadata": {},
   "outputs": [
    {
     "name": "stdout",
     "output_type": "stream",
     "text": [
      "['more', 20, 'IT', 'Bhandup']\n"
     ]
    }
   ],
   "source": [
    "a[0]=\"more\"\n",
    "print(a)"
   ]
  },
  {
   "cell_type": "code",
   "execution_count": 20,
   "id": "6497c201",
   "metadata": {},
   "outputs": [
    {
     "name": "stdout",
     "output_type": "stream",
     "text": [
      "['more', 21, 'science', 'Bhandup']\n"
     ]
    }
   ],
   "source": [
    "a=[\"bhakti\",20,\"IT\",\"Bhandup\"]\n",
    "a[0]=\"more\"\n",
    "a[1]=21\n",
    "a[2]=\"science\"\n",
    "print(a)"
   ]
  },
  {
   "cell_type": "code",
   "execution_count": 24,
   "id": "dd8f1c60",
   "metadata": {},
   "outputs": [
    {
     "name": "stdout",
     "output_type": "stream",
     "text": [
      "['more', 'IT', 'Bhandup']\n"
     ]
    }
   ],
   "source": [
    "a=[\"bhakti\",20,\"IT\",\"Bhandup\"]\n",
    "a[0:2]=[\"more\"]\n",
    "print(a)"
   ]
  },
  {
   "cell_type": "code",
   "execution_count": 26,
   "id": "ba243146",
   "metadata": {},
   "outputs": [
    {
     "name": "stdout",
     "output_type": "stream",
     "text": [
      "[['bhakti', 'more'], 20, 'IT', 'Bhandup']\n"
     ]
    }
   ],
   "source": [
    "a=[\"bhakti\",20,\"IT\",\"Bhandup\"]\n",
    "a[0]=[\"bhakti\",\"more\"]\n",
    "print(a)"
   ]
  },
  {
   "cell_type": "code",
   "execution_count": 28,
   "id": "9f3ddddc",
   "metadata": {},
   "outputs": [
    {
     "name": "stdout",
     "output_type": "stream",
     "text": [
      "['bhakti', 'more', 20, 'IT', 'Bhandup']\n"
     ]
    }
   ],
   "source": [
    "a=[\"bhakti\",20,\"IT\",\"Bhandup\"]\n",
    "a.insert(1,\"more\")\n",
    "print(a)"
   ]
  },
  {
   "cell_type": "code",
   "execution_count": 34,
   "id": "e5b763e5",
   "metadata": {},
   "outputs": [
    {
     "name": "stdout",
     "output_type": "stream",
     "text": [
      "['bhakti', 'more', 20, 'IT', 'Bhandup', 'drawing']\n"
     ]
    }
   ],
   "source": [
    "a=['bhakti', 'more', 20, 'IT', 'Bhandup']\n",
    "a.append(\"drawing\")\n",
    "print(a)"
   ]
  },
  {
   "cell_type": "code",
   "execution_count": 44,
   "id": "858fbaa4",
   "metadata": {},
   "outputs": [
    {
     "name": "stdout",
     "output_type": "stream",
     "text": [
      "['bhakti', 'more', 20, 'IT', 'Bhandup', 'drawing', 'cooking']\n"
     ]
    }
   ],
   "source": [
    "a=['bhakti', 'more', 20, 'IT', 'Bhandup']\n",
    "a.extend([\"drawing\",\"cooking\"])\n",
    "print(a)\n",
    "\n"
   ]
  },
  {
   "cell_type": "code",
   "execution_count": 45,
   "id": "db73cc2e",
   "metadata": {},
   "outputs": [
    {
     "data": {
      "text/plain": [
       "'Bhandup'"
      ]
     },
     "execution_count": 45,
     "metadata": {},
     "output_type": "execute_result"
    }
   ],
   "source": [
    "a.pop(4)"
   ]
  },
  {
   "cell_type": "code",
   "execution_count": 46,
   "id": "f58e18f4",
   "metadata": {},
   "outputs": [
    {
     "name": "stdout",
     "output_type": "stream",
     "text": [
      "['bhakti', 'more', 20, 'IT', 'drawing', 'cooking']\n"
     ]
    }
   ],
   "source": [
    "print(a)"
   ]
  },
  {
   "cell_type": "code",
   "execution_count": 47,
   "id": "0ee486f0",
   "metadata": {},
   "outputs": [
    {
     "name": "stdout",
     "output_type": "stream",
     "text": [
      "20\n"
     ]
    }
   ],
   "source": [
    "print(a.pop(2))"
   ]
  },
  {
   "cell_type": "code",
   "execution_count": 52,
   "id": "8b9923c4",
   "metadata": {},
   "outputs": [
    {
     "name": "stdout",
     "output_type": "stream",
     "text": [
      "['bhakti', 'more', 'IT', 'drawing', 'cooking']\n"
     ]
    }
   ],
   "source": [
    "a=['bhakti', 'more', 20, 'IT', 'drawing', 'cooking']\n",
    "a.remove(20)\n",
    "print(a)"
   ]
  },
  {
   "cell_type": "code",
   "execution_count": 54,
   "id": "6075c4eb",
   "metadata": {},
   "outputs": [
    {
     "name": "stdout",
     "output_type": "stream",
     "text": [
      "['bhakti', 'more', 'IT', 'drawing', 'cooking']\n"
     ]
    }
   ],
   "source": [
    "a=['bhakti', 'more', 20, 'IT', 'drawing', 'cooking']\n",
    "del a[2]\n",
    "print(a)"
   ]
  },
  {
   "cell_type": "code",
   "execution_count": 55,
   "id": "a01eb462",
   "metadata": {},
   "outputs": [
    {
     "name": "stdout",
     "output_type": "stream",
     "text": [
      "['bhakti', 'more', 20, 'IT', 'drawing', 'cooking']\n"
     ]
    }
   ],
   "source": [
    "a=['bhakti', 'more', 20, 'IT', 'Bhandup', 'drawing', 'cooking']\n",
    "a.pop(4)\n",
    "print(a)"
   ]
  },
  {
   "cell_type": "code",
   "execution_count": 58,
   "id": "5b79d64d",
   "metadata": {},
   "outputs": [
    {
     "name": "stdout",
     "output_type": "stream",
     "text": [
      "[]\n"
     ]
    }
   ],
   "source": [
    "a=['bhakti', 'more', 20, 'IT', 'drawing', 'cooking']\n",
    "a.clear()\n",
    "print(a)"
   ]
  },
  {
   "cell_type": "code",
   "execution_count": 59,
   "id": "1debf743",
   "metadata": {},
   "outputs": [
    {
     "ename": "NameError",
     "evalue": "name 'a' is not defined",
     "output_type": "error",
     "traceback": [
      "\u001b[1;31m---------------------------------------------------------------------------\u001b[0m",
      "\u001b[1;31mNameError\u001b[0m                                 Traceback (most recent call last)",
      "\u001b[1;32m~\\AppData\\Local\\Temp/ipykernel_4304/3699816710.py\u001b[0m in \u001b[0;36m<module>\u001b[1;34m\u001b[0m\n\u001b[0;32m      1\u001b[0m \u001b[0ma\u001b[0m\u001b[1;33m=\u001b[0m\u001b[1;33m[\u001b[0m\u001b[1;34m'bhakti'\u001b[0m\u001b[1;33m,\u001b[0m \u001b[1;34m'more'\u001b[0m\u001b[1;33m,\u001b[0m \u001b[1;36m20\u001b[0m\u001b[1;33m,\u001b[0m \u001b[1;34m'IT'\u001b[0m\u001b[1;33m,\u001b[0m \u001b[1;34m'drawing'\u001b[0m\u001b[1;33m,\u001b[0m \u001b[1;34m'cooking'\u001b[0m\u001b[1;33m]\u001b[0m\u001b[1;33m\u001b[0m\u001b[1;33m\u001b[0m\u001b[0m\n\u001b[0;32m      2\u001b[0m \u001b[1;32mdel\u001b[0m \u001b[0ma\u001b[0m\u001b[1;33m\u001b[0m\u001b[1;33m\u001b[0m\u001b[0m\n\u001b[1;32m----> 3\u001b[1;33m \u001b[0mprint\u001b[0m\u001b[1;33m(\u001b[0m\u001b[0ma\u001b[0m\u001b[1;33m)\u001b[0m\u001b[1;33m\u001b[0m\u001b[1;33m\u001b[0m\u001b[0m\n\u001b[0m",
      "\u001b[1;31mNameError\u001b[0m: name 'a' is not defined"
     ]
    }
   ],
   "source": [
    "a=['bhakti', 'more', 20, 'IT', 'drawing', 'cooking']\n",
    "del a\n",
    "print(a)"
   ]
  },
  {
   "cell_type": "code",
   "execution_count": 60,
   "id": "54640b25",
   "metadata": {},
   "outputs": [
    {
     "name": "stdout",
     "output_type": "stream",
     "text": [
      "[2, 3, 5, 7, 11, 13, 17, 19]\n"
     ]
    },
    {
     "data": {
      "text/plain": [
       "8"
      ]
     },
     "execution_count": 60,
     "metadata": {},
     "output_type": "execute_result"
    }
   ],
   "source": [
    "prime=[2,3,5,7,11,13,17,19]\n",
    "print(prime)\n",
    "len(prime)"
   ]
  },
  {
   "cell_type": "code",
   "execution_count": 64,
   "id": "497752d8",
   "metadata": {},
   "outputs": [
    {
     "name": "stdout",
     "output_type": "stream",
     "text": [
      "[5, 2, 18, 7, 12]\n"
     ]
    }
   ],
   "source": [
    "list=[5,2,18,7,12]\n",
    "print(list)\n",
    "list.sort()"
   ]
  },
  {
   "cell_type": "code",
   "execution_count": 71,
   "id": "4f13994c",
   "metadata": {},
   "outputs": [
    {
     "name": "stdout",
     "output_type": "stream",
     "text": [
      "[2, 5, 7, 12, 18]\n",
      "[18, 12, 7, 5, 2]\n"
     ]
    }
   ],
   "source": [
    "list.sort()\n",
    "print(list)\n",
    "list.reverse()\n",
    "print(list)"
   ]
  },
  {
   "cell_type": "code",
   "execution_count": 72,
   "id": "36ebbec0",
   "metadata": {},
   "outputs": [
    {
     "name": "stdout",
     "output_type": "stream",
     "text": [
      "[2, 5, 6, 3, 6, 9, 10, 25]\n"
     ]
    }
   ],
   "source": [
    "a=[2,5,6,3]\n",
    "b=[6,9,10,25]\n",
    "c=a+b\n",
    "print(c)"
   ]
  },
  {
   "cell_type": "code",
   "execution_count": 81,
   "id": "56dcfcc1",
   "metadata": {},
   "outputs": [
    {
     "name": "stdout",
     "output_type": "stream",
     "text": [
      "[2, 5, 6, 3, 6, 9, 10, 25]\n",
      "[2, 5, 6, 3, 6, 9, 10, 25]\n"
     ]
    }
   ],
   "source": [
    "a=[2, 5, 6, 3, 6, 9, 10, 25]\n",
    "b=a\n",
    "print(a)\n",
    "print(b)"
   ]
  },
  {
   "cell_type": "code",
   "execution_count": 82,
   "id": "ca386ce4",
   "metadata": {},
   "outputs": [
    {
     "name": "stdout",
     "output_type": "stream",
     "text": [
      "[2, 5, 6, 3, 6, 9, 10, 25, 52]\n",
      "[2, 5, 6, 3, 6, 9, 10, 25, 52]\n"
     ]
    }
   ],
   "source": [
    "a.append(52)\n",
    "print(a)\n",
    "print(b)"
   ]
  },
  {
   "cell_type": "code",
   "execution_count": 84,
   "id": "3cb1f96a",
   "metadata": {},
   "outputs": [
    {
     "name": "stdout",
     "output_type": "stream",
     "text": [
      "[3, 4, 5, 7, 5]\n",
      "[3, 4, 5, 7, 5]\n"
     ]
    }
   ],
   "source": [
    "a=[3,4,5,7,5]\n",
    "b=a.copy()\n",
    "print(a)\n",
    "print(b)"
   ]
  },
  {
   "cell_type": "code",
   "execution_count": 85,
   "id": "bcd8119a",
   "metadata": {},
   "outputs": [
    {
     "name": "stdout",
     "output_type": "stream",
     "text": [
      "[3, 4, 5, 7, 5, 6]\n",
      "[3, 4, 5, 7, 5]\n"
     ]
    }
   ],
   "source": [
    "a.append(6)\n",
    "print(a)\n",
    "print(b)"
   ]
  },
  {
   "cell_type": "code",
   "execution_count": 86,
   "id": "578500f5",
   "metadata": {},
   "outputs": [
    {
     "name": "stdout",
     "output_type": "stream",
     "text": [
      "['bhakti', 'prakash', 'more']\n"
     ]
    }
   ],
   "source": [
    "a=[\"bhakti\",\"prakash\"]\n",
    "a.append(\"more\")\n",
    "print(a)"
   ]
  },
  {
   "cell_type": "code",
   "execution_count": 87,
   "id": "8d0aca37",
   "metadata": {},
   "outputs": [
    {
     "name": "stdout",
     "output_type": "stream",
     "text": [
      "['bhakti', 'prakash']\n"
     ]
    }
   ],
   "source": [
    "a.pop()\n",
    "print(a)"
   ]
  },
  {
   "cell_type": "code",
   "execution_count": 88,
   "id": "a605b594",
   "metadata": {},
   "outputs": [
    {
     "name": "stdout",
     "output_type": "stream",
     "text": [
      "['bhakti', 'prakash', 'more']\n"
     ]
    }
   ],
   "source": [
    "a.append(\"more\")\n",
    "print(a)"
   ]
  },
  {
   "cell_type": "code",
   "execution_count": 89,
   "id": "6aa09b9f",
   "metadata": {},
   "outputs": [
    {
     "name": "stdout",
     "output_type": "stream",
     "text": [
      "['prakash', 'more']\n"
     ]
    }
   ],
   "source": [
    "a.pop(0)\n",
    "print(a)"
   ]
  },
  {
   "cell_type": "code",
   "execution_count": 115,
   "id": "36b0be9e",
   "metadata": {},
   "outputs": [
    {
     "name": "stdout",
     "output_type": "stream",
     "text": [
      "<zip object at 0x000001F24F94CF00>\n"
     ]
    }
   ],
   "source": [
    "natural_number=[1,2,3,4]\n",
    "name=[\"bhakti\",\"sweta\",\"aishwarya\",\"komal\"]\n",
    "age=[20,24,22,27]\n",
    "roll_no=[8203,8204,8205,8206]\n",
    "new=zip(natural_number,name,age,roll_no)\n",
    "\n",
    "print(new)\n"
   ]
  },
  {
   "cell_type": "code",
   "execution_count": 1,
   "id": "142ab7ae",
   "metadata": {},
   "outputs": [
    {
     "name": "stdout",
     "output_type": "stream",
     "text": [
      "[(1, 'bhakti', 20, 8203), (2, 'sweta', 24, 8204), (3, 'aishwarya', 22, 8205), (4, 'komal', 27, 8206)]\n"
     ]
    }
   ],
   "source": [
    "natural_number=[1,2,3,4]\n",
    "name=[\"bhakti\",\"sweta\",\"aishwarya\",\"komal\"]\n",
    "age=[20,24,22,27]\n",
    "roll_no=[8203,8204,8205,8206]\n",
    "new = zip(natural_number,name,age,roll_no)\n",
    "new =list(new)\n",
    "print(new)"
   ]
  },
  {
   "cell_type": "code",
   "execution_count": 4,
   "id": "4173cb3a",
   "metadata": {},
   "outputs": [
    {
     "name": "stdout",
     "output_type": "stream",
     "text": [
      "(1, 2, 3, 4)\n",
      "('bhakti', 'sweta', 'aishwarya', 'komal')\n",
      "(20, 24, 22, 27)\n",
      "(8203, 8204, 8205, 8206)\n"
     ]
    }
   ],
   "source": [
    "natural_number,name,age,roll_no=zip(*new)\n",
    "print(natural_number)\n",
    "print(name)\n",
    "print(age)\n",
    "print(roll_no)"
   ]
  },
  {
   "cell_type": "code",
   "execution_count": null,
   "id": "aee8ce6a",
   "metadata": {},
   "outputs": [],
   "source": []
  }
 ],
 "metadata": {
  "kernelspec": {
   "display_name": "Python 3 (ipykernel)",
   "language": "python",
   "name": "python3"
  },
  "language_info": {
   "codemirror_mode": {
    "name": "ipython",
    "version": 3
   },
   "file_extension": ".py",
   "mimetype": "text/x-python",
   "name": "python",
   "nbconvert_exporter": "python",
   "pygments_lexer": "ipython3",
   "version": "3.9.7"
  }
 },
 "nbformat": 4,
 "nbformat_minor": 5
}
