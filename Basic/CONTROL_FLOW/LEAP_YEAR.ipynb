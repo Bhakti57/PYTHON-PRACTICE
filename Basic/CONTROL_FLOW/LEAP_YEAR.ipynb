{
 "cells": [
  {
   "cell_type": "code",
   "execution_count": 5,
   "id": "1fffbb7e",
   "metadata": {},
   "outputs": [
    {
     "name": "stdout",
     "output_type": "stream",
     "text": [
      "Enter the year:2022\n",
      "2022  is not leap year\n"
     ]
    }
   ],
   "source": [
    "#Check whether year is leap year or not.\n",
    "year=int(input(\"Enter the year:\"))\n",
    "if year/400==0:\n",
    "    print(year ,\" is leap year\")\n",
    "elif year/4==0:\n",
    "    print(year ,\" is leap year\")\n",
    "else:\n",
    "    print(year ,\" is not leap year\")"
   ]
  },
  {
   "cell_type": "code",
   "execution_count": null,
   "id": "d49f7b82",
   "metadata": {},
   "outputs": [],
   "source": []
  },
  {
   "cell_type": "code",
   "execution_count": null,
   "id": "254a8347",
   "metadata": {},
   "outputs": [],
   "source": []
  }
 ],
 "metadata": {
  "kernelspec": {
   "display_name": "Python 3 (ipykernel)",
   "language": "python",
   "name": "python3"
  },
  "language_info": {
   "codemirror_mode": {
    "name": "ipython",
    "version": 3
   },
   "file_extension": ".py",
   "mimetype": "text/x-python",
   "name": "python",
   "nbconvert_exporter": "python",
   "pygments_lexer": "ipython3",
   "version": "3.9.7"
  }
 },
 "nbformat": 4,
 "nbformat_minor": 5
}
