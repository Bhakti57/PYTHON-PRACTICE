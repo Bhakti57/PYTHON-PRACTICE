{
 "cells": [
  {
   "cell_type": "code",
   "execution_count": 6,
   "id": "60366974",
   "metadata": {},
   "outputs": [
    {
     "name": "stdout",
     "output_type": "stream",
     "text": [
      "Enter the age:10\n",
      "person is not eligible for voting.\n"
     ]
    }
   ],
   "source": [
    "#Check whether the person is eligible for voting or not.\n",
    "age=int(input(\"Enter the age:\"))\n",
    "if age>=18:\n",
    "     print(\"person is eligible for voting.\")\n",
    "else: \n",
    "     print(\"person is not eligible for voting.\")"
   ]
  },
  {
   "cell_type": "code",
   "execution_count": null,
   "id": "5b57095b",
   "metadata": {},
   "outputs": [],
   "source": []
  }
 ],
 "metadata": {
  "kernelspec": {
   "display_name": "Python 3 (ipykernel)",
   "language": "python",
   "name": "python3"
  },
  "language_info": {
   "codemirror_mode": {
    "name": "ipython",
    "version": 3
   },
   "file_extension": ".py",
   "mimetype": "text/x-python",
   "name": "python",
   "nbconvert_exporter": "python",
   "pygments_lexer": "ipython3",
   "version": "3.9.7"
  }
 },
 "nbformat": 4,
 "nbformat_minor": 5
}
