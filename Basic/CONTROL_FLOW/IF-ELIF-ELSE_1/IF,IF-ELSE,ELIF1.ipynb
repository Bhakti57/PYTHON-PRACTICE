{
 "cells": [
  {
   "cell_type": "code",
   "execution_count": 3,
   "id": "59d635f9",
   "metadata": {},
   "outputs": [
    {
     "name": "stdout",
     "output_type": "stream",
     "text": [
      "Enter the number:47\n",
      "47 is not divisible by 7\n"
     ]
    }
   ],
   "source": [
    "\n",
    "#Check whether the number is divisible by 7\n",
    "number=int(input(\"Enter the number:\"))\n",
    "if number/7==0:\n",
    "    print(number, \"is divisible by 7\")\n",
    "else:\n",
    "    print(number, \"is not divisible by 7\")"
   ]
  },
  {
   "cell_type": "code",
   "execution_count": 5,
   "id": "da22b4f1",
   "metadata": {},
   "outputs": [
    {
     "name": "stdout",
     "output_type": "stream",
     "text": [
      "Enter the number:-5\n",
      "-5 number is negative\n"
     ]
    }
   ],
   "source": [
    "#Check whether the given number is positive, negative or equal to zero(input)\n",
    "number=int(input(\"Enter the number:\"))\n",
    "if number>0:\n",
    "    print(number,\"number is positive\")\n",
    "elif number<0:\n",
    "    print(number,\"number is negative\")\n",
    "else: \n",
    "    print(number,\"number is zero\")\n",
    "    "
   ]
  },
  {
   "cell_type": "code",
   "execution_count": 4,
   "id": "1f3e6cd3",
   "metadata": {},
   "outputs": [
    {
     "name": "stdout",
     "output_type": "stream",
     "text": [
      "Enter the number:5\n",
      "5  is odd\n"
     ]
    }
   ],
   "source": [
    "#Check whether the given number is even or odd\n",
    "number=int(input(\"Enter the number:\"))\n",
    "if number%2==0:\n",
    "    print(number, \" is even\")\n",
    "else: \n",
    "    print(number,\" is odd\")"
   ]
  },
  {
   "cell_type": "code",
   "execution_count": null,
   "id": "d57f2893",
   "metadata": {},
   "outputs": [],
   "source": []
  }
 ],
 "metadata": {
  "kernelspec": {
   "display_name": "Python 3 (ipykernel)",
   "language": "python",
   "name": "python3"
  },
  "language_info": {
   "codemirror_mode": {
    "name": "ipython",
    "version": 3
   },
   "file_extension": ".py",
   "mimetype": "text/x-python",
   "name": "python",
   "nbconvert_exporter": "python",
   "pygments_lexer": "ipython3",
   "version": "3.9.7"
  }
 },
 "nbformat": 4,
 "nbformat_minor": 5
}
