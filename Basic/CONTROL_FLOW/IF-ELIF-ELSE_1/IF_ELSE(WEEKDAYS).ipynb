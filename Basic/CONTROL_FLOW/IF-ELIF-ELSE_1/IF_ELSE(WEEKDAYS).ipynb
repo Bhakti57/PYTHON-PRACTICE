{
 "cells": [
  {
   "cell_type": "code",
   "execution_count": 3,
   "id": "804a7196",
   "metadata": {},
   "outputs": [
    {
     "name": "stdout",
     "output_type": "stream",
     "text": [
      "Enter the number from 1 to 7: 5\n",
      "friday\n"
     ]
    }
   ],
   "source": [
    "#Write a program to accept the number from 1 to 7 and display the name of the day like 1 for sunday,2 for monday and so on.\n",
    "num=int(input(\"Enter the number from 1 to 7: \"))\n",
    "if num==1:\n",
    "    print(\"monday\")\n",
    "elif num==2:\n",
    "    print(\"tuesday\")\n",
    "elif num==3:\n",
    "    print(\"wednesday\")\n",
    "elif num==4:\n",
    "    print(\"thursday\")\n",
    "elif num==5:\n",
    "    print(\"friday\")\n",
    "elif num==6:\n",
    "    print(\"saturday\")\n",
    "else:\n",
    "    print(\"sunday\")\n"
   ]
  },
  {
   "cell_type": "code",
   "execution_count": null,
   "id": "81af56c2",
   "metadata": {},
   "outputs": [],
   "source": []
  }
 ],
 "metadata": {
  "kernelspec": {
   "display_name": "Python 3 (ipykernel)",
   "language": "python",
   "name": "python3"
  },
  "language_info": {
   "codemirror_mode": {
    "name": "ipython",
    "version": 3
   },
   "file_extension": ".py",
   "mimetype": "text/x-python",
   "name": "python",
   "nbconvert_exporter": "python",
   "pygments_lexer": "ipython3",
   "version": "3.9.7"
  }
 },
 "nbformat": 4,
 "nbformat_minor": 5
}
