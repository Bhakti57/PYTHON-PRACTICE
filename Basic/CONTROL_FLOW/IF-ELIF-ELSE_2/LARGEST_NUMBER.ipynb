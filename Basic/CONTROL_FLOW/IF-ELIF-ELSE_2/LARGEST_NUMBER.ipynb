{
 "cells": [
  {
   "cell_type": "code",
   "execution_count": 3,
   "id": "3f5cd878",
   "metadata": {},
   "outputs": [
    {
     "name": "stdout",
     "output_type": "stream",
     "text": [
      "Enter the number: 1\n",
      "Enter the number: 2\n",
      "Enter the number: 5\n",
      "The second largest number: 2\n"
     ]
    }
   ],
   "source": [
    "# Accept three numbers from the user and display the second largest number.\n",
    "a=input(\"Enter the number: \")\n",
    "b=input(\"Enter the number: \")\n",
    "c=input(\"Enter the number: \")\n",
    "if a<b<c:\n",
    "    print(\"The second largest number:\", b)\n",
    "elif b<a<c:\n",
    "    print(\"The second largest number:\", a)\n",
    "else:\n",
    "    print(\"The second largest number:\", c)\n",
    "    "
   ]
  },
  {
   "cell_type": "code",
   "execution_count": null,
   "id": "1385e1a7",
   "metadata": {},
   "outputs": [],
   "source": []
  },
  {
   "cell_type": "code",
   "execution_count": null,
   "id": "7abdbe29",
   "metadata": {},
   "outputs": [],
   "source": []
  }
 ],
 "metadata": {
  "kernelspec": {
   "display_name": "Python 3 (ipykernel)",
   "language": "python",
   "name": "python3"
  },
  "language_info": {
   "codemirror_mode": {
    "name": "ipython",
    "version": 3
   },
   "file_extension": ".py",
   "mimetype": "text/x-python",
   "name": "python",
   "nbconvert_exporter": "python",
   "pygments_lexer": "ipython3",
   "version": "3.9.7"
  }
 },
 "nbformat": 4,
 "nbformat_minor": 5
}
