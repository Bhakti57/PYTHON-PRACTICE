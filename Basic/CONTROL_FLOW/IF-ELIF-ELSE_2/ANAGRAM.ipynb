{
 "cells": [
  {
   "cell_type": "code",
   "execution_count": 11,
   "id": "1d379742",
   "metadata": {},
   "outputs": [
    {
     "name": "stdout",
     "output_type": "stream",
     "text": [
      "Enter the string: put\n",
      "Enter the string: pot\n",
      "strings are not anagram\n"
     ]
    }
   ],
   "source": [
    "str1=input(\"Enter the string: \")\n",
    "str2=input(\"Enter the string: \")\n",
    "if (sorted(str1)==sorted(str2)):\n",
    "    print(\"strings are anagram\")\n",
    "else:\n",
    "    print(\"strings are not anagram\")"
   ]
  },
  {
   "cell_type": "code",
   "execution_count": null,
   "id": "76a9bb24",
   "metadata": {},
   "outputs": [],
   "source": []
  }
 ],
 "metadata": {
  "kernelspec": {
   "display_name": "Python 3 (ipykernel)",
   "language": "python",
   "name": "python3"
  },
  "language_info": {
   "codemirror_mode": {
    "name": "ipython",
    "version": 3
   },
   "file_extension": ".py",
   "mimetype": "text/x-python",
   "name": "python",
   "nbconvert_exporter": "python",
   "pygments_lexer": "ipython3",
   "version": "3.9.7"
  }
 },
 "nbformat": 4,
 "nbformat_minor": 5
}
