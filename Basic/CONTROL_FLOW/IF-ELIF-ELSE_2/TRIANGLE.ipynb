{
 "cells": [
  {
   "cell_type": "code",
   "execution_count": 4,
   "id": "398bb44d",
   "metadata": {},
   "outputs": [
    {
     "name": "stdout",
     "output_type": "stream",
     "text": [
      "Enter the first side of triangle: 2\n",
      "Enter the second side of triangle: 4\n",
      "Enter the third side of triangle: 20\n",
      "Triangle is not possible by given sides.\n"
     ]
    }
   ],
   "source": [
    "\"\"\"Accept three sides of triangle and check whether the triangle is possible or not.\n",
    "(triangle is possible only when sum of any two sides is greater than 3rd side)\"\"\"\n",
    "a=input(\"Enter the first side of triangle: \")\n",
    "b=input(\"Enter the second side of triangle: \")\n",
    "c=input(\"Enter the third side of triangle: \")\n",
    "if (a>=b+c) & (b>a+c) & (c>a+b):\n",
    "    print(\"Triangle is possible by given sides.\")\n",
    "else:\n",
    "    print(\"Triangle is not possible by given sides.\")"
   ]
  },
  {
   "cell_type": "code",
   "execution_count": null,
   "id": "fe76e2bd",
   "metadata": {},
   "outputs": [],
   "source": []
  },
  {
   "cell_type": "code",
   "execution_count": null,
   "id": "0270edfd",
   "metadata": {},
   "outputs": [],
   "source": []
  }
 ],
 "metadata": {
  "kernelspec": {
   "display_name": "Python 3 (ipykernel)",
   "language": "python",
   "name": "python3"
  },
  "language_info": {
   "codemirror_mode": {
    "name": "ipython",
    "version": 3
   },
   "file_extension": ".py",
   "mimetype": "text/x-python",
   "name": "python",
   "nbconvert_exporter": "python",
   "pygments_lexer": "ipython3",
   "version": "3.9.7"
  }
 },
 "nbformat": 4,
 "nbformat_minor": 5
}
