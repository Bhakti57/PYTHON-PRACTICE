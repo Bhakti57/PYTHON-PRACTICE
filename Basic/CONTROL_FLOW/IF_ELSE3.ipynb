{
 "cells": [
  {
   "cell_type": "code",
   "execution_count": 2,
   "id": "dbc1a482",
   "metadata": {},
   "outputs": [
    {
     "name": "stdout",
     "output_type": "stream",
     "text": [
      "Enter the number:56\n",
      "Enter the number:89\n",
      "Enter the number:45\n",
      "89 is larger number among three numbers.\n"
     ]
    }
   ],
   "source": [
    "#Find the largest number among three number with user input\n",
    "a=int(input(\"Enter the number:\"))\n",
    "b=int(input(\"Enter the number:\"))\n",
    "c=int(input(\"Enter the number:\"))\n",
    "if a>b & b>c:\n",
    "    print(a, \"is larger number among three numbers.\")\n",
    "elif b>a & a>c:\n",
    "    print(b, \"is larger number among three numbers.\")\n",
    "else:\n",
    "    print(c,\"is larger number among three numbers.\")"
   ]
  },
  {
   "cell_type": "code",
   "execution_count": 4,
   "id": "6d8aa932",
   "metadata": {},
   "outputs": [
    {
     "name": "stdout",
     "output_type": "stream",
     "text": [
      "Enter the length:25\n",
      "Enter the breadth:45\n",
      "The figure is not square.\n"
     ]
    }
   ],
   "source": [
    "#Check whether the figure is square or not by giving length and breadth\n",
    "length=int(input(\"Enter the length:\"))\n",
    "breadth=int(input(\"Enter the breadth:\"))\n",
    "if length==breadth:\n",
    "    print(\"The figure is square.\")\n",
    "else: \n",
    "    print(\"The figure is not square.\")"
   ]
  },
  {
   "cell_type": "code",
   "execution_count": null,
   "id": "2e3974ec",
   "metadata": {},
   "outputs": [],
   "source": []
  }
 ],
 "metadata": {
  "kernelspec": {
   "display_name": "Python 3 (ipykernel)",
   "language": "python",
   "name": "python3"
  },
  "language_info": {
   "codemirror_mode": {
    "name": "ipython",
    "version": 3
   },
   "file_extension": ".py",
   "mimetype": "text/x-python",
   "name": "python",
   "nbconvert_exporter": "python",
   "pygments_lexer": "ipython3",
   "version": "3.9.7"
  }
 },
 "nbformat": 4,
 "nbformat_minor": 5
}
