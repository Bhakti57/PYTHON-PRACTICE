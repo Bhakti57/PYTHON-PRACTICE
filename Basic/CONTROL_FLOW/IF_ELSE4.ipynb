{
 "cells": [
  {
   "cell_type": "code",
   "execution_count": 7,
   "id": "eed42464",
   "metadata": {},
   "outputs": [
    {
     "name": "stdout",
     "output_type": "stream",
     "text": [
      "Total number of working days: 240\n",
      "Total number of present days: 185\n",
      "Student is able to sit in exam.\n"
     ]
    }
   ],
   "source": [
    "\"\"\"Accept the following from the user and calculate the percentage of class attended:\n",
    "a.     Total number of working days\n",
    "b.     Total number of days for present\n",
    "\n",
    "After calculating percentage show that, If the percentage is less than 75, than student will not be able to sit in exam.\"\"\"\n",
    "a=int(input(\"Total number of working days: \"))\n",
    "b=int(input(\"Total number of present days: \"))\n",
    "c=b/a*100\n",
    "if c>75:\n",
    "    print(\"Student is able to sit in exam.\")\n",
    "else:\n",
    "    print(\"Student is not able to sit in exam.\")\n"
   ]
  },
  {
   "cell_type": "code",
   "execution_count": null,
   "id": "15e04914",
   "metadata": {},
   "outputs": [],
   "source": []
  }
 ],
 "metadata": {
  "kernelspec": {
   "display_name": "Python 3 (ipykernel)",
   "language": "python",
   "name": "python3"
  },
  "language_info": {
   "codemirror_mode": {
    "name": "ipython",
    "version": 3
   },
   "file_extension": ".py",
   "mimetype": "text/x-python",
   "name": "python",
   "nbconvert_exporter": "python",
   "pygments_lexer": "ipython3",
   "version": "3.9.7"
  }
 },
 "nbformat": 4,
 "nbformat_minor": 5
}
