{
 "cells": [
  {
   "cell_type": "markdown",
   "id": "32a2bbb1",
   "metadata": {},
   "source": [
    "#  STRING METHODS\n"
   ]
  },
  {
   "cell_type": "code",
   "execution_count": 5,
   "id": "2fa84120",
   "metadata": {},
   "outputs": [
    {
     "data": {
      "text/plain": [
       "'Hello world @!!!'"
      ]
     },
     "execution_count": 5,
     "metadata": {},
     "output_type": "execute_result"
    }
   ],
   "source": [
    "#capitalize\n",
    "a=\"Hello world!!!\"\n",
    "a.capitalize()"
   ]
  },
  {
   "cell_type": "code",
   "execution_count": 6,
   "id": "d1588237",
   "metadata": {},
   "outputs": [
    {
     "data": {
      "text/plain": [
       "'hello world @!!!'"
      ]
     },
     "execution_count": 6,
     "metadata": {},
     "output_type": "execute_result"
    }
   ],
   "source": [
    "#casefold\n",
    "a.casefold()"
   ]
  },
  {
   "cell_type": "code",
   "execution_count": 7,
   "id": "8b01a2bb",
   "metadata": {},
   "outputs": [
    {
     "data": {
      "text/plain": [
       "'hello world @!!!'"
      ]
     },
     "execution_count": 7,
     "metadata": {},
     "output_type": "execute_result"
    }
   ],
   "source": [
    "#lower\n",
    "a.lower()"
   ]
  },
  {
   "cell_type": "code",
   "execution_count": 18,
   "id": "fa2623b4",
   "metadata": {},
   "outputs": [
    {
     "name": "stdout",
     "output_type": "stream",
     "text": [
      "-------Hello world @!!!-------\n"
     ]
    }
   ],
   "source": [
    "#center\n",
    "print(a.center(30, '-'))"
   ]
  },
  {
   "cell_type": "code",
   "execution_count": 29,
   "id": "9dd8cc0d",
   "metadata": {},
   "outputs": [
    {
     "name": "stdout",
     "output_type": "stream",
     "text": [
      "total number of scream is  3\n"
     ]
    }
   ],
   "source": [
    "#count\n",
    "a=\"I scream, you scream, we all scream for ice cream.\"\n",
    "b=a.count(\"scream\")\n",
    "print(\"total number of scream is \",b)"
   ]
  },
  {
   "cell_type": "code",
   "execution_count": 20,
   "id": "6083162b",
   "metadata": {},
   "outputs": [
    {
     "name": "stdout",
     "output_type": "stream",
     "text": [
      "number of scream occurs in sentence from index 5: 2\n"
     ]
    }
   ],
   "source": [
    "a=\"I scream, you scream, we all scream for ice cream.\"\n",
    "b=\"scream\"\n",
    "total=a.count(b,5)\n",
    "print(\"number of scream occurs in sentence from index 5:\",total)"
   ]
  },
  {
   "cell_type": "code",
   "execution_count": 33,
   "id": "0a3feb3e",
   "metadata": {},
   "outputs": [
    {
     "data": {
      "text/plain": [
       "True"
      ]
     },
     "execution_count": 33,
     "metadata": {},
     "output_type": "execute_result"
    }
   ],
   "source": [
    "#endswith\n",
    "a=\"Hello world!!!\"\n",
    "a.endswith('!!!')\n"
   ]
  },
  {
   "cell_type": "code",
   "execution_count": 1,
   "id": "467d3ca9",
   "metadata": {},
   "outputs": [
    {
     "name": "stdout",
     "output_type": "stream",
     "text": [
      "False\n",
      "True\n",
      "True\n",
      "True\n"
     ]
    }
   ],
   "source": [
    "# The following example demonstrates the use of start and end parameters.\n",
    "mystr = 'Hello World'\n",
    "print(mystr.endswith('h', 0, 1)) # is 'H' endswith 'h'? False\n",
    "print(mystr.endswith('H', 0, 1)) # is 'H' endswith 'H'? True\n",
    "print(mystr.endswith('e', 0, 2)) # is 'He' endswith 'e'? True\n",
    "print(mystr.endswith('o', 0, 5)) # is 'Hello' endswith 'o'? True"
   ]
  },
  {
   "cell_type": "code",
   "execution_count": 4,
   "id": "15361c39",
   "metadata": {},
   "outputs": [
    {
     "name": "stdout",
     "output_type": "stream",
     "text": [
      "True\n",
      "False\n",
      "False\n",
      "True\n"
     ]
    }
   ],
   "source": [
    "# The following example contains tuples as parameters.\n",
    "mystr = 'Tutorials Teacher is a free online tutorials website'\n",
    "print(mystr.endswith(('Tutorials','free','website'))) \n",
    "print(mystr.endswith(('Tutorials','free'))) \n",
    "print(mystr.endswith(('Tutorials','coding'), 7, 11)) \n",
    "print(mystr.endswith(('Tutorials','coding'), 0, 9))"
   ]
  },
  {
   "cell_type": "code",
   "execution_count": 5,
   "id": "c016d288",
   "metadata": {},
   "outputs": [
    {
     "data": {
      "text/plain": [
       "'Hello    world!!!       '"
      ]
     },
     "execution_count": 5,
     "metadata": {},
     "output_type": "execute_result"
    }
   ],
   "source": [
    "#expandtab\n",
    "\"Hello\\t world!!!\\t\".expandtabs()"
   ]
  },
  {
   "cell_type": "code",
   "execution_count": 7,
   "id": "3fce0d7a",
   "metadata": {},
   "outputs": [
    {
     "name": "stdout",
     "output_type": "stream",
     "text": [
      "1234\n",
      "x\n"
     ]
    }
   ],
   "source": [
    "x = '1234'\n",
    "print(x.expandtabs(8))\n",
    "print('x'.expandtabs(8))\n"
   ]
  },
  {
   "cell_type": "code",
   "execution_count": 8,
   "id": "e16f6271",
   "metadata": {},
   "outputs": [],
   "source": [
    "#find()\n",
    "# The find() method returns the index of the first occurence of a substring in the given string (case-sensitive).\n",
    "# If the substring is not found it returns -1.\n",
    "# Syntax = str.find(substr,strat,end)\n"
   ]
  },
  {
   "cell_type": "code",
   "execution_count": 15,
   "id": "4483aae8",
   "metadata": {},
   "outputs": [
    {
     "name": "stdout",
     "output_type": "stream",
     "text": [
      "Index of 'l': 2\n",
      "Index of 'p': -1\n",
      "Index of 'e': 1\n",
      "Index of 'world': 6\n"
     ]
    }
   ],
   "source": [
    "#The following examples demonstrates find() method.\n",
    "a= 'Hello world!'\n",
    "print(\"Index of 'l':\", a.find('l'))\n",
    "print(\"Index of 'p':\", a.find('p'))# it returns -1 means value is not in string\n",
    "print(\"Index of 'e':\", a.find('e'))\n",
    "print(\"Index of 'world':\", a.find('world'))"
   ]
  },
  {
   "cell_type": "code",
   "execution_count": 20,
   "id": "84353c0e",
   "metadata": {},
   "outputs": [
    {
     "name": "stdout",
     "output_type": "stream",
     "text": [
      "Index of H:  0\n",
      "Index of p:  6\n",
      "Index of h:  9\n",
      "Index of l:  3\n"
     ]
    }
   ],
   "source": [
    "# Index()\n",
    "# Syntax = str.index(substr,start,end)\n",
    "# The index() method returns the index of the first occurence of a substring in the given string.\n",
    "x = \"Hello python!\"\n",
    "print(\"Index of H: \",x.index(\"H\"))\n",
    "print(\"Index of p: \",x.index(\"p\"))\n",
    "print(\"Index of h: \",x.index(\"h\",5,10))\n",
    "print(\"Index of l: \",x.index(\"l\",3,5))\n"
   ]
  },
  {
   "cell_type": "code",
   "execution_count": 25,
   "id": "8fe96a28",
   "metadata": {},
   "outputs": [
    {
     "name": "stdout",
     "output_type": "stream",
     "text": [
      "True\n",
      "True\n",
      "True\n",
      "False\n",
      "False\n"
     ]
    }
   ],
   "source": [
    "# isalnum()\n",
    "# Syntax = str.isalnum\n",
    "# The isalnum() method returns True if all characters in the string are alphanumeric (either alphabets or numbers). \n",
    "# If not, it returns False.\n",
    "x = \"Python123\"\n",
    "print(x.isalnum())\n",
    "\n",
    "y = '56324'\n",
    "print(y.isalnum())\n",
    "\n",
    "z = 'bhakti'\n",
    "print(z.isalnum())\n",
    "\n",
    "a = \"a@#123\"\n",
    "print(a.isalnum())\n",
    "\n",
    "b = \"My name is bhakti\"\n",
    "print(b.isalnum())\n"
   ]
  },
  {
   "cell_type": "code",
   "execution_count": 31,
   "id": "0fdbb107",
   "metadata": {},
   "outputs": [
    {
     "name": "stdout",
     "output_type": "stream",
     "text": [
      "True\n",
      "False\n"
     ]
    }
   ],
   "source": [
    "# isalpha()\n",
    "# syntax = str.isalpha()\n",
    "# The isalpha() method returns True if all characters in a string are alphabetic (both lowercase and uppercase) and\n",
    "# returns False if at least one character is not an alphabet.\n",
    "# The whitespace, numerics, and symbols are considered as non-alphabetical characters.\n",
    "\n",
    "x = \"bhaktimore\"\n",
    "print(x.isalpha())\n",
    "\n",
    "y = 'abc123'\n",
    "print(y.isalpha())\n"
   ]
  },
  {
   "cell_type": "code",
   "execution_count": 32,
   "id": "17bf6648",
   "metadata": {},
   "outputs": [
    {
     "name": "stdout",
     "output_type": "stream",
     "text": [
      "True\n",
      "False\n"
     ]
    }
   ],
   "source": [
    "#12. isdigit()\n",
    "# str.isdigit()\n",
    "# The isdigit() method returns True if all characters in a string are digits or Unicode char of a digit. \n",
    "#If not, it returns False.\n",
    "\n",
    "x = '1235'\n",
    "print(x.isdigit())\n",
    "\n",
    "y = '12.350'\n",
    "print(y.isdigit())"
   ]
  },
  {
   "cell_type": "code",
   "execution_count": 39,
   "id": "76a633cd",
   "metadata": {},
   "outputs": [
    {
     "name": "stdout",
     "output_type": "stream",
     "text": [
      "True\n",
      "False\n"
     ]
    }
   ],
   "source": [
    "# isidentifier\n",
    "# Syntax = str.isidentifier()\n",
    "# The isidentifier() method checks whether a string is valid identifier string or not. \n",
    "# It returns True if the string is a valid identifier otherwise returns False.\n",
    "x = 'Bhakti'\n",
    "print(x.isidentifier())\n",
    "\n",
    "y = '3python'\n",
    "print(y.isidentifier())"
   ]
  },
  {
   "cell_type": "code",
   "execution_count": 40,
   "id": "4955cc9e",
   "metadata": {},
   "outputs": [
    {
     "name": "stdout",
     "output_type": "stream",
     "text": [
      "True\n",
      "False\n",
      "False\n"
     ]
    }
   ],
   "source": [
    "#isnumeric()\n",
    "# syntax = str.isnumeric()\n",
    "# The str.isnumeric() checks whether all the characters of the string are numeric characters or not.\n",
    "#It will return True if all characters are numeric and will return False even if one character is non-numeric.\n",
    "\n",
    "x = '1524'\n",
    "print(x.isnumeric())\n",
    "\n",
    "y = '1223f'\n",
    "print(y.isnumeric())\n",
    "\n",
    "z = '230.54'\n",
    "print(z.isnumeric())"
   ]
  },
  {
   "cell_type": "code",
   "execution_count": null,
   "id": "15c01798",
   "metadata": {},
   "outputs": [],
   "source": []
  }
 ],
 "metadata": {
  "kernelspec": {
   "display_name": "Python 3 (ipykernel)",
   "language": "python",
   "name": "python3"
  },
  "language_info": {
   "codemirror_mode": {
    "name": "ipython",
    "version": 3
   },
   "file_extension": ".py",
   "mimetype": "text/x-python",
   "name": "python",
   "nbconvert_exporter": "python",
   "pygments_lexer": "ipython3",
   "version": "3.9.7"
  }
 },
 "nbformat": 4,
 "nbformat_minor": 5
}
