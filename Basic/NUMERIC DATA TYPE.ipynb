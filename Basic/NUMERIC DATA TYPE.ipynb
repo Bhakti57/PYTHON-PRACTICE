{
 "cells": [
  {
   "cell_type": "markdown",
   "id": "bc449c54",
   "metadata": {},
   "source": [
    "# NUMERIC DATA TYPE "
   ]
  },
  {
   "cell_type": "code",
   "execution_count": 1,
   "id": "9eb36d2d",
   "metadata": {},
   "outputs": [
    {
     "name": "stdout",
     "output_type": "stream",
     "text": [
      "8203\n",
      "<class 'int'>\n"
     ]
    }
   ],
   "source": [
    "exam_no=8203\n",
    "#display exam_no\n",
    "print(exam_no)\n",
    "print(type(exam_no))"
   ]
  },
  {
   "cell_type": "code",
   "execution_count": 2,
   "id": "df876b52",
   "metadata": {},
   "outputs": [
    {
     "name": "stdout",
     "output_type": "stream",
     "text": [
      "25\n"
     ]
    },
    {
     "data": {
      "text/plain": [
       "int"
      ]
     },
     "execution_count": 2,
     "metadata": {},
     "output_type": "execute_result"
    }
   ],
   "source": [
    "# create integer using int() class\n",
    "num=int(25)\n",
    "print(num)\n",
    "type(num)"
   ]
  },
  {
   "cell_type": "code",
   "execution_count": 3,
   "id": "52b2eb5b",
   "metadata": {},
   "outputs": [
    {
     "name": "stdout",
     "output_type": "stream",
     "text": [
      "2\n"
     ]
    },
    {
     "data": {
      "text/plain": [
       "int"
      ]
     },
     "execution_count": 3,
     "metadata": {},
     "output_type": "execute_result"
    }
   ],
   "source": [
    "num=int(2.5)\n",
    "print(num)\n",
    "type(num)"
   ]
  },
  {
   "cell_type": "code",
   "execution_count": 4,
   "id": "72e20f5b",
   "metadata": {
    "scrolled": true
   },
   "outputs": [
    {
     "name": "stdout",
     "output_type": "stream",
     "text": [
      "<class 'int'>\n",
      "<class 'float'>\n"
     ]
    }
   ],
   "source": [
    "a=-4256\n",
    "b=2.3664\n",
    "print(type(a))\n",
    "print(type(b))"
   ]
  },
  {
   "cell_type": "code",
   "execution_count": 5,
   "id": "e31a7f8a",
   "metadata": {},
   "outputs": [
    {
     "data": {
      "text/plain": [
       "(2+0j)"
      ]
     },
     "execution_count": 5,
     "metadata": {},
     "output_type": "execute_result"
    }
   ],
   "source": [
    "#complex number\n",
    "#python complex number is one having a real and imaginary parts.\n",
    "complex(2)"
   ]
  },
  {
   "cell_type": "code",
   "execution_count": 6,
   "id": "fed0f32c",
   "metadata": {},
   "outputs": [
    {
     "data": {
      "text/plain": [
       "(6+4j)"
      ]
     },
     "execution_count": 6,
     "metadata": {},
     "output_type": "execute_result"
    }
   ],
   "source": [
    "complex(6,4)"
   ]
  },
  {
   "cell_type": "code",
   "execution_count": 10,
   "id": "86fafd71",
   "metadata": {},
   "outputs": [
    {
     "name": "stdout",
     "output_type": "stream",
     "text": [
      "23.0\n",
      "3\n",
      "(23+0j)\n"
     ]
    }
   ],
   "source": [
    "a=23\n",
    "b=3.5\n",
    "c=6j\n",
    "#convert from int to float:\n",
    "x=float(a)\n",
    "#convert from float to int:\n",
    "y=int(b)\n",
    "#convert from int to complex\n",
    "z=complex(a)\n",
    "print(x)\n",
    "print(y)\n",
    "print(z)"
   ]
  },
  {
   "cell_type": "code",
   "execution_count": 11,
   "id": "faa45f81",
   "metadata": {},
   "outputs": [
    {
     "name": "stdout",
     "output_type": "stream",
     "text": [
      "<class 'float'>\n",
      "<class 'int'>\n",
      "<class 'complex'>\n"
     ]
    }
   ],
   "source": [
    "print(type(x))\n",
    "print(type(y))\n",
    "print(type(z))"
   ]
  },
  {
   "cell_type": "markdown",
   "id": "ed815a51",
   "metadata": {},
   "source": [
    "#  CONVERSION OF NUMBER"
   ]
  },
  {
   "cell_type": "code",
   "execution_count": 12,
   "id": "40e32f4c",
   "metadata": {},
   "outputs": [
    {
     "name": "stdout",
     "output_type": "stream",
     "text": [
      "in binary form:: 0b1111\n",
      "in octal form:: 0o17\n",
      "in hexa decimal form :: 0xf\n"
     ]
    }
   ],
   "source": [
    "i = 15\n",
    "print(\"in binary form::\", bin(i))\n",
    "print(\"in octal form::\", oct(i))\n",
    "print(\"in hexa decimal form ::\", hex(i))"
   ]
  },
  {
   "cell_type": "code",
   "execution_count": 15,
   "id": "6037d05c",
   "metadata": {},
   "outputs": [
    {
     "name": "stdout",
     "output_type": "stream",
     "text": [
      "<class 'float'>\n",
      "<class 'int'>\n",
      "<class 'float'>\n"
     ]
    }
   ],
   "source": [
    "#IMPLICT :  It will convert the smaller data type to larger one to prevent any data loss\n",
    "x= 50.13\n",
    "y = 36\n",
    "#data in int and float\n",
    "print(type(x))\n",
    "print(type(y))\n",
    "#addition\n",
    "z = x+y\n",
    "print(type(z))\n"
   ]
  },
  {
   "cell_type": "code",
   "execution_count": 16,
   "id": "97f919e6",
   "metadata": {},
   "outputs": [
    {
     "data": {
      "text/plain": [
       "536"
      ]
     },
     "execution_count": 16,
     "metadata": {},
     "output_type": "execute_result"
    }
   ],
   "source": [
    "#Explicit : users convert the data type of an object to the required data type.\n",
    "int(536.325)"
   ]
  },
  {
   "cell_type": "code",
   "execution_count": 17,
   "id": "98c76ff6",
   "metadata": {},
   "outputs": [
    {
     "data": {
      "text/plain": [
       "58.0"
      ]
     },
     "execution_count": 17,
     "metadata": {},
     "output_type": "execute_result"
    }
   ],
   "source": [
    "float(58)"
   ]
  },
  {
   "cell_type": "code",
   "execution_count": 18,
   "id": "a10b5a49",
   "metadata": {},
   "outputs": [
    {
     "data": {
      "text/plain": [
       "(53+0j)"
      ]
     },
     "execution_count": 18,
     "metadata": {},
     "output_type": "execute_result"
    }
   ],
   "source": [
    "complex(53)"
   ]
  },
  {
   "cell_type": "code",
   "execution_count": 19,
   "id": "86e25092",
   "metadata": {},
   "outputs": [
    {
     "data": {
      "text/plain": [
       "25"
      ]
     },
     "execution_count": 19,
     "metadata": {},
     "output_type": "execute_result"
    }
   ],
   "source": [
    "int(\"25\")"
   ]
  },
  {
   "cell_type": "code",
   "execution_count": 20,
   "id": "8faa7ba0",
   "metadata": {},
   "outputs": [
    {
     "data": {
      "text/plain": [
       "56.0"
      ]
     },
     "execution_count": 20,
     "metadata": {},
     "output_type": "execute_result"
    }
   ],
   "source": [
    "float(\"56\")"
   ]
  },
  {
   "cell_type": "code",
   "execution_count": 26,
   "id": "c192988d",
   "metadata": {},
   "outputs": [
    {
     "name": "stdout",
     "output_type": "stream",
     "text": [
      "Bhakti55\n"
     ]
    }
   ],
   "source": [
    "#concatenating int and str types\n",
    "a = 55\n",
    "b = \"Bhakti\"\n",
    "print(b+str(a))\n"
   ]
  },
  {
   "cell_type": "code",
   "execution_count": 28,
   "id": "76d77d14",
   "metadata": {},
   "outputs": [
    {
     "name": "stdout",
     "output_type": "stream",
     "text": [
      "12\n"
     ]
    }
   ],
   "source": [
    "import random\n",
    "# prints a random value from the list\n",
    "list1 = [11,12,13,14]\n",
    "print(random.choice(list1))"
   ]
  },
  {
   "cell_type": "code",
   "execution_count": 30,
   "id": "858d3b71",
   "metadata": {},
   "outputs": [
    {
     "name": "stdout",
     "output_type": "stream",
     "text": [
      "A random number from list is : \n",
      "65\n"
     ]
    }
   ],
   "source": [
    "import random\n",
    "# using choice() to generate a random number from a\n",
    "# given list of numbers.\n",
    "print(\"A random number from list is : \",)\n",
    "print(random.choice([12, 15, 18, 65]))\n"
   ]
  },
  {
   "cell_type": "code",
   "execution_count": 31,
   "id": "f59ce416",
   "metadata": {},
   "outputs": [
    {
     "name": "stdout",
     "output_type": "stream",
     "text": [
      "A random number from list is : 15\n"
     ]
    }
   ],
   "source": [
    "import random\n",
    "# using choice() to generate a random number from a\n",
    "# given list of numbers.\n",
    "print(\"A random number from list is : \", end=\"\")\n",
    "print(random.choice([12, 15, 18, 65]))\n"
   ]
  },
  {
   "cell_type": "code",
   "execution_count": null,
   "id": "5835eb24",
   "metadata": {},
   "outputs": [],
   "source": []
  }
 ],
 "metadata": {
  "kernelspec": {
   "display_name": "Python 3 (ipykernel)",
   "language": "python",
   "name": "python3"
  },
  "language_info": {
   "codemirror_mode": {
    "name": "ipython",
    "version": 3
   },
   "file_extension": ".py",
   "mimetype": "text/x-python",
   "name": "python",
   "nbconvert_exporter": "python",
   "pygments_lexer": "ipython3",
   "version": "3.9.7"
  }
 },
 "nbformat": 4,
 "nbformat_minor": 5
}
