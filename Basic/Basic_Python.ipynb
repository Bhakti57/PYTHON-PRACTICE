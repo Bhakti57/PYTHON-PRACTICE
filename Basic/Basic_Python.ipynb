{
 "cells": [
  {
   "cell_type": "code",
   "execution_count": 1,
   "id": "cb1f1e4e",
   "metadata": {
    "scrolled": true
   },
   "outputs": [
    {
     "data": {
      "text/plain": [
       "int"
      ]
     },
     "execution_count": 1,
     "metadata": {},
     "output_type": "execute_result"
    }
   ],
   "source": [
    "a=5\n",
    "type(a)"
   ]
  },
  {
   "cell_type": "code",
   "execution_count": 2,
   "id": "d6d70b65",
   "metadata": {},
   "outputs": [
    {
     "data": {
      "text/plain": [
       "float"
      ]
     },
     "execution_count": 2,
     "metadata": {},
     "output_type": "execute_result"
    }
   ],
   "source": [
    "a=5.02\n",
    "type(a)"
   ]
  },
  {
   "cell_type": "code",
   "execution_count": 3,
   "id": "18ba6d51",
   "metadata": {},
   "outputs": [
    {
     "data": {
      "text/plain": [
       "str"
      ]
     },
     "execution_count": 3,
     "metadata": {},
     "output_type": "execute_result"
    }
   ],
   "source": [
    "b=\"hello\"\n",
    "type(b)"
   ]
  },
  {
   "cell_type": "code",
   "execution_count": 4,
   "id": "716d6fff",
   "metadata": {},
   "outputs": [
    {
     "data": {
      "text/plain": [
       "complex"
      ]
     },
     "execution_count": 4,
     "metadata": {},
     "output_type": "execute_result"
    }
   ],
   "source": [
    "b=2j\n",
    "type(b)"
   ]
  },
  {
   "cell_type": "code",
   "execution_count": 5,
   "id": "d9fec949",
   "metadata": {},
   "outputs": [
    {
     "data": {
      "text/plain": [
       "list"
      ]
     },
     "execution_count": 5,
     "metadata": {},
     "output_type": "execute_result"
    }
   ],
   "source": [
    "IT=[\"SQA\",\"GIS\",\"SIC\",\"MATH\"]\n",
    "type(IT)"
   ]
  },
  {
   "cell_type": "code",
   "execution_count": 6,
   "id": "b918fb09",
   "metadata": {},
   "outputs": [
    {
     "data": {
      "text/plain": [
       "tuple"
      ]
     },
     "execution_count": 6,
     "metadata": {},
     "output_type": "execute_result"
    }
   ],
   "source": [
    "c=(\"bhakti\",2,\"bhandup\")\n",
    "type(c)"
   ]
  },
  {
   "cell_type": "code",
   "execution_count": 7,
   "id": "b01b2991",
   "metadata": {},
   "outputs": [
    {
     "data": {
      "text/plain": [
       "set"
      ]
     },
     "execution_count": 7,
     "metadata": {},
     "output_type": "execute_result"
    }
   ],
   "source": [
    "a={\"bhakti\",\"prakash\",\"more\"}\n",
    "type(a)"
   ]
  },
  {
   "cell_type": "code",
   "execution_count": 8,
   "id": "4d9dfcb2",
   "metadata": {},
   "outputs": [
    {
     "name": "stdout",
     "output_type": "stream",
     "text": [
      "False\n"
     ]
    }
   ],
   "source": [
    "a=25\n",
    "b=30\n",
    "c=a>b\n",
    "print(c)"
   ]
  },
  {
   "cell_type": "code",
   "execution_count": 9,
   "id": "a162a5b3",
   "metadata": {},
   "outputs": [
    {
     "data": {
      "text/plain": [
       "bool"
      ]
     },
     "execution_count": 9,
     "metadata": {},
     "output_type": "execute_result"
    }
   ],
   "source": [
    "type(c)"
   ]
  },
  {
   "cell_type": "code",
   "execution_count": 10,
   "id": "efff1168",
   "metadata": {},
   "outputs": [
    {
     "data": {
      "text/plain": [
       "dict"
      ]
     },
     "execution_count": 10,
     "metadata": {},
     "output_type": "execute_result"
    }
   ],
   "source": [
    "a={\"name\":\"bhakti\", \"number\":8203}\n",
    "type(a)"
   ]
  },
  {
   "cell_type": "code",
   "execution_count": null,
   "id": "775c29c3",
   "metadata": {},
   "outputs": [],
   "source": []
  },
  {
   "cell_type": "code",
   "execution_count": null,
   "id": "bef8392e",
   "metadata": {},
   "outputs": [],
   "source": []
  },
  {
   "cell_type": "code",
   "execution_count": 11,
   "id": "d0d21a62",
   "metadata": {},
   "outputs": [
    {
     "name": "stdout",
     "output_type": "stream",
     "text": [
      "Bhakti05\n"
     ]
    }
   ],
   "source": [
    "a=\"Bhakti\"\n",
    "b=\"05\"\n",
    "print(a+b)"
   ]
  },
  {
   "cell_type": "code",
   "execution_count": 12,
   "id": "2f221ceb",
   "metadata": {},
   "outputs": [
    {
     "name": "stdout",
     "output_type": "stream",
     "text": [
      "bhakti57@gmail.com\n"
     ]
    }
   ],
   "source": [
    "a=\"bhakti\"\n",
    "b=\"57\"\n",
    "c=\"@gmail.com\"\n",
    "print(a+b+c)"
   ]
  },
  {
   "cell_type": "code",
   "execution_count": 13,
   "id": "30bbf6a7",
   "metadata": {},
   "outputs": [
    {
     "name": "stdout",
     "output_type": "stream",
     "text": [
      "Bhakti Prakash More\n"
     ]
    }
   ],
   "source": [
    "a=\"Bhakti\"\n",
    "b=\"Prakash\"\n",
    "c=\"More\"\n",
    "print(a+\" \"+b+\" \"+c)"
   ]
  },
  {
   "cell_type": "code",
   "execution_count": 14,
   "id": "e5dc2171",
   "metadata": {},
   "outputs": [
    {
     "name": "stdout",
     "output_type": "stream",
     "text": [
      "enter name:bhakti\n",
      "My name is bhakti\n"
     ]
    }
   ],
   "source": [
    "my_name= input(\"enter name:\")\n",
    "print(\"My name is\", my_name)\n"
   ]
  },
  {
   "cell_type": "code",
   "execution_count": 15,
   "id": "5c5c09e3",
   "metadata": {},
   "outputs": [
    {
     "name": "stdout",
     "output_type": "stream",
     "text": [
      "enter number:5\n",
      "Number is 5\n"
     ]
    }
   ],
   "source": [
    "my_number=input(\"enter number:\")\n",
    "print(\"Number is\",my_number)"
   ]
  },
  {
   "cell_type": "code",
   "execution_count": 16,
   "id": "7b2c98c7",
   "metadata": {},
   "outputs": [
    {
     "name": "stdout",
     "output_type": "stream",
     "text": [
      "enter your birthdate:05\n",
      "Your Birthdate 5\n"
     ]
    }
   ],
   "source": [
    "dob=int(input(\"enter your birthdate:\"))\n",
    "print(\"Your Birthdate\",dob)"
   ]
  },
  {
   "cell_type": "markdown",
   "id": "15cedae0",
   "metadata": {},
   "source": [
    "## Input-Output\n"
   ]
  },
  {
   "cell_type": "code",
   "execution_count": 3,
   "id": "5ae62794",
   "metadata": {},
   "outputs": [
    {
     "name": "stdout",
     "output_type": "stream",
     "text": [
      "Enter your name : Bhakti\n",
      "English : 75\n",
      "Physics : 56\n",
      "Chemistry : 69\n",
      "Biology : 73\n",
      "Math : 68\n",
      "total marks : 500\n",
      "Bhakti has got the 68.2 percentage\n"
     ]
    }
   ],
   "source": [
    "stu_name=input(\"Enter your name : \")\n",
    "English=int(input(\"English : \"))\n",
    "Physics=int(input(\"Physics : \"))\n",
    "Chemistry=int(input(\"Chemistry : \"))\n",
    "Biology=int(input(\"Biology : \"))\n",
    "Math=int(input(\"Math : \"))\n",
    "total=int(input(\"total marks : \"))\n",
    "gain_marks=English+Physics+Chemistry+Biology+Math\n",
    "percentage=(gain_marks/total)*100\n",
    "print(stu_name, \"has got the\", percentage,\"percentage\")"
   ]
  },
  {
   "cell_type": "code",
   "execution_count": null,
   "id": "aaebf1dc",
   "metadata": {},
   "outputs": [],
   "source": []
  },
  {
   "cell_type": "code",
   "execution_count": null,
   "id": "f696d02c",
   "metadata": {},
   "outputs": [],
   "source": []
  },
  {
   "cell_type": "code",
   "execution_count": null,
   "id": "628bcb31",
   "metadata": {},
   "outputs": [],
   "source": []
  }
 ],
 "metadata": {
  "kernelspec": {
   "display_name": "Python 3 (ipykernel)",
   "language": "python",
   "name": "python3"
  },
  "language_info": {
   "codemirror_mode": {
    "name": "ipython",
    "version": 3
   },
   "file_extension": ".py",
   "mimetype": "text/x-python",
   "name": "python",
   "nbconvert_exporter": "python",
   "pygments_lexer": "ipython3",
   "version": "3.9.7"
  }
 },
 "nbformat": 4,
 "nbformat_minor": 5
}
