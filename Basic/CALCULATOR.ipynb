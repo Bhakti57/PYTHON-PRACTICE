{
 "cells": [
  {
   "cell_type": "code",
   "execution_count": 24,
   "id": "46fd42d2",
   "metadata": {},
   "outputs": [
    {
     "name": "stdout",
     "output_type": "stream",
     "text": [
      "1.addition\n",
      "2.subtraction\n",
      "3.multiplication\n",
      "4.division\n",
      "5.floor division\n",
      "6.modulas\n",
      "Enter the number:25\n",
      "Enter the number:3\n",
      "enter the operation number:3\n",
      "multiplication of two number 75.0\n"
     ]
    }
   ],
   "source": [
    "#Make a simple calculator using input.\n",
    "print(\"1.addition\")\n",
    "print(\"2.subtraction\")\n",
    "print(\"3.multiplication\")\n",
    "print(\"4.division\")\n",
    "print(\"5.floor division\")\n",
    "print(\"6.modulas\")\n",
    "a=float(input(\"Enter the number:\"))\n",
    "b=float(input(\"Enter the number:\"))\n",
    "operation=input(\"enter the operation number:\")\n",
    "\n",
    "if operation==\"1\":\n",
    "    print(\"Addion of two number\",a+b)\n",
    "elif operation==\"2\":\n",
    "    print(\"subtraction of two number\",a-b)\n",
    "elif operation==\"3\":\n",
    "    print(\"multiplication of two number\",a*b)\n",
    "elif operation==\"4\":\n",
    "    print(\"division of two number\",a/b)\n",
    "elif operation==\"5\":\n",
    "    print(\"floor division of two number\",a//b)\n",
    "else:\n",
    "    print(\"modulas of two number\",a%b)"
   ]
  },
  {
   "cell_type": "code",
   "execution_count": null,
   "id": "230d9029",
   "metadata": {},
   "outputs": [],
   "source": []
  }
 ],
 "metadata": {
  "kernelspec": {
   "display_name": "Python 3 (ipykernel)",
   "language": "python",
   "name": "python3"
  },
  "language_info": {
   "codemirror_mode": {
    "name": "ipython",
    "version": 3
   },
   "file_extension": ".py",
   "mimetype": "text/x-python",
   "name": "python",
   "nbconvert_exporter": "python",
   "pygments_lexer": "ipython3",
   "version": "3.9.7"
  }
 },
 "nbformat": 4,
 "nbformat_minor": 5
}
