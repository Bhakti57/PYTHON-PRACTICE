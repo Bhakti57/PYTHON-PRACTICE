{
 "cells": [
  {
   "cell_type": "markdown",
   "id": "ba983291",
   "metadata": {},
   "source": [
    "#   LOGICAL  OPERATOR"
   ]
  },
  {
   "cell_type": "code",
   "execution_count": 2,
   "id": "26aa6e31",
   "metadata": {},
   "outputs": [
    {
     "name": "stdout",
     "output_type": "stream",
     "text": [
      "True\n"
     ]
    }
   ],
   "source": [
    "#and operator: true if both true\n",
    "x = 7\n",
    "print(x > 3 and x < 10)"
   ]
  },
  {
   "cell_type": "code",
   "execution_count": 3,
   "id": "f13f5c59",
   "metadata": {},
   "outputs": [
    {
     "name": "stdout",
     "output_type": "stream",
     "text": [
      "50\n",
      "25\n",
      "125\n"
     ]
    }
   ],
   "source": [
    "#Logical and always returns the second value\n",
    "print(10 and 50)\n",
    "print(40 and 25)\n",
    "print(90 and 125)"
   ]
  },
  {
   "cell_type": "code",
   "execution_count": 4,
   "id": "686383c9",
   "metadata": {},
   "outputs": [
    {
     "name": "stdout",
     "output_type": "stream",
     "text": [
      "True\n"
     ]
    }
   ],
   "source": [
    "#or operator: true if one is true\n",
    "x = 8\n",
    "print(x > 3 or x < 4)"
   ]
  },
  {
   "cell_type": "code",
   "execution_count": 5,
   "id": "94d1b2f5",
   "metadata": {},
   "outputs": [
    {
     "name": "stdout",
     "output_type": "stream",
     "text": [
      "10\n",
      "40\n",
      "90\n"
     ]
    }
   ],
   "source": [
    "#Logical and always returns the second value\n",
    "print(10 or 50)\n",
    "print(40 or 25)\n",
    "print(90 or 125)"
   ]
  },
  {
   "cell_type": "code",
   "execution_count": 6,
   "id": "ae1d15b6",
   "metadata": {},
   "outputs": [
    {
     "name": "stdout",
     "output_type": "stream",
     "text": [
      "False\n"
     ]
    }
   ],
   "source": [
    "#not operator:True if the expression is false.\n",
    "a=8\n",
    "print(not(a>5))"
   ]
  },
  {
   "cell_type": "code",
   "execution_count": 7,
   "id": "c2d968af",
   "metadata": {},
   "outputs": [
    {
     "name": "stdout",
     "output_type": "stream",
     "text": [
      "False\n",
      "True\n"
     ]
    }
   ],
   "source": [
    "#Logical not always return False for nonzero value.\n",
    "print(not 12) # False. Non-zero value\n",
    "print(not 0) # True. Non-zero value"
   ]
  },
  {
   "cell_type": "code",
   "execution_count": null,
   "id": "cf18ab12",
   "metadata": {},
   "outputs": [],
   "source": []
  }
 ],
 "metadata": {
  "kernelspec": {
   "display_name": "Python 3 (ipykernel)",
   "language": "python",
   "name": "python3"
  },
  "language_info": {
   "codemirror_mode": {
    "name": "ipython",
    "version": 3
   },
   "file_extension": ".py",
   "mimetype": "text/x-python",
   "name": "python",
   "nbconvert_exporter": "python",
   "pygments_lexer": "ipython3",
   "version": "3.9.7"
  }
 },
 "nbformat": 4,
 "nbformat_minor": 5
}
