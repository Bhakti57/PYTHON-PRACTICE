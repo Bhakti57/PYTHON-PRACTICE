{
 "cells": [
  {
   "cell_type": "markdown",
   "id": "1d6c9b4c",
   "metadata": {},
   "source": [
    "# IDENTITY OPERATOR"
   ]
  },
  {
   "cell_type": "code",
   "execution_count": 1,
   "id": "48d5ab28",
   "metadata": {},
   "outputs": [
    {
     "name": "stdout",
     "output_type": "stream",
     "text": [
      "False\n",
      "True\n"
     ]
    }
   ],
   "source": [
    "#is operator\n",
    "A = 12\n",
    "B = 9\n",
    "C= 9\n",
    "print(A is B) # it compare memory address of A and B\n",
    "print(B is C) # it compare memory address of B and C"
   ]
  },
  {
   "cell_type": "code",
   "execution_count": 2,
   "id": "40c5560f",
   "metadata": {},
   "outputs": [
    {
     "name": "stdout",
     "output_type": "stream",
     "text": [
      "True\n",
      "False\n"
     ]
    }
   ],
   "source": [
    "#is not operator\n",
    "A = 12\n",
    "B = 9\n",
    "C= 9\n",
    "print(A is not B) # it compare memory address of A and B\n",
    "print(B is not C) # it compare memory address of B and C"
   ]
  },
  {
   "cell_type": "code",
   "execution_count": null,
   "id": "45ea7bda",
   "metadata": {},
   "outputs": [],
   "source": []
  }
 ],
 "metadata": {
  "kernelspec": {
   "display_name": "Python 3 (ipykernel)",
   "language": "python",
   "name": "python3"
  },
  "language_info": {
   "codemirror_mode": {
    "name": "ipython",
    "version": 3
   },
   "file_extension": ".py",
   "mimetype": "text/x-python",
   "name": "python",
   "nbconvert_exporter": "python",
   "pygments_lexer": "ipython3",
   "version": "3.9.7"
  }
 },
 "nbformat": 4,
 "nbformat_minor": 5
}
