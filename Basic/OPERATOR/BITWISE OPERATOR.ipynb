{
 "cells": [
  {
   "cell_type": "markdown",
   "id": "eba06b18",
   "metadata": {},
   "source": [
    "# BITWISE  OPERATOR"
   ]
  },
  {
   "cell_type": "code",
   "execution_count": 1,
   "id": "1229114c",
   "metadata": {},
   "outputs": [
    {
     "name": "stdout",
     "output_type": "stream",
     "text": [
      "8\n",
      "1\n",
      "0\n"
     ]
    }
   ],
   "source": [
    "#& Bitwise and\n",
    "a = 9\n",
    "b = 8\n",
    "c = 3\n",
    "print(a & b)\n",
    "print(a & c)\n",
    "print(b & c)\n"
   ]
  },
  {
   "cell_type": "code",
   "execution_count": 3,
   "id": "7001be7a",
   "metadata": {},
   "outputs": [
    {
     "name": "stdout",
     "output_type": "stream",
     "text": [
      "9\n",
      "11\n",
      "11\n"
     ]
    }
   ],
   "source": [
    "#OR\n",
    "a = 9\n",
    "b = 8\n",
    "c = 3\n",
    "print(a | b)\n",
    "print(a | c)\n",
    "print(b | c)"
   ]
  },
  {
   "cell_type": "code",
   "execution_count": 4,
   "id": "0bf84931",
   "metadata": {},
   "outputs": [
    {
     "name": "stdout",
     "output_type": "stream",
     "text": [
      "10\n",
      "11\n"
     ]
    }
   ],
   "source": [
    "#XOR\n",
    "a = 9\n",
    "b = 8\n",
    "c = 3\n",
    "print(a ^ c)\n",
    "print(b ^ c)"
   ]
  },
  {
   "cell_type": "code",
   "execution_count": null,
   "id": "0a540f75",
   "metadata": {},
   "outputs": [],
   "source": []
  }
 ],
 "metadata": {
  "kernelspec": {
   "display_name": "Python 3 (ipykernel)",
   "language": "python",
   "name": "python3"
  },
  "language_info": {
   "codemirror_mode": {
    "name": "ipython",
    "version": 3
   },
   "file_extension": ".py",
   "mimetype": "text/x-python",
   "name": "python",
   "nbconvert_exporter": "python",
   "pygments_lexer": "ipython3",
   "version": "3.9.7"
  }
 },
 "nbformat": 4,
 "nbformat_minor": 5
}
