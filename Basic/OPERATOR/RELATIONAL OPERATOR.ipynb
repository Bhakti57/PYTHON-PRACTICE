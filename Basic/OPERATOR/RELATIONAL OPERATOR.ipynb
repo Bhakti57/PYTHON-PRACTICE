{
 "cells": [
  {
   "cell_type": "markdown",
   "id": "aaed9531",
   "metadata": {},
   "source": [
    "# RELATIONAL OPERATOR\n"
   ]
  },
  {
   "cell_type": "code",
   "execution_count": 1,
   "id": "98785c6e",
   "metadata": {},
   "outputs": [
    {
     "name": "stdout",
     "output_type": "stream",
     "text": [
      "True\n",
      "False\n"
     ]
    }
   ],
   "source": [
    "a=7\n",
    "b=4\n",
    "#GREATER THAN\n",
    "print(a>b)\n",
    "#LESS THAN\n",
    "print(a<b)"
   ]
  },
  {
   "cell_type": "code",
   "execution_count": 2,
   "id": "f1f292b9",
   "metadata": {},
   "outputs": [
    {
     "name": "stdout",
     "output_type": "stream",
     "text": [
      "False\n",
      "True\n"
     ]
    }
   ],
   "source": [
    "#EQUAL TO\n",
    "print(a==b)\n",
    "print(a==7)"
   ]
  },
  {
   "cell_type": "code",
   "execution_count": 3,
   "id": "3bbf171e",
   "metadata": {},
   "outputs": [
    {
     "name": "stdout",
     "output_type": "stream",
     "text": [
      "True\n",
      "False\n"
     ]
    }
   ],
   "source": [
    "#NOT EQUAL TO\n",
    "print(a!=b)\n",
    "print(a!=7)"
   ]
  },
  {
   "cell_type": "code",
   "execution_count": 5,
   "id": "c1be298b",
   "metadata": {},
   "outputs": [
    {
     "name": "stdout",
     "output_type": "stream",
     "text": [
      "True\n",
      "False\n"
     ]
    }
   ],
   "source": [
    "# Greater than equal to (>=)\n",
    "print(a>=b)\n",
    "print(5>=a)"
   ]
  },
  {
   "cell_type": "code",
   "execution_count": 7,
   "id": "1ab2cbe9",
   "metadata": {},
   "outputs": [
    {
     "name": "stdout",
     "output_type": "stream",
     "text": [
      "False\n",
      "True\n"
     ]
    }
   ],
   "source": [
    "# less than equal to (<=)\n",
    "print(a<=b)\n",
    "print(7<=a)"
   ]
  },
  {
   "cell_type": "code",
   "execution_count": null,
   "id": "97ffdbbb",
   "metadata": {},
   "outputs": [],
   "source": []
  }
 ],
 "metadata": {
  "kernelspec": {
   "display_name": "Python 3 (ipykernel)",
   "language": "python",
   "name": "python3"
  },
  "language_info": {
   "codemirror_mode": {
    "name": "ipython",
    "version": 3
   },
   "file_extension": ".py",
   "mimetype": "text/x-python",
   "name": "python",
   "nbconvert_exporter": "python",
   "pygments_lexer": "ipython3",
   "version": "3.9.7"
  }
 },
 "nbformat": 4,
 "nbformat_minor": 5
}
