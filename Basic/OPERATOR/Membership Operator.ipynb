{
 "cells": [
  {
   "cell_type": "markdown",
   "id": "1c9316bd",
   "metadata": {},
   "source": [
    "# Membership Operator\n"
   ]
  },
  {
   "cell_type": "code",
   "execution_count": 1,
   "id": "540444eb",
   "metadata": {},
   "outputs": [
    {
     "name": "stdout",
     "output_type": "stream",
     "text": [
      "True\n"
     ]
    }
   ],
   "source": [
    "#in operator\n",
    "x = [\"bhakti\", \"prakash\", \"more\"]\n",
    "print(\"bhakti\" in x)"
   ]
  },
  {
   "cell_type": "code",
   "execution_count": 2,
   "id": "747c0d66",
   "metadata": {},
   "outputs": [
    {
     "name": "stdout",
     "output_type": "stream",
     "text": [
      "False\n"
     ]
    }
   ],
   "source": [
    "#not in operator\n",
    "x = [\"bhakti\", \"prakash\", \"more\"]\n",
    "print(\"bhakti\" not in x)"
   ]
  },
  {
   "cell_type": "code",
   "execution_count": null,
   "id": "5df8003b",
   "metadata": {},
   "outputs": [],
   "source": []
  }
 ],
 "metadata": {
  "kernelspec": {
   "display_name": "Python 3 (ipykernel)",
   "language": "python",
   "name": "python3"
  },
  "language_info": {
   "codemirror_mode": {
    "name": "ipython",
    "version": 3
   },
   "file_extension": ".py",
   "mimetype": "text/x-python",
   "name": "python",
   "nbconvert_exporter": "python",
   "pygments_lexer": "ipython3",
   "version": "3.9.7"
  }
 },
 "nbformat": 4,
 "nbformat_minor": 5
}
