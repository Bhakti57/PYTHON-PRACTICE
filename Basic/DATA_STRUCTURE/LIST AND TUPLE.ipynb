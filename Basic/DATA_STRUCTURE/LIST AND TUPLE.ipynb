{
 "cells": [
  {
   "cell_type": "markdown",
   "id": "f73327ee",
   "metadata": {},
   "source": [
    "#  TUPLE"
   ]
  },
  {
   "cell_type": "code",
   "execution_count": 7,
   "id": "415e3613",
   "metadata": {},
   "outputs": [
    {
     "name": "stdout",
     "output_type": "stream",
     "text": [
      "['p', 'r', 'a', 'c', 't', 'i', 'c', 'e']\n"
     ]
    }
   ],
   "source": [
    "#Q.1. Write a code to convert the string “Practice” into list.\n",
    "a=\"practice\"\n",
    "b=list(a)\n",
    "print(b)"
   ]
  },
  {
   "cell_type": "code",
   "execution_count": 8,
   "id": "34e10998",
   "metadata": {},
   "outputs": [
    {
     "data": {
      "text/plain": [
       "['a', '*', 'h', 'j', '?']"
      ]
     },
     "execution_count": 8,
     "metadata": {},
     "output_type": "execute_result"
    }
   ],
   "source": [
    "#Q.2. Write the output of the following:\n",
    "d=\"a*hj?\"\n",
    "list(d)"
   ]
  },
  {
   "cell_type": "code",
   "execution_count": 10,
   "id": "fd238a4c",
   "metadata": {},
   "outputs": [
    {
     "name": "stdout",
     "output_type": "stream",
     "text": [
      "Enter the string: BHAKTI\n"
     ]
    },
    {
     "data": {
      "text/plain": [
       "['B', 'H', 'A', 'K', 'T', 'I']"
      ]
     },
     "execution_count": 10,
     "metadata": {},
     "output_type": "execute_result"
    }
   ],
   "source": [
    "a=input(\"Enter the string: \")\n",
    "list(a)"
   ]
  },
  {
   "cell_type": "code",
   "execution_count": 13,
   "id": "1de2a580",
   "metadata": {},
   "outputs": [
    {
     "name": "stdout",
     "output_type": "stream",
     "text": [
      "[1]\n",
      "[0]\n",
      "[2]\n",
      "[-1]\n",
      "[-2]\n"
     ]
    }
   ],
   "source": [
    "a=[1,2,3,4,5]\n",
    "print([1])\n",
    "print([0])\n",
    "print([2])\n",
    "print([-1])\n",
    "print([-2])"
   ]
  },
  {
   "cell_type": "code",
   "execution_count": 3,
   "id": "182b830c",
   "metadata": {},
   "outputs": [
    {
     "name": "stdout",
     "output_type": "stream",
     "text": [
      "False\n",
      "False\n",
      "False\n",
      "False\n",
      "True\n",
      "[1, 2, 3, 4, 5, 6, 7, 8]\n"
     ]
    }
   ],
   "source": [
    "print([1,2,3,4]==[4,3,2,1])\n",
    "print([1,2,3,4] >  [4])\n",
    "print([1,2,3,4] != [1,2,3,4])\n",
    "print([1,2,3,4] == [1,2,[3,4]])  \n",
    "print([1,2,3] == [1.0,2.0,3.0])   \n",
    "a = [1,2,3,4]\n",
    "b = [5,6,7,8,]\n",
    "print(a+b)   "
   ]
  },
  {
   "cell_type": "code",
   "execution_count": 5,
   "id": "9f933d71",
   "metadata": {},
   "outputs": [
    {
     "name": "stdout",
     "output_type": "stream",
     "text": [
      "['P', 'r', 'a', 'c', 't', 'i', 'c', 'e', ' ', 'Q', 'u', 'e', 's', 't', 'i', 'o', 'n', 's', ' ', 'o', 'f', ' ', 'L', 'i', 's', 't', ' ', 'i', 'n', ' ', 'P', 'y', 't', 'h', 'o', 'n']\n",
      "36\n",
      "['r', 'a', 'c']\n",
      "['r', 'a', 'c', 't', 'i', 'c']\n",
      "['c', 't', 'i', 'c', 'e', ' ', 'Q', 'u', 'e', 's', 't', 'i', 'o', 'n', 's', ' ', 'o', 'f', ' ', 'L', 'i', 's', 't', ' ', 'i', 'n', ' ', 'P', 'y', 't', 'h', 'o', 'n']\n",
      "['P', 'r', 'a', 'c', 't']\n",
      "['t', 'i', 'c', 'e', ' ', 'Q', 'u', 'e', 's', 't', 'i', 'o', 'n']\n",
      "['o', 'h', 't']\n",
      "['r', 'a', 'c', 't', 'i', 'c']\n",
      "['r', 'c', 'i']\n",
      "['y', 't', 'h', 'o', 'n']\n",
      "['P', 'r', 'a', 'c']\n",
      "['o', 't']\n",
      "['e', 's', 't', 'i']\n",
      "['P', 'r', 'a', 'c', 't', 'i', 'c', 'e', ' ', 'Q', 'u', 'e', 's', 't', 'i', 'o', 'n', 's', ' ', 'o', 'f', ' ', 'L', 'i', 's', 't', ' ', 'i', 'n', ' ', 'P', 'y', 't', 'h', 'o', 'n']\n",
      "['P', 'a', 't', 'c', ' ', 'u', 's', 'i', 'n', ' ', 'f', 'L', 's', ' ', 'n', 'P', 't', 'o']\n",
      "['y', 't', 'h', 'o']\n",
      "['e', 'c', 'i', 't', 'c', 'a']\n",
      "['c', 't', 'i', 'c', 'e', ' ', 'Q', 'u', 'e', 's', 't', 'i', 'o', 'n', 's', ' ', 'o', 'f', ' ', 'L', 'i', 's', 't', ' ', 'i', 'n', ' ', 'P', 'y', 't']\n",
      "['P', 'y', 't', 'h', 'o', 'n']\n",
      "['s', ' ', 'o', 'f', ' ', 'L', 'i', 's', 't', ' ', 'i', 'n', ' ', 'P', 'y', 't', 'h', 'o']\n",
      "['u', 'Q', ' ', 'e', 'c', 'i', 't', 'c', 'a', 'r', 'P']\n"
     ]
    }
   ],
   "source": [
    "b = \"Practice Questions of List in Python\"\n",
    "a=list(b)   \n",
    "print(a) \n",
    "print(len(a))\n",
    "print(a[1:4])\n",
    "print(a[1:7])\n",
    "print(a[3:]) \n",
    "print(a[:5])\n",
    "print(a[4:17])\n",
    "print(a[-2:-5:-1])\n",
    "print(a[1:7:1])\n",
    "print(a[1:7:2])\n",
    "print(a[-5:])\n",
    "print(a[:4])\n",
    "print(a[-2:-5:-2])\n",
    "print(a[11:15])\n",
    "print(a[:])\n",
    "print(a[::2])\n",
    "print(a[-5:-1])\n",
    "print(a[7:1:-1])\n",
    "print(a[3:-3]) \n",
    "print(a[30:40])\n",
    "print(a[17:-1])\n",
    "print(a[10::-1])"
   ]
  },
  {
   "cell_type": "code",
   "execution_count": 6,
   "id": "82a71e23",
   "metadata": {},
   "outputs": [
    {
     "name": "stdout",
     "output_type": "stream",
     "text": [
      "(1, 2, 3, 4, 5, 6, 7, 8)\n",
      "(1, 2, 3, 4, 5, 6, 7, 8, 1, 2, 3, 4, 5, 6, 7, 8)\n",
      "(1, 2, 3, 4, 5, 6, 7, 8, 1, 2, 3, 4, 5, 6, 7, 8)\n",
      "16\n"
     ]
    }
   ],
   "source": [
    "T1 = (1, 2, 3, 4, 5, 6, 7, 8)\n",
    "print(T1)\n",
    "print(T1 * 2)\n",
    "print(T1 + T1)\n",
    "print(len(T1) * 2)"
   ]
  },
  {
   "cell_type": "code",
   "execution_count": 8,
   "id": "e17652ab",
   "metadata": {},
   "outputs": [
    {
     "name": "stdout",
     "output_type": "stream",
     "text": [
      "1\n",
      "8\n",
      "6\n",
      "4\n",
      "2\n"
     ]
    }
   ],
   "source": [
    "T1 = (1, 2, 3, 4, 5, 6, 7, 8)\n",
    "print(T1[0])   \n",
    "print(T1[-1])   \n",
    "print(T1[2+3]) \n",
    "print(T1[4 - 1])  \n",
    "print(T1[7%2])    \n"
   ]
  },
  {
   "cell_type": "code",
   "execution_count": 9,
   "id": "ef047bdb",
   "metadata": {},
   "outputs": [
    {
     "name": "stdout",
     "output_type": "stream",
     "text": [
      "34\n",
      "10\n",
      "3\n",
      "1\n"
     ]
    }
   ],
   "source": [
    "T1 = (23, 32, 4, 5, 2, 12, 23, 7, 9, 10, 23)\n",
    "print(len(T1) + T1[-1]) \n",
    "print(T1[T1.count(23) + len(T1) -5])  \n",
    "print(T1.count(T1[6]))    \n",
    "print(T1.count(max(T1)))  "
   ]
  },
  {
   "cell_type": "code",
   "execution_count": 10,
   "id": "c7063f84",
   "metadata": {},
   "outputs": [
    {
     "name": "stdout",
     "output_type": "stream",
     "text": [
      "Hockey\n",
      "Cricket\n"
     ]
    }
   ],
   "source": [
    "T1 = ('Hockey', 'Cricket', 'Football')\n",
    "print(max(T1)) \n",
    "print(min(T1))  "
   ]
  },
  {
   "cell_type": "code",
   "execution_count": 11,
   "id": "b6a84bd9",
   "metadata": {},
   "outputs": [
    {
     "name": "stdout",
     "output_type": "stream",
     "text": [
      "Raman\n",
      "Ram\n"
     ]
    }
   ],
   "source": [
    "T1 = ('Raman', 'Ram', 'Ramaiya')\n",
    "print(max(T1)) \n",
    "print(min(T1)) \n"
   ]
  },
  {
   "cell_type": "code",
   "execution_count": 12,
   "id": "7c7a9082",
   "metadata": {},
   "outputs": [
    {
     "name": "stdout",
     "output_type": "stream",
     "text": [
      "[2, 4, 5, 7, 9, 10, 12, 23, 23, 23, 32]\n",
      "[2, 4, 5, 12, 23]\n",
      "0\n",
      "6\n"
     ]
    }
   ],
   "source": [
    "T1 = (23, 32, 4, 5, 2, 12, 23, 7, 9, 10, 23)\n",
    "print(sorted(T1)) \n",
    "print(sorted(T1[2 : 7]))   \n",
    "print(T1.index(23))        \n",
    "print(T1.index(23, 3, 9))"
   ]
  },
  {
   "cell_type": "code",
   "execution_count": 18,
   "id": "250c10c1",
   "metadata": {},
   "outputs": [
    {
     "name": "stdout",
     "output_type": "stream",
     "text": [
      "34\n"
     ]
    }
   ],
   "source": [
    "T1 = (23, 32, 4, 5, 2, 12, 23, 7, 9, 10, 23)\n",
    "print(int(max(T1) + min(T1)))"
   ]
  },
  {
   "cell_type": "code",
   "execution_count": 27,
   "id": "81c35426",
   "metadata": {},
   "outputs": [
    {
     "name": "stdout",
     "output_type": "stream",
     "text": [
      "(20, 30, 40)\n"
     ]
    }
   ],
   "source": [
    "a = ( \"Seven\", [1, 2, 3], (20, 30, 40), \"Eighty\")\n",
    "print(a[2])"
   ]
  },
  {
   "cell_type": "code",
   "execution_count": 32,
   "id": "eccee2fb",
   "metadata": {},
   "outputs": [
    {
     "name": "stdout",
     "output_type": "stream",
     "text": [
      "50\n",
      "8050\n",
      "50 8050\n"
     ]
    }
   ],
   "source": [
    "p=10\n",
    "q=20\n",
    "p=p*q//4 \n",
    "q=p+q**3\n",
    "print(p)\n",
    "print(q)\n",
    "print(p,q)"
   ]
  },
  {
   "cell_type": "code",
   "execution_count": 36,
   "id": "ad346eeb",
   "metadata": {},
   "outputs": [
    {
     "name": "stdout",
     "output_type": "stream",
     "text": [
      "8\n",
      "7\n",
      "1\n",
      "10\n",
      "(1, 23, 4, 5, 'A')\n",
      "(['C', 'D'], (23, 45), 45)\n",
      "4\n",
      "(45, ['C', 'D'], 5)\n"
     ]
    },
    {
     "ename": "TypeError",
     "evalue": "'>' not supported between instances of 'str' and 'int'",
     "output_type": "error",
     "traceback": [
      "\u001b[1;31m---------------------------------------------------------------------------\u001b[0m",
      "\u001b[1;31mTypeError\u001b[0m                                 Traceback (most recent call last)",
      "\u001b[1;32m~\\AppData\\Local\\Temp/ipykernel_4372/2400042038.py\u001b[0m in \u001b[0;36m<module>\u001b[1;34m\u001b[0m\n\u001b[0;32m      8\u001b[0m \u001b[0mprint\u001b[0m\u001b[1;33m(\u001b[0m\u001b[0mt1\u001b[0m\u001b[1;33m.\u001b[0m\u001b[0mindex\u001b[0m\u001b[1;33m(\u001b[0m\u001b[1;34m'A'\u001b[0m\u001b[1;33m)\u001b[0m\u001b[1;33m)\u001b[0m\u001b[1;33m\u001b[0m\u001b[1;33m\u001b[0m\u001b[0m\n\u001b[0;32m      9\u001b[0m \u001b[0mprint\u001b[0m\u001b[1;33m(\u001b[0m\u001b[0mt1\u001b[0m\u001b[1;33m[\u001b[0m\u001b[1;33m-\u001b[0m\u001b[1;36m1\u001b[0m\u001b[1;33m:\u001b[0m\u001b[1;33m-\u001b[0m\u001b[1;36m7\u001b[0m\u001b[1;33m:\u001b[0m\u001b[1;33m-\u001b[0m\u001b[1;36m2\u001b[0m\u001b[1;33m]\u001b[0m\u001b[1;33m)\u001b[0m\u001b[1;33m\u001b[0m\u001b[1;33m\u001b[0m\u001b[0m\n\u001b[1;32m---> 10\u001b[1;33m \u001b[0mprint\u001b[0m\u001b[1;33m(\u001b[0m\u001b[0mmax\u001b[0m\u001b[1;33m(\u001b[0m\u001b[0mt1\u001b[0m\u001b[1;33m)\u001b[0m\u001b[1;33m)\u001b[0m\u001b[1;33m\u001b[0m\u001b[1;33m\u001b[0m\u001b[0m\n\u001b[0m",
      "\u001b[1;31mTypeError\u001b[0m: '>' not supported between instances of 'str' and 'int'"
     ]
    }
   ],
   "source": [
    "t1 = (1, 23, 4, 5, 'A', ['C', 'D'], (23, 45), 45)\n",
    "print(len(t1))\n",
    "print(t1.index(45))\n",
    "print(t1.count(45))\n",
    "print([5][0]*2)\n",
    "print(t1[:5])\n",
    "print(t1[5:])\n",
    "print(t1.index('A'))\n",
    "print(t1[-1:-7:-2])\n",
    "print(max(t1))\n"
   ]
  },
  {
   "cell_type": "code",
   "execution_count": 37,
   "id": "3549b7d4",
   "metadata": {},
   "outputs": [
    {
     "name": "stdout",
     "output_type": "stream",
     "text": [
      "1\n",
      "8\n",
      "6\n",
      "4\n",
      "2\n"
     ]
    }
   ],
   "source": [
    "t1 = (1,2,3,4,5,6,7,8)\n",
    "print(t1[0])\n",
    "print(t1[-1])\n",
    "print(t1[2+3])\n",
    "print(t1[4-1])\n",
    "print(t1[7%2])"
   ]
  },
  {
   "cell_type": "code",
   "execution_count": 38,
   "id": "7c9959e0",
   "metadata": {},
   "outputs": [
    {
     "name": "stdout",
     "output_type": "stream",
     "text": [
      "Abc.def\n"
     ]
    }
   ],
   "source": [
    "print(\"abc.DEF\".capitalize())\n"
   ]
  },
  {
   "cell_type": "code",
   "execution_count": 39,
   "id": "62260f7b",
   "metadata": {},
   "outputs": [
    {
     "data": {
      "text/plain": [
       "0"
      ]
     },
     "execution_count": 39,
     "metadata": {},
     "output_type": "execute_result"
    }
   ],
   "source": [
    "2**(3**2) >> (2**3)**2 >> 2**3**2\n"
   ]
  },
  {
   "cell_type": "code",
   "execution_count": 40,
   "id": "fe269c97",
   "metadata": {},
   "outputs": [
    {
     "name": "stdout",
     "output_type": "stream",
     "text": [
      "1.0\n"
     ]
    }
   ],
   "source": [
    "print(True**False/True)\n"
   ]
  },
  {
   "cell_type": "code",
   "execution_count": 41,
   "id": "9fbe6023",
   "metadata": {},
   "outputs": [
    {
     "data": {
      "text/plain": [
       "False"
      ]
     },
     "execution_count": 41,
     "metadata": {},
     "output_type": "execute_result"
    }
   ],
   "source": [
    "all([2,4,0,6])\n"
   ]
  },
  {
   "cell_type": "code",
   "execution_count": 42,
   "id": "fcc5262c",
   "metadata": {},
   "outputs": [
    {
     "name": "stdout",
     "output_type": "stream",
     "text": [
      "6.0\n"
     ]
    }
   ],
   "source": [
    "x=2\n",
    "y=6\n",
    "x=x+y/2 + y//4  \n",
    "print(x)  "
   ]
  },
  {
   "cell_type": "code",
   "execution_count": 45,
   "id": "addfeb25",
   "metadata": {},
   "outputs": [
    {
     "name": "stdout",
     "output_type": "stream",
     "text": [
      "None\n"
     ]
    }
   ],
   "source": [
    "T = [1,2,3,4]\n",
    "T1 = [3,4,5,6]\n",
    "T2 = T.append(T1)\n",
    "print(T2)\n"
   ]
  },
  {
   "cell_type": "code",
   "execution_count": 46,
   "id": "ff789aec",
   "metadata": {},
   "outputs": [
    {
     "data": {
      "text/plain": [
       "False"
      ]
     },
     "execution_count": 46,
     "metadata": {},
     "output_type": "execute_result"
    }
   ],
   "source": [
    "t1 = (1,2,4,3)\n",
    "t2 = (1,2,3,4)\n",
    "t1 < t2 "
   ]
  },
  {
   "cell_type": "code",
   "execution_count": 48,
   "id": "450b21ab",
   "metadata": {},
   "outputs": [
    {
     "name": "stdout",
     "output_type": "stream",
     "text": [
      "[[5], 2, 3, 4] [[5], 2, 3, 4] [1, 2, 3, 4] [1, 2, 3, 4]\n"
     ]
    }
   ],
   "source": [
    "L1 = [1,2,3,4]\n",
    "L2 = L1\n",
    "L3 = L1.copy()\n",
    "L4 = L3\n",
    "L1[0] = [5]\n",
    "print(L1, L2, L3, L4)"
   ]
  },
  {
   "cell_type": "code",
   "execution_count": 49,
   "id": "52411fe1",
   "metadata": {},
   "outputs": [
    {
     "name": "stdout",
     "output_type": "stream",
     "text": [
      "11\n"
     ]
    }
   ],
   "source": [
    "L1 = []\n",
    "L1.append([1, [2, 3], 4])\n",
    "L1.extend([7, 8, 9])\n",
    "print(L1[0][1][1] + L1[2])"
   ]
  },
  {
   "cell_type": "code",
   "execution_count": null,
   "id": "94977a37",
   "metadata": {},
   "outputs": [],
   "source": []
  }
 ],
 "metadata": {
  "kernelspec": {
   "display_name": "Python 3 (ipykernel)",
   "language": "python",
   "name": "python3"
  },
  "language_info": {
   "codemirror_mode": {
    "name": "ipython",
    "version": 3
   },
   "file_extension": ".py",
   "mimetype": "text/x-python",
   "name": "python",
   "nbconvert_exporter": "python",
   "pygments_lexer": "ipython3",
   "version": "3.9.7"
  }
 },
 "nbformat": 4,
 "nbformat_minor": 5
}
