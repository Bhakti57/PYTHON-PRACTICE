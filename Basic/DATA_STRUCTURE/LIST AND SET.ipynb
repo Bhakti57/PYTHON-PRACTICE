{
 "cells": [
  {
   "cell_type": "code",
   "execution_count": 19,
   "id": "1ef706f1",
   "metadata": {},
   "outputs": [
    {
     "data": {
      "text/plain": [
       "[1, 2, 3, 5, 6, 7, 8, 9]"
      ]
     },
     "execution_count": 19,
     "metadata": {},
     "output_type": "execute_result"
    }
   ],
   "source": [
    "#making set without duplicate value\n",
    "a=[1,2,5,6,5,8,6,3,5,6,2,7,8,3,7,9,8,]\n",
    "b=set(a)\n",
    "list(b)"
   ]
  },
  {
   "cell_type": "code",
   "execution_count": 21,
   "id": "c5a25b60",
   "metadata": {},
   "outputs": [
    {
     "name": "stdout",
     "output_type": "stream",
     "text": [
      "[1, 2, 6, 7, 8, 9]\n"
     ]
    }
   ],
   "source": [
    "a=[2,5,6,8,3,6]\n",
    "b=[3,5,7,1,9]\n",
    "c=set(a)\n",
    "d=set(b)\n",
    "print(list(c^d))"
   ]
  },
  {
   "cell_type": "code",
   "execution_count": 25,
   "id": "d29a6f34",
   "metadata": {},
   "outputs": [
    {
     "name": "stdout",
     "output_type": "stream",
     "text": [
      "[1, 2, 3, 4, 5, 6, 7, 8, 9, 10]\n"
     ]
    }
   ],
   "source": [
    "a=[1, 2, 3,4,5]\n",
    "b=[1,6,7,8]\n",
    "c=[8,9,10]\n",
    "d=set(a)|set(b)|set(c)\n",
    "print(list(d))"
   ]
  },
  {
   "cell_type": "code",
   "execution_count": 46,
   "id": "b5478ed8",
   "metadata": {},
   "outputs": [
    {
     "name": "stdout",
     "output_type": "stream",
     "text": [
      "[8, 1]\n"
     ]
    }
   ],
   "source": [
    "a=[1, 2, 3,4,5]\n",
    "b=[1,6,7,8]\n",
    "c=[8,9,10]\n",
    "d=set(a)\n",
    "e=set(b)\n",
    "f=set(c)\n",
    "k=(d&e)\n",
    "m=(e&f)\n",
    "print(list(k|m))\n",
    "\n"
   ]
  },
  {
   "cell_type": "code",
   "execution_count": null,
   "id": "b8005e4b",
   "metadata": {},
   "outputs": [],
   "source": []
  },
  {
   "cell_type": "code",
   "execution_count": null,
   "id": "fc7ce075",
   "metadata": {},
   "outputs": [],
   "source": []
  }
 ],
 "metadata": {
  "kernelspec": {
   "display_name": "Python 3 (ipykernel)",
   "language": "python",
   "name": "python3"
  },
  "language_info": {
   "codemirror_mode": {
    "name": "ipython",
    "version": 3
   },
   "file_extension": ".py",
   "mimetype": "text/x-python",
   "name": "python",
   "nbconvert_exporter": "python",
   "pygments_lexer": "ipython3",
   "version": "3.9.7"
  }
 },
 "nbformat": 4,
 "nbformat_minor": 5
}
