{
 "cells": [
  {
   "cell_type": "markdown",
   "id": "d09d367b",
   "metadata": {},
   "source": [
    "#  DICTIONARY"
   ]
  },
  {
   "cell_type": "code",
   "execution_count": 1,
   "id": "82919175",
   "metadata": {},
   "outputs": [
    {
     "name": "stdout",
     "output_type": "stream",
     "text": [
      "{'name': 'Sanvee', 'country': 'India', 'telephone': 1178}\n",
      "{'name': 'Sanvee', 'country': 'India', 'telephone': 1178}\n",
      "{'name': 'Sanvee', 'country': 'India', 'telephone': 1178}\n",
      "{'name': 'Sanvee', 10: 'Mobile'}\n"
     ]
    }
   ],
   "source": [
    "# create a dictionary using {}\n",
    "person = {\"name\": \"Sanvee\", \"country\": \"India\", \"telephone\": 1178}\n",
    "print(person)\n",
    "# create a dictionary using dict()\n",
    "person1 = dict({\"name\": \"Sanvee\", \"country\": \"India\", \"telephone\": 1178})\n",
    "print(person)\n",
    "# create a dictionary from sequence having each item as a pair\n",
    "person2 = dict([(\"name\", \"Sanvee\"), (\"country\", \"India\"), (\"telephone\", 1178)])\n",
    "print(person)\n",
    "# create dictionary with mixed keys keys\n",
    "# first key is string and second is an integer\n",
    "sample_dict = {\"name\": \"Sanvee\", 10: \"Mobile\"}\n",
    "print(sample_dict)\n"
   ]
  },
  {
   "cell_type": "code",
   "execution_count": 2,
   "id": "26d48556",
   "metadata": {},
   "outputs": [
    {
     "name": "stdout",
     "output_type": "stream",
     "text": [
      "<class 'dict'>\n"
     ]
    }
   ],
   "source": [
    "emptydict = {}\n",
    "print(type(emptydict)) "
   ]
  },
  {
   "cell_type": "code",
   "execution_count": 3,
   "id": "503bc888",
   "metadata": {},
   "outputs": [
    {
     "name": "stdout",
     "output_type": "stream",
     "text": [
      "{'name': 'Sanvee', 'country': 'India', 'telephone': 1234}\n"
     ]
    }
   ],
   "source": [
    "#Dictionaries cannot have two items with the same key:\n",
    "person = {\"name\": \"Sanvee\", \"country\": \"India\", \"telephone\": 1178, \"telephone\": 1234}\n",
    "print(person)\n"
   ]
  },
  {
   "cell_type": "code",
   "execution_count": 4,
   "id": "3a99a93b",
   "metadata": {},
   "outputs": [
    {
     "name": "stdout",
     "output_type": "stream",
     "text": [
      "{'name': 'Sanvee', 'country': 'India', 'telephone': [1178, 1234]}\n"
     ]
    }
   ],
   "source": [
    "person = {\"name\": \"Sanvee\", \"country\": \"India\", \"telephone\": [1178, 1234]}\n",
    "print(person)"
   ]
  },
  {
   "cell_type": "code",
   "execution_count": 5,
   "id": "87002004",
   "metadata": {},
   "outputs": [
    {
     "name": "stdout",
     "output_type": "stream",
     "text": [
      "Sanvee\n",
      "1178\n"
     ]
    }
   ],
   "source": [
    "person = {\"name\": \"Sanvee\", \"country\": \"India\", \"telephone\": 1178}\n",
    "# access value using key name in []\n",
    "print(person['name'])\n",
    "# get key value using key name in get()\n",
    "print(person.get('telephone'))"
   ]
  },
  {
   "cell_type": "code",
   "execution_count": 6,
   "id": "c69e5725",
   "metadata": {},
   "outputs": [
    {
     "name": "stdout",
     "output_type": "stream",
     "text": [
      "dict_keys(['name', 'country', 'telephone'])\n",
      "<class 'dict_keys'>\n",
      "dict_values(['Sanvee', 'India', 1178])\n",
      "<class 'dict_values'>\n",
      "dict_items([('name', 'Sanvee'), ('country', 'India'), ('telephone', 1178)])\n",
      "<class 'dict_items'>\n"
     ]
    }
   ],
   "source": [
    "#Get all keys and values\n",
    "person = {\"name\": \"Sanvee\", \"country\": \"India\", \"telephone\": 1178}\n",
    "# Get all keys\n",
    "print(person.keys())\n",
    "print(type(person.keys()))\n",
    "# Get all values\n",
    "print(person.values())\n",
    "print(type(person.values()))\n",
    "# Get all key-value pair\n",
    "print(person.items())\n",
    "print(type(person.items()))\n"
   ]
  },
  {
   "cell_type": "code",
   "execution_count": 7,
   "id": "7c37cd6d",
   "metadata": {},
   "outputs": [
    {
     "name": "stdout",
     "output_type": "stream",
     "text": [
      "3\n"
     ]
    }
   ],
   "source": [
    "#Length of dictionary\n",
    "print(len(person))\n"
   ]
  },
  {
   "cell_type": "code",
   "execution_count": 8,
   "id": "bb90a93e",
   "metadata": {},
   "outputs": [
    {
     "name": "stdout",
     "output_type": "stream",
     "text": [
      "{'name': 'Sanvee', 'country': 'India', 'telephone': 1178, 'weight': 50, 'height': 5.4}\n"
     ]
    }
   ],
   "source": [
    "#Let’s see how to add two new keys to the dictionary.\n",
    "person = {\"name\": \"Sanvee\", 'country': \"India\", \"telephone\": 1178}\n",
    "# update dictionary by adding 2 new keys\n",
    "person[\"weight\"] = 50\n",
    "person.update({\"height\": 5.4})\n",
    "# print the updated dictionary\n",
    "print(person)"
   ]
  },
  {
   "cell_type": "code",
   "execution_count": 9,
   "id": "634e94b5",
   "metadata": {},
   "outputs": [
    {
     "name": "stdout",
     "output_type": "stream",
     "text": [
      "{'name': 'Sanvee', 'country': 'India', 'weight': 50, 'height': 5.4}\n",
      "{'name': 'Sanvee', 'country': 'India', 'weight': 50, 'height': 5.4, 'city': 'Mumbai', 'company': 'NetTech India'}\n"
     ]
    }
   ],
   "source": [
    "#We can also add more than one key using the update() method.\n",
    "person = {\"name\": \"Sanvee\", 'country': \"India\"}\n",
    "# Adding 2 new keys at once\n",
    "# pass new keys as dict\n",
    "person.update({\"weight\": 50, \"height\": 5.4})\n",
    "# print the updated dictionary\n",
    "print(person)\n",
    "# pass new keys as as list of tuple\n",
    "person.update([(\"city\", \"Mumbai\"), (\"company\", \"NetTech India\",)])\n",
    "# print the updated dictionary\n",
    "print(person)\n"
   ]
  },
  {
   "cell_type": "code",
   "execution_count": 10,
   "id": "75415cff",
   "metadata": {},
   "outputs": [
    {
     "name": "stdout",
     "output_type": "stream",
     "text": [
      "{'Sanvee': 70, 'Komal': 80, 'Shreya': 55, 'Pratham': 68, 'Suraj': 50, 'Siddhesh': 66}\n"
     ]
    }
   ],
   "source": [
    "dict1 = {'Sanvee': 70, 'Komal': 80, 'Shreya': 55}\n",
    "dict2 = {'Pratham': 68, 'Suraj': 50, 'Siddhesh': 66}\n",
    "# copy second dictionary into first dictionary\n",
    "dict1.update(dict2)\n",
    "# printing the updated dictionary\n",
    "print(dict1)\n"
   ]
  },
  {
   "cell_type": "code",
   "execution_count": 11,
   "id": "b4fc318e",
   "metadata": {},
   "outputs": [
    {
     "name": "stdout",
     "output_type": "stream",
     "text": [
      "{'Sanvee': 70, 'Komal': 80, 'Shreya': 75, 'Pratham': 68, 'Suraj': 50}\n"
     ]
    }
   ],
   "source": [
    "dict1 = {'Sanvee': 70, 'Komal': 80, 'Shreya': 75}\n",
    "dict2 = {'Pratham': 68, 'Suraj': 50, 'Shreya': 75}\n",
    "# copy second dictionary into first dictionary\n",
    "dict1.update(dict2)\n",
    "# printing the updated dictionary\n",
    "print(dict1)"
   ]
  },
  {
   "cell_type": "code",
   "execution_count": 12,
   "id": "30934fad",
   "metadata": {},
   "outputs": [
    {
     "name": "stdout",
     "output_type": "stream",
     "text": [
      "{'Arnav': 1, 'Aashi': 2, 'Yash': 5, 'Rudra': 6, 'Vini': 7, 'Simi': 9}\n"
     ]
    }
   ],
   "source": [
    "#We can unpack any number of dictionary and add their contents to another dictionary using\n",
    "student_dict1 = {'Arnav': 1, 'Aashi': 2, }\n",
    "student_dict2 = {'Yash': 5, 'Rudra': 6}\n",
    "student_dict3 = {'Vini': 7, 'Simi': 9}\n",
    "# join three dictionaries\n",
    "student_dict = {**student_dict1, **student_dict2, **student_dict3}\n",
    "# printing the final Merged dictionary\n",
    "print(student_dict)"
   ]
  },
  {
   "cell_type": "code",
   "execution_count": 13,
   "id": "4d3e2319",
   "metadata": {},
   "outputs": [
    {
     "name": "stdout",
     "output_type": "stream",
     "text": [
      "{'name': 'Sanvee', 'country': 'India'}\n",
      "USA\n",
      "{'name': 'Sanvee', 'country': 'USA'}\n",
      "Canada\n",
      "{'name': 'Sanvee', 'country': 'Canada'}\n"
     ]
    }
   ],
   "source": [
    "person = {\"name\": \"Sanvee\", \"country\": \"India\"}\n",
    "print(person)\n",
    "# updating the country name\n",
    "person[\"country\"] = \"USA\"\n",
    "# print the updated country\n",
    "print(person['country'])\n",
    "print(person)\n",
    "# updating the country name using update() method\n",
    "person.update({\"country\": \"Canada\"})\n",
    "# print the updated country\n",
    "print(person['country'])\n",
    "print(person)\n"
   ]
  },
  {
   "cell_type": "code",
   "execution_count": 1,
   "id": "6aed984b",
   "metadata": {},
   "outputs": [
    {
     "name": "stdout",
     "output_type": "stream",
     "text": [
      "('height', 5.4)\n",
      "{'name': 'Sanvee', 'country': 'India', 'telephone': 1178, 'weight': 50}\n"
     ]
    }
   ],
   "source": [
    "person = {'name': 'Sanvee', 'country': 'India', 'telephone': 1178, 'weight': 50, 'height': 5.4}\n",
    "#remove last inserted item from the dictionary\n",
    "deleted_item=person.popitem()\n",
    "print(deleted_item)\n",
    "#display updated dictionary\n",
    "print(person)"
   ]
  },
  {
   "cell_type": "code",
   "execution_count": 3,
   "id": "9b0bfc60",
   "metadata": {},
   "outputs": [
    {
     "name": "stdout",
     "output_type": "stream",
     "text": [
      "50\n",
      "{'name': 'Sanvee', 'country': 'India', 'telephone': 1178, 'height': 5.4}\n"
     ]
    }
   ],
   "source": [
    "person = {'name': 'Sanvee', 'country': 'India', 'telephone': 1178, 'weight': 50, 'height': 5.4}\n",
    "#remove last inserted item from the dictionary\n",
    "deleted_item=person.pop(\"weight\")\n",
    "print(deleted_item)\n",
    "#display updated dictionary\n",
    "print(person)"
   ]
  },
  {
   "cell_type": "code",
   "execution_count": 4,
   "id": "28c469bc",
   "metadata": {},
   "outputs": [
    {
     "name": "stdout",
     "output_type": "stream",
     "text": [
      "{}\n"
     ]
    }
   ],
   "source": [
    "# remove all item (key-values) from dict\n",
    "person.clear()\n",
    "# display updated dictionary\n",
    "print(person) "
   ]
  },
  {
   "cell_type": "code",
   "execution_count": 6,
   "id": "b60f2237",
   "metadata": {},
   "outputs": [],
   "source": [
    "person = {'name': 'Sanvee', 'country': 'India', 'telephone': 1178, 'weight': 50, 'height': 5.4}\n",
    "#delete the entire dictionary\n",
    "del person\n",
    "\n"
   ]
  },
  {
   "cell_type": "code",
   "execution_count": 7,
   "id": "df8be120",
   "metadata": {},
   "outputs": [
    {
     "ename": "NameError",
     "evalue": "name 'person' is not defined",
     "output_type": "error",
     "traceback": [
      "\u001b[1;31m---------------------------------------------------------------------------\u001b[0m",
      "\u001b[1;31mNameError\u001b[0m                                 Traceback (most recent call last)",
      "\u001b[1;32m~\\AppData\\Local\\Temp/ipykernel_3996/4147899475.py\u001b[0m in \u001b[0;36m<module>\u001b[1;34m\u001b[0m\n\u001b[1;32m----> 1\u001b[1;33m \u001b[0mprint\u001b[0m\u001b[1;33m(\u001b[0m\u001b[0mperson\u001b[0m\u001b[1;33m)\u001b[0m\u001b[1;33m\u001b[0m\u001b[1;33m\u001b[0m\u001b[0m\n\u001b[0m",
      "\u001b[1;31mNameError\u001b[0m: name 'person' is not defined"
     ]
    }
   ],
   "source": [
    "print(person)"
   ]
  },
  {
   "cell_type": "code",
   "execution_count": 8,
   "id": "2576c639",
   "metadata": {},
   "outputs": [
    {
     "name": "stdout",
     "output_type": "stream",
     "text": [
      "{'Sanvee': 75, 'Siddhesh': 55}\n"
     ]
    }
   ],
   "source": [
    "#Copy a Dictionary\n",
    "dict1 = {'Sanvee': 75, 'Siddhesh': 55}\n",
    "# Copy dictionary using copy() method\n",
    "dict2 = dict1.copy()\n",
    "# printing the new dictionary\n",
    "print(dict2)"
   ]
  },
  {
   "cell_type": "code",
   "execution_count": 9,
   "id": "43ee60bb",
   "metadata": {},
   "outputs": [
    {
     "name": "stdout",
     "output_type": "stream",
     "text": [
      "{'Sanvee': 75, 'Siddhesh': 55}\n"
     ]
    }
   ],
   "source": [
    "dict1 = {'Sanvee': 75, 'Siddhesh': 55}\n",
    "# Copy dictionary using assignment = operator\n",
    "dict2 = dict1\n",
    "print(dict2)\n"
   ]
  },
  {
   "cell_type": "code",
   "execution_count": 11,
   "id": "44da570c",
   "metadata": {},
   "outputs": [
    {
     "name": "stdout",
     "output_type": "stream",
     "text": [
      "{'Sanvee': 90, 'Siddhesh': 55}\n",
      "{'Sanvee': 90, 'Siddhesh': 55}\n"
     ]
    }
   ],
   "source": [
    "dict2.update({'Sanvee': 90})#deep copying\n",
    "print(dict2)\n",
    "print(dict1)"
   ]
  },
  {
   "cell_type": "code",
   "execution_count": 12,
   "id": "77e54b28",
   "metadata": {},
   "outputs": [
    {
     "name": "stdout",
     "output_type": "stream",
     "text": [
      "[('a', 35), ('b', 95), ('c', 45)]\n",
      "['a', 'b', 'c']\n",
      "[35, 45, 95]\n"
     ]
    }
   ],
   "source": [
    "dict1 = {'c': 45, 'b': 95, 'a': 35}\n",
    "# sorting dictionary by keys\n",
    "print(sorted(dict1.items()))\n",
    "# sort dict eys\n",
    "print(sorted(dict1))\n",
    "# sort dictionary values\n",
    "print(sorted(dict1.values()))"
   ]
  },
  {
   "cell_type": "code",
   "execution_count": 13,
   "id": "8c063f19",
   "metadata": {},
   "outputs": [
    {
     "name": "stdout",
     "output_type": "stream",
     "text": [
      "Maximum Key 3\n",
      "Minimum Key 1\n"
     ]
    }
   ],
   "source": [
    "dict = {1:'aaa',2:'bbb',3:'AAA'}\n",
    "print('Maximum Key',max(dict))  \n",
    "print('Minimum Key',min(dict)) "
   ]
  },
  {
   "cell_type": "code",
   "execution_count": null,
   "id": "d1154811",
   "metadata": {},
   "outputs": [],
   "source": []
  }
 ],
 "metadata": {
  "kernelspec": {
   "display_name": "Python 3 (ipykernel)",
   "language": "python",
   "name": "python3"
  },
  "language_info": {
   "codemirror_mode": {
    "name": "ipython",
    "version": 3
   },
   "file_extension": ".py",
   "mimetype": "text/x-python",
   "name": "python",
   "nbconvert_exporter": "python",
   "pygments_lexer": "ipython3",
   "version": "3.9.7"
  }
 },
 "nbformat": 4,
 "nbformat_minor": 5
}
