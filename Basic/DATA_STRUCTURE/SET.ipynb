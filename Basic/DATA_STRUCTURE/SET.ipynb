{
 "cells": [
  {
   "cell_type": "markdown",
   "id": "f2f100f8",
   "metadata": {},
   "source": [
    "#  SET"
   ]
  },
  {
   "cell_type": "code",
   "execution_count": 3,
   "id": "6c93019c",
   "metadata": {},
   "outputs": [
    {
     "name": "stdout",
     "output_type": "stream",
     "text": [
      "{1, 2, 3, 4, 6, 8}\n"
     ]
    }
   ],
   "source": [
    "\n",
    "Set1= {1,4,6,2,8,3}\n",
    "print(Set)\n"
   ]
  },
  {
   "cell_type": "code",
   "execution_count": 2,
   "id": "9780092a",
   "metadata": {},
   "outputs": [
    {
     "name": "stdout",
     "output_type": "stream",
     "text": [
      "{25, 75.25, 'Sanvee'}\n"
     ]
    }
   ],
   "source": [
    "sample_set = {'Sanvee', 25, 75.25}\n",
    "print(sample_set)\n"
   ]
  },
  {
   "cell_type": "code",
   "execution_count": 4,
   "id": "522ef54f",
   "metadata": {},
   "outputs": [
    {
     "data": {
      "text/plain": [
       "set"
      ]
     },
     "execution_count": 4,
     "metadata": {},
     "output_type": "execute_result"
    }
   ],
   "source": [
    "type(Set1)"
   ]
  },
  {
   "cell_type": "code",
   "execution_count": 5,
   "id": "a71b0a38",
   "metadata": {},
   "outputs": [
    {
     "data": {
      "text/plain": [
       "6"
      ]
     },
     "execution_count": 5,
     "metadata": {},
     "output_type": "execute_result"
    }
   ],
   "source": [
    "len(Set1)"
   ]
  },
  {
   "cell_type": "code",
   "execution_count": 6,
   "id": "2710a96c",
   "metadata": {},
   "outputs": [
    {
     "name": "stdout",
     "output_type": "stream",
     "text": [
      "{'orange', 'cherry', 'banana', 'apple'}\n"
     ]
    }
   ],
   "source": [
    "#Add items\n",
    "thisset = {\"apple\", \"banana\", \"cherry\"}\n",
    "thisset.add(\"orange\")\n",
    "print(thisset)"
   ]
  },
  {
   "cell_type": "code",
   "execution_count": 7,
   "id": "d8990fce",
   "metadata": {},
   "outputs": [
    {
     "name": "stdout",
     "output_type": "stream",
     "text": [
      "{'cherry', 'banana', 'mango', 'apple'}\n"
     ]
    }
   ],
   "source": [
    "thisset = {\"apple\", \"banana\", \"cherry\"}\n",
    "thisset.update([\"mango\"])\n",
    "print(thisset)"
   ]
  },
  {
   "cell_type": "code",
   "execution_count": 8,
   "id": "264a88be",
   "metadata": {},
   "outputs": [
    {
     "name": "stdout",
     "output_type": "stream",
     "text": [
      "{'cherry', 'banana', 'pineapple', 'papaya', 'mango', 'apple'}\n"
     ]
    }
   ],
   "source": [
    "a = {\"apple\", \"banana\", \"cherry\"}\n",
    "b = {\"pineapple\", \"mango\", \"papaya\"}\n",
    "a.update(b)\n",
    "print(a)"
   ]
  },
  {
   "cell_type": "code",
   "execution_count": 9,
   "id": "fa6bb2ec",
   "metadata": {},
   "outputs": [
    {
     "name": "stdout",
     "output_type": "stream",
     "text": [
      "{'red', 'orange', 'green', 'black', 'blue', 'white'}\n"
     ]
    }
   ],
   "source": [
    "#Remove Items\n",
    "#Remove method\n",
    "color_set = {'red', 'orange', 'yellow', 'white', 'black', 'blue', 'green'}\n",
    "# remove single item\n",
    "color_set.remove('yellow')\n",
    "print(color_set)"
   ]
  },
  {
   "cell_type": "code",
   "execution_count": 10,
   "id": "0dc615d8",
   "metadata": {},
   "outputs": [
    {
     "name": "stdout",
     "output_type": "stream",
     "text": [
      "{'red', 'orange', 'green', 'black', 'blue'}\n"
     ]
    }
   ],
   "source": [
    "#discard method\n",
    "color_set.discard('white')\n",
    "print(color_set)"
   ]
  },
  {
   "cell_type": "code",
   "execution_count": 11,
   "id": "0dd2b477",
   "metadata": {},
   "outputs": [
    {
     "name": "stdout",
     "output_type": "stream",
     "text": [
      "red\n"
     ]
    }
   ],
   "source": [
    "#pop() method\n",
    "## remove any random item from a set\n",
    "deleted_item = color_set.pop()\n",
    "print(deleted_item)"
   ]
  },
  {
   "cell_type": "code",
   "execution_count": 12,
   "id": "1d5e1f3a",
   "metadata": {},
   "outputs": [
    {
     "name": "stdout",
     "output_type": "stream",
     "text": [
      "set()\n"
     ]
    }
   ],
   "source": [
    "# remove all items\n",
    "color_set.clear()\n",
    "print(color_set)"
   ]
  },
  {
   "cell_type": "code",
   "execution_count": 13,
   "id": "ce390275",
   "metadata": {},
   "outputs": [
    {
     "name": "stdout",
     "output_type": "stream",
     "text": [
      "{'red', 'orange', 'yellow', 'green', 'black', 'blue', 'white'}\n"
     ]
    }
   ],
   "source": [
    "color_set = {'red', 'orange', 'yellow', 'white', 'black', 'blue', 'green'}\n",
    "print(color_set)"
   ]
  },
  {
   "cell_type": "code",
   "execution_count": 14,
   "id": "eaf1ec75",
   "metadata": {},
   "outputs": [
    {
     "ename": "NameError",
     "evalue": "name 'color_set' is not defined",
     "output_type": "error",
     "traceback": [
      "\u001b[1;31m---------------------------------------------------------------------------\u001b[0m",
      "\u001b[1;31mNameError\u001b[0m                                 Traceback (most recent call last)",
      "\u001b[1;32m~\\AppData\\Local\\Temp/ipykernel_13992/1927633263.py\u001b[0m in \u001b[0;36m<module>\u001b[1;34m\u001b[0m\n\u001b[0;32m      1\u001b[0m \u001b[1;32mdel\u001b[0m \u001b[0mcolor_set\u001b[0m\u001b[1;33m\u001b[0m\u001b[1;33m\u001b[0m\u001b[0m\n\u001b[1;32m----> 2\u001b[1;33m \u001b[0mprint\u001b[0m\u001b[1;33m(\u001b[0m\u001b[0mcolor_set\u001b[0m\u001b[1;33m)\u001b[0m\u001b[1;33m\u001b[0m\u001b[1;33m\u001b[0m\u001b[0m\n\u001b[0m",
      "\u001b[1;31mNameError\u001b[0m: name 'color_set' is not defined"
     ]
    }
   ],
   "source": [
    "del color_set\n",
    "print(color_set)"
   ]
  },
  {
   "cell_type": "code",
   "execution_count": 15,
   "id": "2035bcc4",
   "metadata": {},
   "outputs": [],
   "source": [
    "#SetOperations\n"
   ]
  },
  {
   "cell_type": "code",
   "execution_count": 16,
   "id": "d427c9ff",
   "metadata": {},
   "outputs": [
    {
     "name": "stdout",
     "output_type": "stream",
     "text": [
      "{'orange', 'red', 'yellow', 'green', 'violet', 'blue', 'indigo'}\n"
     ]
    }
   ],
   "source": [
    "#Union\n",
    "color_set = {'violet', 'indigo', 'blue', 'green', 'yellow'}\n",
    "remaining_colors = {'indigo', 'orange', 'red'}\n",
    "# union of two set using OR operator\n",
    "vibgyor_colors = color_set | remaining_colors\n",
    "print(vibgyor_colors)\n"
   ]
  },
  {
   "cell_type": "code",
   "execution_count": 17,
   "id": "dba1eadf",
   "metadata": {},
   "outputs": [
    {
     "name": "stdout",
     "output_type": "stream",
     "text": [
      "{'orange', 'red', 'yellow', 'green', 'violet', 'blue', 'indigo'}\n"
     ]
    }
   ],
   "source": [
    "vibgyor_colors = color_set.union(remaining_colors)\n",
    "print(vibgyor_colors)"
   ]
  },
  {
   "cell_type": "code",
   "execution_count": 18,
   "id": "8da7ac3c",
   "metadata": {},
   "outputs": [
    {
     "name": "stdout",
     "output_type": "stream",
     "text": [
      "{'indigo'}\n"
     ]
    }
   ],
   "source": [
    "#Intersection\n",
    "color_set = {'violet', 'indigo', 'blue', 'green', 'yellow'}\n",
    "remaining_colors = {'indigo', 'orange', 'red'}\n",
    "# intersection of two set using & operator\n",
    "new_set = color_set & remaining_colors\n",
    "print(new_set)"
   ]
  },
  {
   "cell_type": "code",
   "execution_count": 19,
   "id": "e03a7bbc",
   "metadata": {},
   "outputs": [
    {
     "name": "stdout",
     "output_type": "stream",
     "text": [
      "{'blue', 'yellow', 'green', 'violet'}\n",
      "{'blue', 'yellow', 'green', 'violet'}\n"
     ]
    }
   ],
   "source": [
    "color_set = {'violet', 'indigo', 'blue', 'green', 'yellow'}\n",
    "remaining_colors = {'indigo', 'orange', 'red'}\n",
    "# difference using '-' operator\n",
    "print(color_set - remaining_colors)\n",
    "# using difference() method\n",
    "print(color_set.difference(remaining_colors))"
   ]
  },
  {
   "cell_type": "code",
   "execution_count": 20,
   "id": "4a5ec135",
   "metadata": {},
   "outputs": [
    {
     "name": "stdout",
     "output_type": "stream",
     "text": [
      "{'orange', 'red', 'green', 'yellow', 'violet', 'blue'}\n",
      "{'orange', 'red', 'green', 'yellow', 'violet', 'blue'}\n"
     ]
    }
   ],
   "source": [
    "#Symmetric difference\n",
    "color_set = {'violet', 'indigo', 'blue', 'green', 'yellow'}\n",
    "remaining_colors = {'indigo', 'orange', 'red'}\n",
    "# symmetric difference between using ^ operator\n",
    "unique_items = color_set ^ remaining_colors\n",
    "print(unique_items)\n",
    "# Output {'blue', 'orange', 'violet', 'green', 'yellow', 'red'}\n",
    "# using symmetric_difference()\n",
    "unique_items2 = color_set.symmetric_difference(remaining_colors)\n",
    "print(unique_items2)\n"
   ]
  },
  {
   "cell_type": "code",
   "execution_count": 21,
   "id": "92a051c8",
   "metadata": {},
   "outputs": [
    {
     "name": "stdout",
     "output_type": "stream",
     "text": [
      "True\n",
      "False\n"
     ]
    }
   ],
   "source": [
    "color_set1 = {'violet', 'indigo', 'blue', 'green', 'yellow', 'orange', 'red'}\n",
    "color_set2 = {'indigo', 'orange', 'red'}\n",
    "# subset\n",
    "print(color_set2.issubset(color_set1))\n",
    "print(color_set1.issubset(color_set2))"
   ]
  },
  {
   "cell_type": "code",
   "execution_count": 22,
   "id": "679057d0",
   "metadata": {},
   "outputs": [
    {
     "name": "stdout",
     "output_type": "stream",
     "text": [
      "False\n",
      "True\n"
     ]
    }
   ],
   "source": [
    "color_set1 = {'violet', 'blue', 'yellow', 'red'}\n",
    "color_set2 = {'orange', 'red'}\n",
    "color_set3 = {'green', 'orange'}\n",
    "# disjoint\n",
    "print(color_set2.isdisjoint(color_set1))\n",
    "# Output 'False' because contains 'red' as a common item\n",
    "print(color_set3.isdisjoint(color_set1))"
   ]
  },
  {
   "cell_type": "code",
   "execution_count": 23,
   "id": "7bfb5d53",
   "metadata": {},
   "outputs": [
    {
     "name": "stdout",
     "output_type": "stream",
     "text": [
      "all() With all true values: True\n",
      "any() with all true Values: True\n"
     ]
    }
   ],
   "source": [
    "set1 = {1, 2, 3, 4}\n",
    "set2 = {0, 2, 4, 6, 8} # set with one false value '0'\n",
    "set3 = {True, True} # set with all true\n",
    "set4 = {True, False} # set with one false\n",
    "set5 = {False, 0} # set with both false values\n",
    "# checking all true value set\n",
    "print('all() With all true values:', all(set1))\n",
    "print('any() with all true Values:', any(set1)) "
   ]
  },
  {
   "cell_type": "code",
   "execution_count": 24,
   "id": "0fa7a5ce",
   "metadata": {},
   "outputs": [
    {
     "name": "stdout",
     "output_type": "stream",
     "text": [
      "15\n",
      "abc\n",
      "2\n",
      "ABC\n"
     ]
    }
   ],
   "source": [
    "set1 = {2, 4, 6, 10, 8, 15}\n",
    "set2 = {'ABC', 'abc'}\n",
    "# Max item from integer Set\n",
    "print(max(set1)) # 15\n",
    "# Max item from string Set\n",
    "print(max(set2)) # abc\n",
    "# Minimum item from integer Set\n",
    "print(min(set1)) # 2\n",
    "# Minimum item from string Set\n",
    "print(min(set2)) # ABC"
   ]
  },
  {
   "cell_type": "code",
   "execution_count": null,
   "id": "5fd9cde2",
   "metadata": {},
   "outputs": [],
   "source": []
  }
 ],
 "metadata": {
  "kernelspec": {
   "display_name": "Python 3 (ipykernel)",
   "language": "python",
   "name": "python3"
  },
  "language_info": {
   "codemirror_mode": {
    "name": "ipython",
    "version": 3
   },
   "file_extension": ".py",
   "mimetype": "text/x-python",
   "name": "python",
   "nbconvert_exporter": "python",
   "pygments_lexer": "ipython3",
   "version": "3.9.7"
  }
 },
 "nbformat": 4,
 "nbformat_minor": 5
}
