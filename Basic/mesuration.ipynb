{
 "cells": [
  {
   "cell_type": "code",
   "execution_count": 3,
   "id": "fc816908",
   "metadata": {},
   "outputs": [
    {
     "name": "stdout",
     "output_type": "stream",
     "text": [
      "Enter the length of rectangle : 15\n",
      "Enter the breadth of rectangle : 11\n",
      "Area of rectangle  165\n"
     ]
    }
   ],
   "source": [
    "length=int(input(\"Enter the length of rectangle : \"))\n",
    "breadth=int(input(\"Enter the breadth of rectangle : \"))\n",
    "Area_of_rectangle=int(length*breadth)\n",
    "print(\"Area of rectangle \", Area_of_rectangl\"e ,)"
   ]
  },
  {
   "cell_type": "code",
   "execution_count": 4,
   "id": "9a786c69",
   "metadata": {},
   "outputs": [
    {
     "name": "stdout",
     "output_type": "stream",
     "text": [
      "Enter the side of square : 25\n",
      "Area of Square 625\n"
     ]
    }
   ],
   "source": [
    "side=int(input(\"Enter the side of square : \"))\n",
    "Area=int(side*side)\n",
    "print(\"Area of Square\",Area)"
   ]
  },
  {
   "cell_type": "code",
   "execution_count": 2,
   "id": "10a788c7",
   "metadata": {},
   "outputs": [
    {
     "name": "stdout",
     "output_type": "stream",
     "text": [
      "Enter the radius of circle : 14\n",
      "Area of circle is  615.44\n"
     ]
    }
   ],
   "source": [
    "radius=int(input(\"Enter the radius of circle : \"))\n",
    "py=3.14\n",
    "Area_of_circle=float(py*radius*radius)\n",
    "print(\"Area of circle is \", Area_of_circle)"
   ]
  },
  {
   "cell_type": "code",
   "execution_count": 4,
   "id": "7f0b0725",
   "metadata": {},
   "outputs": [
    {
     "name": "stdout",
     "output_type": "stream",
     "text": [
      "Enter the length of rectangle : 12\n",
      "Enter the breadth of rectangle : 8\n",
      "perimeter of rectangle 40\n"
     ]
    }
   ],
   "source": [
    "length=int(input(\"Enter the length of rectangle : \"))\n",
    "breadth=int(input(\"Enter the breadth of rectangle : \"))\n",
    "perimeter_of_rectangle=int(2*(length+breadth))\n",
    "print(\"perimeter of rectangle\", perimeter_of_rectangle)"
   ]
  },
  {
   "cell_type": "code",
   "execution_count": 5,
   "id": "80fb3fba",
   "metadata": {},
   "outputs": [
    {
     "name": "stdout",
     "output_type": "stream",
     "text": [
      "Enter the side of square : 11\n",
      "perimeter_of_square 44\n"
     ]
    }
   ],
   "source": [
    "side=int(input(\"Enter the side of square : \"))\n",
    "perimeter_of_square=int(4*side)\n",
    "print(\"perimeter_of_square\",perimeter_of_square)"
   ]
  },
  {
   "cell_type": "code",
   "execution_count": 6,
   "id": "2fde3653",
   "metadata": {},
   "outputs": [
    {
     "name": "stdout",
     "output_type": "stream",
     "text": [
      "Enter the radius of circle : 25\n",
      "circumference of circle is  157.0\n"
     ]
    }
   ],
   "source": [
    "radius=int(input(\"Enter the radius of circle : \"))\n",
    "py=3.14\n",
    "circumference_of_circle=float(2*py*radius)\n",
    "print(\"circumference of circle is \", circumference_of_circle)"
   ]
  },
  {
   "cell_type": "code",
   "execution_count": 11,
   "id": "53bc0998",
   "metadata": {},
   "outputs": [
    {
     "name": "stdout",
     "output_type": "stream",
     "text": [
      "Enter the side of cube : 12\n",
      "volume of cube 1728\n",
      "totals urface area 726\n"
     ]
    }
   ],
   "source": [
    "side_of_cube=int(input(\"Enter the side of cube : \"))\n",
    "volume_of_cube=int(side_of_cube*side_of_cube*side_of_cube)\n",
    "print(\"volume of cube\" , volume_of_cube)\n",
    "total_surface_area=int(6*side*side)\n",
    "print(\"totals urface area\", total_surface_area)\n"
   ]
  },
  {
   "cell_type": "code",
   "execution_count": 9,
   "id": "d9893959",
   "metadata": {},
   "outputs": [
    {
     "name": "stdout",
     "output_type": "stream",
     "text": [
      "Enter the length of cuboid : 12\n",
      "Enter the width of cuboid : 9\n",
      "Enter the height of cuboid : 5\n",
      "volume of cuboid 540\n",
      "total surface area 426\n"
     ]
    }
   ],
   "source": [
    "length=int(input(\"Enter the length of cuboid : \"))\n",
    "width=int(input(\"Enter the width of cuboid : \"))\n",
    "height=int(input(\"Enter the height of cuboid : \"))\n",
    "volume_of_cuboid=int(length*width*height)\n",
    "print(\"volume of cuboid\",volume_of_cuboid)\n",
    "total_surface_area=int(2*length*width+ 2*width*height+ 2*length*height)\n",
    "print(\"total surface area\", total_surface_area)"
   ]
  },
  {
   "cell_type": "code",
   "execution_count": null,
   "id": "7b526f6e",
   "metadata": {},
   "outputs": [],
   "source": []
  }
 ],
 "metadata": {
  "kernelspec": {
   "display_name": "Python 3 (ipykernel)",
   "language": "python",
   "name": "python3"
  },
  "language_info": {
   "codemirror_mode": {
    "name": "ipython",
    "version": 3
   },
   "file_extension": ".py",
   "mimetype": "text/x-python",
   "name": "python",
   "nbconvert_exporter": "python",
   "pygments_lexer": "ipython3",
   "version": "3.9.7"
  }
 },
 "nbformat": 4,
 "nbformat_minor": 5
}
