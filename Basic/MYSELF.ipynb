{
 "cells": [
  {
   "cell_type": "markdown",
   "id": "6709b366",
   "metadata": {},
   "source": [
    "#  MYSELF"
   ]
  },
  {
   "cell_type": "code",
   "execution_count": 15,
   "id": "8f385912",
   "metadata": {},
   "outputs": [],
   "source": [
    "Name=\"Bhakti More.\"\n",
    "village=\"Vaibhavwadi.\"\n",
    "live_in=\"Mumbai.\"\n",
    "school=\"Adarsh vidya mandir bhuibawada.\"\n",
    "qualification=\"Bsc IT.\"\n",
    "college=\"Asmita college vikhroli.\"\n",
    "member=int(4)\n",
    "father=\"farmer.\"\n",
    "mother=\"house-maker.\"\n",
    "brother=\"technician in  hospital.\"\n",
    "hobby1=\"drawing.\"\n",
    "hobby2=\"cooking.\"\n",
    "goal=\" to work in a reputed company.\"\n",
    "long_term_goal=\"to work in higher position in company.\"\n",
    "end=\"Thats all about me.\"\n",
    "greet=\"Thank you!!\""
   ]
  },
  {
   "cell_type": "code",
   "execution_count": 16,
   "id": "9a9460aa",
   "metadata": {},
   "outputs": [
    {
     "name": "stdout",
     "output_type": "stream",
     "text": [
      "    My name is Bhakti More.I am from Vaibhavwadi. Right now, I am in  Mumbai. I completed my schooling from Adarsh vidya mandir bhuibawada. My higher qualification is  Bsc IT. i did it from Asmita college vikhroli.\n",
      "     There are 4 in my family.  My father is farmer. My mother is a house-maker. I have a elder brother. He is  technician in  hospital. My hobby is  drawing. i aslo love cooking. My goal is  to work in a reputed company. my long term goal is to work in higher position in company. Thats all about me.\n",
      "Thank you!!\n"
     ]
    }
   ],
   "source": [
    "print(\"    My name is\",Name,end=\"\")\n",
    "print(\"I am from\",village,end=\" \")\n",
    "print(\"Right now, I am in \",live_in,end=\" \")\n",
    "print(\"I completed my schooling from\",school,end=\" \")\n",
    "print(\"My higher qualification is \",qualification,end=\" \")\n",
    "print(\"i did it from\",college)\n",
    "print(\"     There are\",member,\"in my family. \",end=\" \")\n",
    "print(\"My father is\",father,end=\" \")\n",
    "print(\"My mother is a\",mother, end=\" \")\n",
    "print(\"I have a elder brother. He is \",brother,end=\" \")\n",
    "print(\"My hobby is \",hobby1,end=\" \")\n",
    "print(\"i aslo love\",hobby2,end=\" \")\n",
    "print(\"My goal is\",goal,end=\" \")\n",
    "print(\"my long term goal is\",long_term_goal,end=\" \")\n",
    "print(     end)\n",
    "print(     greet)"
   ]
  },
  {
   "cell_type": "code",
   "execution_count": null,
   "id": "aa2d4b60",
   "metadata": {},
   "outputs": [],
   "source": []
  }
 ],
 "metadata": {
  "kernelspec": {
   "display_name": "Python 3 (ipykernel)",
   "language": "python",
   "name": "python3"
  },
  "language_info": {
   "codemirror_mode": {
    "name": "ipython",
    "version": 3
   },
   "file_extension": ".py",
   "mimetype": "text/x-python",
   "name": "python",
   "nbconvert_exporter": "python",
   "pygments_lexer": "ipython3",
   "version": "3.9.7"
  }
 },
 "nbformat": 4,
 "nbformat_minor": 5
}
