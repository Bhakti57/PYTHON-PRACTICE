{
 "cells": [
  {
   "cell_type": "code",
   "execution_count": 3,
   "id": "6b6bc97c",
   "metadata": {},
   "outputs": [
    {
     "name": "stdout",
     "output_type": "stream",
     "text": [
      "The Honda city runs at the maximum speed of 150km/hr\n",
      "The Skoda Octavia runs at the maximum speed of 210km/hr\n"
     ]
    }
   ],
   "source": [
    "class Car:\n",
    "    def __init__(self, name, mileage):\n",
    "        self.name = name\n",
    "        self.mileage = mileage\n",
    "    def max_speed(self, speed):\n",
    "        return f\"The {self.name} runs at the maximum speed of {speed}km/hr\"\n",
    "Honda = Car(\"Honda city\",21)\n",
    "print(Honda.max_speed(150))\n",
    "\n",
    "Skoda = Car(\"Skoda Octavia\",13)\n",
    "print(Skoda.max_speed(210))"
   ]
  },
  {
   "cell_type": "code",
   "execution_count": 12,
   "id": "ad252e81",
   "metadata": {},
   "outputs": [
    {
     "name": "stdout",
     "output_type": "stream",
     "text": [
      "The cat is white in colour and is pet in type\n",
      "The deer is orange in colour and is wild in type\n"
     ]
    }
   ],
   "source": [
    "class animal:\n",
    "    def __init__(self,name,colour):\n",
    "        self.name=name\n",
    "        self.colour=colour\n",
    "    def animal_type(self,size):\n",
    "        return f\"The {self.name} is {self.colour} in colour and is {size} in type\"\n",
    "\n",
    "ani = animal('cat','white')\n",
    "print(ani.animal_type('pet'))\n",
    "\n",
    "ani2= animal(\"deer\",\"orange\")\n",
    "print(ani2.animal_type(\"wild\"))\n",
    "    "
   ]
  },
  {
   "cell_type": "code",
   "execution_count": 6,
   "id": "9d49619d",
   "metadata": {},
   "outputs": [
    {
     "name": "stdout",
     "output_type": "stream",
     "text": [
      "The Parrot is green in colour and size is medium\n"
     ]
    }
   ],
   "source": [
    "class bird:\n",
    "    def __init__(self,name,colour):\n",
    "        self.name=name\n",
    "        self.colour=colour\n",
    "    def Bird_size(self,size):\n",
    "        return f\"The {self.name} is {self.colour} in colour and size is {size}\"\n",
    "birds= bird('Parrot','green')\n",
    "print(birds.Bird_size(\"medium\"))"
   ]
  },
  {
   "cell_type": "code",
   "execution_count": 6,
   "id": "52b65bbf",
   "metadata": {},
   "outputs": [
    {
     "name": "stdout",
     "output_type": "stream",
     "text": [
      "The BMW 7-series car gives the mileage of 39.53km/l\n",
      "BMW 7-series\n",
      "39.53\n"
     ]
    }
   ],
   "source": [
    "class car:\n",
    "    def __init__(self, name, mileage):\n",
    "        self._name = name #protected variable\n",
    "        self.mileage = mileage\n",
    "    def description(self): \n",
    "        return f\"The {self._name} car gives the mileage of {self.mileage}km/l\"\n",
    "obj = car(\"BMW 7-series\",39.53)\n",
    "#accessing protected variable via class method \n",
    "print(obj.description())\n",
    "#accessing protected variable directly from outside\n",
    "print(obj._name)\n",
    "print(obj.mileage)\n"
   ]
  },
  {
   "cell_type": "code",
   "execution_count": 9,
   "id": "392e92ed",
   "metadata": {},
   "outputs": [
    {
     "name": "stdout",
     "output_type": "stream",
     "text": [
      "The BMW 7-series car gives the mileage of 39.53km/l\n",
      "39.53\n"
     ]
    },
    {
     "ename": "AttributeError",
     "evalue": "'Car' object has no attribute '__name'",
     "output_type": "error",
     "traceback": [
      "\u001b[1;31m---------------------------------------------------------------------------\u001b[0m",
      "\u001b[1;31mAttributeError\u001b[0m                            Traceback (most recent call last)",
      "\u001b[1;32m~\\AppData\\Local\\Temp/ipykernel_1168/3942035663.py\u001b[0m in \u001b[0;36m<module>\u001b[1;34m\u001b[0m\n\u001b[0;32m     10\u001b[0m \u001b[1;31m#accessing private variable directly from outside\u001b[0m\u001b[1;33m\u001b[0m\u001b[1;33m\u001b[0m\u001b[0m\n\u001b[0;32m     11\u001b[0m \u001b[0mprint\u001b[0m\u001b[1;33m(\u001b[0m\u001b[0mobj\u001b[0m\u001b[1;33m.\u001b[0m\u001b[0mmileage\u001b[0m\u001b[1;33m)\u001b[0m\u001b[1;33m\u001b[0m\u001b[1;33m\u001b[0m\u001b[0m\n\u001b[1;32m---> 12\u001b[1;33m \u001b[0mprint\u001b[0m\u001b[1;33m(\u001b[0m\u001b[0mobj\u001b[0m\u001b[1;33m.\u001b[0m\u001b[0m__name\u001b[0m\u001b[1;33m)\u001b[0m\u001b[1;33m\u001b[0m\u001b[1;33m\u001b[0m\u001b[0m\n\u001b[0m",
      "\u001b[1;31mAttributeError\u001b[0m: 'Car' object has no attribute '__name'"
     ]
    }
   ],
   "source": [
    "class Car:\n",
    "    def __init__(self, name, mileage):\n",
    "        self.__name = name #private variable \n",
    "        self.mileage = mileage\n",
    "    def description(self): \n",
    "        return f\"The {self.__name} car gives the mileage of {self.mileage}km/l\"\n",
    "obj = Car(\"BMW 7-series\",39.53)\n",
    "#accessing private variable via class method \n",
    "print(obj.description())\n",
    "#accessing private variable directly from outside\n",
    "print(obj.mileage)\n",
    "print(obj.__name)\n"
   ]
  }
 ],
 "metadata": {
  "kernelspec": {
   "display_name": "Python 3 (ipykernel)",
   "language": "python",
   "name": "python3"
  },
  "language_info": {
   "codemirror_mode": {
    "name": "ipython",
    "version": 3
   },
   "file_extension": ".py",
   "mimetype": "text/x-python",
   "name": "python",
   "nbconvert_exporter": "python",
   "pygments_lexer": "ipython3",
   "version": "3.9.7"
  }
 },
 "nbformat": 4,
 "nbformat_minor": 5
}
