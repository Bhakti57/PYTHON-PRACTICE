{
 "cells": [
  {
   "cell_type": "code",
   "execution_count": 2,
   "id": "dc909661",
   "metadata": {},
   "outputs": [
    {
     "name": "stdout",
     "output_type": "stream",
     "text": [
      "I'm in class B\n"
     ]
    }
   ],
   "source": [
    "#Method Overriding\n",
    "\n",
    "class A:\n",
    " def Data(self):\n",
    "    print(\"I'm in class A\")\n",
    "class B(A):\n",
    " def Data(self):\n",
    "    print(\"I'm in class B\")\n",
    "obj = B()\n",
    "obj.Data()"
   ]
  },
  {
   "cell_type": "code",
   "execution_count": 4,
   "id": "fa88cca0",
   "metadata": {},
   "outputs": [
    {
     "name": "stdout",
     "output_type": "stream",
     "text": [
      "Nothing\n",
      "100\n",
      "200\n"
     ]
    }
   ],
   "source": [
    "#Method Overloading\n",
    "class area:\n",
    " def find_area(self, x = None, y = None):\n",
    "    if x != None and y != None:\n",
    "        print(x*y)\n",
    "    elif x != None:\n",
    "        print(x*x)\n",
    "    else:\n",
    "        print(\"Nothing\")\n",
    "obj1 = area()\n",
    "obj1.find_area()\n",
    "obj1.find_area(10)\n",
    "obj1.find_area(10,20)\n"
   ]
  },
  {
   "cell_type": "code",
   "execution_count": 6,
   "id": "3d01773a",
   "metadata": {},
   "outputs": [
    {
     "name": "stdout",
     "output_type": "stream",
     "text": [
      "Rodger details:\n",
      "Rodger is a dog\n",
      "Breed:  Pug\n",
      "Color:  brown\n",
      "\n",
      "Buzo details:\n",
      "Buzo is a dog\n",
      "Breed:  Bulldog\n",
      "Color:  black\n",
      "\n",
      "Accessing class variable using class name\n",
      "dog\n"
     ]
    }
   ],
   "source": [
    "# Python3 program to show that the variables with a value\n",
    "# assigned in the class declaration, are class variables and\n",
    "# variables inside methods and constructors are instance\n",
    "# variables.\n",
    " \n",
    "# Class for Dog\n",
    "class Dog:\n",
    " # Class Variable\n",
    " animal = 'dog' \n",
    " # The init method or constructor\n",
    " def __init__(self, breed, color):\n",
    " \n",
    " # Instance Variable\n",
    "    self.breed = breed\n",
    "    self.color = color \n",
    " \n",
    "# Objects of Dog class\n",
    "Rodger = Dog(\"Pug\", \"brown\")\n",
    "Buzo = Dog(\"Bulldog\", \"black\")\n",
    "print('Rodger details:')\n",
    "print('Rodger is a', Rodger.animal)\n",
    "print('Breed: ', Rodger.breed)\n",
    "print('Color: ', Rodger.color)\n",
    "print('\\nBuzo details:')\n",
    "print('Buzo is a', Buzo.animal)\n",
    "print('Breed: ', Buzo.breed)\n",
    "print('Color: ', Buzo.color)\n",
    "# Class variables can be accessed using class\n",
    "# name also\n",
    "print(\"\\nAccessing class variable using class name\")\n",
    "print(Dog.animal)"
   ]
  },
  {
   "cell_type": "code",
   "execution_count": null,
   "id": "178a8699",
   "metadata": {},
   "outputs": [],
   "source": []
  }
 ],
 "metadata": {
  "kernelspec": {
   "display_name": "Python 3 (ipykernel)",
   "language": "python",
   "name": "python3"
  },
  "language_info": {
   "codemirror_mode": {
    "name": "ipython",
    "version": 3
   },
   "file_extension": ".py",
   "mimetype": "text/x-python",
   "name": "python",
   "nbconvert_exporter": "python",
   "pygments_lexer": "ipython3",
   "version": "3.9.7"
  }
 },
 "nbformat": 4,
 "nbformat_minor": 5
}
