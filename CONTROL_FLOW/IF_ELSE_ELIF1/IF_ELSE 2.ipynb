{
 "cells": [
  {
   "cell_type": "code",
   "execution_count": 2,
   "id": "6a0688cc",
   "metadata": {},
   "outputs": [
    {
     "name": "stdout",
     "output_type": "stream",
     "text": [
      "a is not in python\n"
     ]
    }
   ],
   "source": [
    "#check whether 'a' is in 'Python' string or not\n",
    "A=\"Python\"\n",
    "if \"a\" in A:\n",
    "    print(\"a is in python\")\n",
    "else:\n",
    "    print(\"a is not in python\")"
   ]
  },
  {
   "cell_type": "code",
   "execution_count": 12,
   "id": "47857016",
   "metadata": {},
   "outputs": [
    {
     "name": "stdout",
     "output_type": "stream",
     "text": [
      "enter the letter:a\n",
      "A is vowel\n"
     ]
    }
   ],
   "source": [
    "#Check whether the letter is vowel or not\n",
    "vowel=[\"a\",\"e\",\"i\",\"o\",\"u\",\"A\",\"E\",\"I\",\"O\",\"U\"]\n",
    "b=input(\"enter the letter:\")\n",
    "if b in vowel :\n",
    "    print(B ,\"is vowel\")\n",
    "else:\n",
    "    print(B ,\"is not vowel\")"
   ]
  },
  {
   "cell_type": "code",
   "execution_count": null,
   "id": "f91a2632",
   "metadata": {},
   "outputs": [],
   "source": []
  }
 ],
 "metadata": {
  "kernelspec": {
   "display_name": "Python 3 (ipykernel)",
   "language": "python",
   "name": "python3"
  },
  "language_info": {
   "codemirror_mode": {
    "name": "ipython",
    "version": 3
   },
   "file_extension": ".py",
   "mimetype": "text/x-python",
   "name": "python",
   "nbconvert_exporter": "python",
   "pygments_lexer": "ipython3",
   "version": "3.9.7"
  }
 },
 "nbformat": 4,
 "nbformat_minor": 5
}
