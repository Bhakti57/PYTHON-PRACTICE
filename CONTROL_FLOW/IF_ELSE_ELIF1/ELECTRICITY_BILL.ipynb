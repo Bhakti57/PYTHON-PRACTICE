{
 "cells": [
  {
   "cell_type": "code",
   "execution_count": 1,
   "id": "4e2c3bc1",
   "metadata": {},
   "outputs": [
    {
     "name": "stdout",
     "output_type": "stream",
     "text": [
      "Enter the electric unit: 500\n",
      "Your electricity bill is  1400\n"
     ]
    }
   ],
   "source": [
    "\"\"\"Accept the electric units from user and calculate the bill according to the following rates.\n",
    "\n",
    "First 100 Units     :  Free\n",
    "Next 200 Units      :  Rs 2 per unit.\n",
    "Above 300 Units     :  Rs 5 per unit.\n",
    "\n",
    "if number of unit is 500 then total bill = 0 +400 + 1000 = 1400\n",
    "\"\"\"\n",
    "unit=int(input(\"Enter the electric unit: \"))\n",
    "if unit<=100:\n",
    "    print(\"Your electricity bill is zero cause first 100 units are free.\")\n",
    "elif unit<=300:\n",
    "    print(\"Your electricity bill is \",(unit-100)*2)\n",
    "elif unit>300:\n",
    "    print(\"Your electricity bill is \",((unit-300)*5)+400)\n"
   ]
  },
  {
   "cell_type": "code",
   "execution_count": null,
   "id": "9a39e616",
   "metadata": {},
   "outputs": [],
   "source": []
  }
 ],
 "metadata": {
  "kernelspec": {
   "display_name": "Python 3 (ipykernel)",
   "language": "python",
   "name": "python3"
  },
  "language_info": {
   "codemirror_mode": {
    "name": "ipython",
    "version": 3
   },
   "file_extension": ".py",
   "mimetype": "text/x-python",
   "name": "python",
   "nbconvert_exporter": "python",
   "pygments_lexer": "ipython3",
   "version": "3.9.7"
  }
 },
 "nbformat": 4,
 "nbformat_minor": 5
}
