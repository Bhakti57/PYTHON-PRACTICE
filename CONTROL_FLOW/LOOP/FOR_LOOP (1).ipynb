{
 "cells": [
  {
   "cell_type": "code",
   "execution_count": 1,
   "id": "d222909c",
   "metadata": {},
   "outputs": [
    {
     "name": "stdout",
     "output_type": "stream",
     "text": [
      "23  is odd.\n",
      "45  is odd.\n",
      "25  is odd.\n",
      "33  is odd.\n",
      "71  is odd.\n"
     ]
    }
   ],
   "source": [
    "#Write a program to print only odd numbers from the given list using for loop. \n",
    "L = [23, 45, 32, 25, 46, 33, 71, 90]\n",
    "for i in L:\n",
    "    if i%2==0:\n",
    "        continue\n",
    "    print(i,\" is odd.\")\n",
    "   "
   ]
  },
  {
   "cell_type": "code",
   "execution_count": 2,
   "id": "9a85e403",
   "metadata": {},
   "outputs": [
    {
     "name": "stdout",
     "output_type": "stream",
     "text": [
      "5 5 5 5 5 \n",
      "4 4 4 4 \n",
      "3 3 3 \n",
      "2 2 \n",
      "1 \n"
     ]
    }
   ],
   "source": [
    "\"\"\" Write a program to print the following pattern\n",
    "\n",
    "5 5 5 5 5\n",
    "4 4 4 4\n",
    "3 3 3\n",
    "2 2\n",
    "1\"\"\"\n",
    "for i in range(5,0,-1):\n",
    "    for j in range(i):\n",
    "        print(i,end = \" \")\n",
    "\n",
    "    print()"
   ]
  },
  {
   "cell_type": "code",
   "execution_count": 3,
   "id": "2e6b9d55",
   "metadata": {},
   "outputs": [
    {
     "name": "stdout",
     "output_type": "stream",
     "text": [
      "1 \n",
      "2 2 \n",
      "3 3 3 \n",
      "4 4 4 4 \n",
      "5 5 5 5 5 \n"
     ]
    }
   ],
   "source": [
    "for i in range(1,6,1):\n",
    "    for j in range(i):\n",
    "        print(i,end = \" \")\n",
    "\n",
    "    print()"
   ]
  },
  {
   "cell_type": "code",
   "execution_count": 4,
   "id": "2ba52079",
   "metadata": {},
   "outputs": [
    {
     "name": "stdout",
     "output_type": "stream",
     "text": [
      "1\n",
      "5\n",
      "7\n",
      "11\n",
      "13\n",
      "17\n",
      "19\n"
     ]
    }
   ],
   "source": [
    "#Write a program to print numbers from 1 to 20 except multiple of 2 & 3.\n",
    "for i in range(1,21):\n",
    "    if i%2!=0 and i%3!=0:\n",
    "        print(i)"
   ]
  },
  {
   "cell_type": "code",
   "execution_count": 5,
   "id": "3ae757b7",
   "metadata": {},
   "outputs": [
    {
     "name": "stdout",
     "output_type": "stream",
     "text": [
      "Enter the number: 5\n",
      "The factorial of  5  is  120\n"
     ]
    }
   ],
   "source": [
    "#Write a program to find the factorial of a number.\n",
    "num=int(input(\"Enter the number: \"))\n",
    "factorial=1\n",
    "for i in range(1, num+1):\n",
    "    factorial=factorial*i\n",
    "print(\"The factorial of \",num,\" is \",factorial)\n"
   ]
  },
  {
   "cell_type": "code",
   "execution_count": null,
   "id": "cade8c97",
   "metadata": {},
   "outputs": [],
   "source": [
    "\n"
   ]
  },
  {
   "cell_type": "code",
   "execution_count": 1,
   "id": "bca6f548",
   "metadata": {
    "scrolled": true
   },
   "outputs": [
    {
     "name": "stdout",
     "output_type": "stream",
     "text": [
      "Please enter the total number of list elements:5\n",
      "Please enter the value of 1 element:23\n",
      "Please enter the value of 2 element:45\n",
      "Please enter the value of 3 element:65\n",
      "Please enter the value of 4 element:85\n",
      "Please enter the value of 5 element:75\n",
      "The smallest element in this list is: 23\n",
      "The largest element in this list is: 85\n"
     ]
    }
   ],
   "source": [
    "#Write a program to accept 10 numbers from the user and display the largest & smallest number number.\n",
    "NumList=[]\n",
    "number=int(input(\"Please enter the total number of list elements:\"))\n",
    "for i in range(1,number+1):\n",
    "    value=int(input(\"Please enter the value of %d element:\"%i))\n",
    "    NumList.append(value)\n",
    "    \n",
    "print(\"The smallest element in this list is:\", min(NumList))\n",
    "print(\"The largest element in this list is:\", max(NumList))"
   ]
  },
  {
   "cell_type": "code",
   "execution_count": 2,
   "id": "9168299f",
   "metadata": {},
   "outputs": [
    {
     "name": "stdout",
     "output_type": "stream",
     "text": [
      "Enter the number: 5\n",
      "Number is prime number.\n"
     ]
    }
   ],
   "source": [
    "num=int(input(\"Enter the number: \"))\n",
    "f=0\n",
    "if num==1 or num==0:\n",
    "    f=1\n",
    "for i in range(2,num):\n",
    "    if  num%i==0:\n",
    "        f=1\n",
    "if f==1:\n",
    "    print(\"Number is not prime number.\")\n",
    "else:\n",
    "    print(\"Number is prime number.\")"
   ]
  },
  {
   "cell_type": "code",
   "execution_count": 3,
   "id": "6dc58c6c",
   "metadata": {},
   "outputs": [
    {
     "name": "stdout",
     "output_type": "stream",
     "text": [
      "Please enter the total number of list elements:5\n",
      "Please enter the value of 1 element:2\n",
      "Please enter the value of 2 element:4\n",
      "Please enter the value of 3 element:6\n",
      "Please enter the value of 4 element:8\n",
      "Please enter the value of 5 element:10\n",
      "Average of number is:  6.0\n"
     ]
    }
   ],
   "source": [
    "NumList=[]\n",
    "number=int(input(\"Please enter the total number of list elements:\"))\n",
    "for i in range(1,number+1):\n",
    "    value=int(input(\"Please enter the value of %d element:\"%i))\n",
    "    NumList.append(value)\n",
    "    average=sum(NumList)/number\n",
    "print(\"Average of number is: \",average)"
   ]
  },
  {
   "cell_type": "code",
   "execution_count": null,
   "id": "5fdf5fc2",
   "metadata": {},
   "outputs": [],
   "source": []
  }
 ],
 "metadata": {
  "kernelspec": {
   "display_name": "Python 3 (ipykernel)",
   "language": "python",
   "name": "python3"
  },
  "language_info": {
   "codemirror_mode": {
    "name": "ipython",
    "version": 3
   },
   "file_extension": ".py",
   "mimetype": "text/x-python",
   "name": "python",
   "nbconvert_exporter": "python",
   "pygments_lexer": "ipython3",
   "version": "3.9.7"
  }
 },
 "nbformat": 4,
 "nbformat_minor": 5
}
