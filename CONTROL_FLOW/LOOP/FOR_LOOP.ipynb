{
 "cells": [
  {
   "cell_type": "code",
   "execution_count": 1,
   "id": "d222909c",
   "metadata": {},
   "outputs": [
    {
     "name": "stdout",
     "output_type": "stream",
     "text": [
      "23  is odd.\n",
      "45  is odd.\n",
      "25  is odd.\n",
      "33  is odd.\n",
      "71  is odd.\n"
     ]
    }
   ],
   "source": [
    "#Write a program to print only odd numbers from the given list using for loop. \n",
    "L = [23, 45, 32, 25, 46, 33, 71, 90]\n",
    "for i in L:\n",
    "    if i%2!=0:\n",
    "        print(i,\" is odd.\")\n"
   ]
  },
  {
   "cell_type": "code",
   "execution_count": 25,
   "id": "9a85e403",
   "metadata": {},
   "outputs": [
    {
     "name": "stdout",
     "output_type": "stream",
     "text": [
      "5 5 5 5 5 \n",
      "4 4 4 4 \n",
      "3 3 3 \n",
      "2 2 \n",
      "1 \n"
     ]
    }
   ],
   "source": [
    "\"\"\" Write a program to print the following pattern\n",
    "\n",
    "5 5 5 5 5\n",
    "4 4 4 4\n",
    "3 3 3\n",
    "2 2\n",
    "1\"\"\"\n",
    "for i in range(5,0,-1):\n",
    "    for j in range(i):\n",
    "        print(i,end = \" \")\n",
    "\n",
    "    print()"
   ]
  },
  {
   "cell_type": "code",
   "execution_count": 26,
   "id": "2e6b9d55",
   "metadata": {},
   "outputs": [
    {
     "name": "stdout",
     "output_type": "stream",
     "text": [
      "1 \n",
      "2 2 \n",
      "3 3 3 \n",
      "4 4 4 4 \n",
      "5 5 5 5 5 \n"
     ]
    }
   ],
   "source": [
    "for i in range(1,6,1):\n",
    "    for j in range(i):\n",
    "        print(i,end = \" \")\n",
    "\n",
    "    print()"
   ]
  },
  {
   "cell_type": "code",
   "execution_count": null,
   "id": "2ba52079",
   "metadata": {},
   "outputs": [],
   "source": []
  },
  {
   "cell_type": "code",
   "execution_count": null,
   "id": "3ae757b7",
   "metadata": {},
   "outputs": [],
   "source": []
  }
 ],
 "metadata": {
  "kernelspec": {
   "display_name": "Python 3 (ipykernel)",
   "language": "python",
   "name": "python3"
  },
  "language_info": {
   "codemirror_mode": {
    "name": "ipython",
    "version": 3
   },
   "file_extension": ".py",
   "mimetype": "text/x-python",
   "name": "python",
   "nbconvert_exporter": "python",
   "pygments_lexer": "ipython3",
   "version": "3.9.7"
  }
 },
 "nbformat": 4,
 "nbformat_minor": 5
}
