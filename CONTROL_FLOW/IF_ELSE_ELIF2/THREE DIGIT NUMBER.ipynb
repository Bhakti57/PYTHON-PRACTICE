{
 "cells": [
  {
   "cell_type": "code",
   "execution_count": 7,
   "id": "f0a01826",
   "metadata": {},
   "outputs": [
    {
     "name": "stdout",
     "output_type": "stream",
     "text": [
      "Enter the number: 3568\n",
      "4\n",
      "The entered number is not three digit number.\n"
     ]
    }
   ],
   "source": [
    "#Write a program to check whether the number entered is three digit or not\n",
    "num=int(input(\"Enter the number: \"))\n",
    "count=len(str(num))\n",
    "print(count)\n",
    "if count==3:\n",
    "    print(\"The entered number is three digit number.\")\n",
    "else:\n",
    "    print(\"The entered number is not three digit number.\")"
   ]
  },
  {
   "cell_type": "code",
   "execution_count": null,
   "id": "d2d1a35e",
   "metadata": {},
   "outputs": [],
   "source": []
  }
 ],
 "metadata": {
  "kernelspec": {
   "display_name": "Python 3 (ipykernel)",
   "language": "python",
   "name": "python3"
  },
  "language_info": {
   "codemirror_mode": {
    "name": "ipython",
    "version": 3
   },
   "file_extension": ".py",
   "mimetype": "text/x-python",
   "name": "python",
   "nbconvert_exporter": "python",
   "pygments_lexer": "ipython3",
   "version": "3.9.7"
  }
 },
 "nbformat": 4,
 "nbformat_minor": 5
}
