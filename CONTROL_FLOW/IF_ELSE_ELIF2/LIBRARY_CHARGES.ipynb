{
 "cells": [
  {
   "cell_type": "code",
   "execution_count": 3,
   "id": "79334ee2",
   "metadata": {},
   "outputs": [
    {
     "name": "stdout",
     "output_type": "stream",
     "text": [
      "Enter the number of days: 6\n",
      "library charges :  18\n"
     ]
    }
   ],
   "source": [
    "\"\"\"Accept the number of days from the user and calculate the charge for library according to following :\n",
    "\n",
    "Till five days : Rs 2/day.\n",
    "Six to ten days  : Rs 3/day.\n",
    "11 to 15 days  : Rs 4/day\n",
    "After 15 days    : Rs 5/day\"\"\"\n",
    "day=int(input(\"Enter the number of days: \"))\n",
    "if day<=5:\n",
    "    print(\"library charges : \", day*2)\n",
    "elif 5<day<=10:\n",
    "    print(\"library charges : \", day*3)\n",
    "elif 11<=day<=15:\n",
    "    print(\"library charges : \", day*4)\n",
    "else:\n",
    "    print(\"library charges : \", day*5)\n"
   ]
  },
  {
   "cell_type": "code",
   "execution_count": null,
   "id": "e68b55ba",
   "metadata": {},
   "outputs": [],
   "source": []
  }
 ],
 "metadata": {
  "kernelspec": {
   "display_name": "Python 3 (ipykernel)",
   "language": "python",
   "name": "python3"
  },
  "language_info": {
   "codemirror_mode": {
    "name": "ipython",
    "version": 3
   },
   "file_extension": ".py",
   "mimetype": "text/x-python",
   "name": "python",
   "nbconvert_exporter": "python",
   "pygments_lexer": "ipython3",
   "version": "3.9.7"
  }
 },
 "nbformat": 4,
 "nbformat_minor": 5
}
