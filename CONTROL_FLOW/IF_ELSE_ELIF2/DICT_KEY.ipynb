{
 "cells": [
  {
   "cell_type": "code",
   "execution_count": 3,
   "id": "f2a592f7",
   "metadata": {},
   "outputs": [
    {
     "name": "stdout",
     "output_type": "stream",
     "text": [
      "Enter any key: name\n",
      "The given key is present in the dictionary.\n"
     ]
    }
   ],
   "source": [
    "#Check whether the given key is present in the dictionary or not.\n",
    "person={\"name\": \"bhakti\" ,\"age\": 20, \"location\": \"bhandup\", \"field\": \"IT\", \"dob\":5}\n",
    "A=input(\"Enter any key: \")\n",
    "if A in person:\n",
    "    print(\"The given key is present in the dictionary.\")\n",
    "else:\n",
    "    print(\"The given key is not present in the dictionary.\")"
   ]
  },
  {
   "cell_type": "code",
   "execution_count": null,
   "id": "522dbd50",
   "metadata": {},
   "outputs": [],
   "source": []
  },
  {
   "cell_type": "code",
   "execution_count": null,
   "id": "50c75b97",
   "metadata": {},
   "outputs": [],
   "source": []
  }
 ],
 "metadata": {
  "kernelspec": {
   "display_name": "Python 3 (ipykernel)",
   "language": "python",
   "name": "python3"
  },
  "language_info": {
   "codemirror_mode": {
    "name": "ipython",
    "version": 3
   },
   "file_extension": ".py",
   "mimetype": "text/x-python",
   "name": "python",
   "nbconvert_exporter": "python",
   "pygments_lexer": "ipython3",
   "version": "3.9.7"
  }
 },
 "nbformat": 4,
 "nbformat_minor": 5
}
