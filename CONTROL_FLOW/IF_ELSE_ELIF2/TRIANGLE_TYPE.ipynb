{
 "cells": [
  {
   "cell_type": "code",
   "execution_count": 3,
   "id": "c5dcaa52",
   "metadata": {},
   "outputs": [
    {
     "name": "stdout",
     "output_type": "stream",
     "text": [
      "enter the side of triangle: 12\n",
      "enter the side of triangle: 45\n",
      "enter the side of triangle: 78\n",
      "triangle is scalen.\n"
     ]
    }
   ],
   "source": [
    "\"\"\"Accept three sides of a triangle and check whether it is an equilateral, isosceles or scalene triangle.\n",
    "Note :\n",
    "An equilateral triangle is a triangle in which all three sides are equal.\n",
    "A scalene triangle is a triangle that has three unequal sides.\n",
    "An isosceles triangle is a triangle with (at least) two equal sides.\"\"\"\n",
    "a=input(\"enter the side of triangle: \")\n",
    "b=input(\"enter the side of triangle: \")\n",
    "c=input(\"enter the side of triangle: \")\n",
    "if a==b==c:\n",
    "    print(\"Triangle is an equilateral triangle.\")\n",
    "elif a==b or b==c or a==c:\n",
    "    print(\"triangle is an isoscales.\")\n",
    "else:\n",
    "    print(\"triangle is scalen.\")"
   ]
  },
  {
   "cell_type": "code",
   "execution_count": null,
   "id": "0a2af129",
   "metadata": {},
   "outputs": [],
   "source": []
  }
 ],
 "metadata": {
  "kernelspec": {
   "display_name": "Python 3 (ipykernel)",
   "language": "python",
   "name": "python3"
  },
  "language_info": {
   "codemirror_mode": {
    "name": "ipython",
    "version": 3
   },
   "file_extension": ".py",
   "mimetype": "text/x-python",
   "name": "python",
   "nbconvert_exporter": "python",
   "pygments_lexer": "ipython3",
   "version": "3.9.7"
  }
 },
 "nbformat": 4,
 "nbformat_minor": 5
}
