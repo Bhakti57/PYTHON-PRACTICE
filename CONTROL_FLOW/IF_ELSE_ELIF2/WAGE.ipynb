{
 "cells": [
  {
   "cell_type": "code",
   "execution_count": 4,
   "id": "921069a2",
   "metadata": {},
   "outputs": [
    {
     "name": "stdout",
     "output_type": "stream",
     "text": [
      "enter the age: 40\n",
      "enter the sex (M)/(F):f\n",
      "enter the number of days: 32\n",
      "salary of person 27200\n"
     ]
    }
   ],
   "source": [
    "\"\"\" Accept the age, sex (‘M’, ‘F’), number of days and display the wages accordingly\n",
    "\n",
    "\tAge\t\tSex\t\tWage/day\n",
    ">=18 and <30\tM\t\t700\n",
    "\t\t      F\t\t750\n",
    "\t\n",
    "\n",
    ">=30 and <=40\tM\t\t800\n",
    "\t\t\tF\t\t850\n",
    "\t\n",
    "Python if else\n",
    "If age does not fall in any range then display the following message: “Enter appropriate age”\n",
    "\"\"\"\n",
    "age=int(input(\"enter the age: \"))\n",
    "sex=input(\"enter the sex (M)/(F):\")\n",
    "day=int(input(\"enter the number of days: \"))\n",
    "sex=sex.upper()\n",
    "if 18<=age<=40:\n",
    "    if 18<=age<30 and sex==\"M\":\n",
    "        print(\"salary of person\",(700*day))\n",
    "    elif 18<=age<30 and sex==\"F\":\n",
    "        print(\"salary of person\",(day*750)) \n",
    "    elif 30<=age<=40 and sex==\"M\":\n",
    "        print(\"salary of person\",(day*800))\n",
    "    elif 30<=age<=40 and sex==\"F\": \n",
    "        print(\"salary of person\",(day*850))\n",
    "else:\n",
    "    print(\"Enter appropriate age.\")"
   ]
  },
  {
   "cell_type": "code",
   "execution_count": null,
   "id": "6031c243",
   "metadata": {},
   "outputs": [],
   "source": []
  }
 ],
 "metadata": {
  "kernelspec": {
   "display_name": "Python 3 (ipykernel)",
   "language": "python",
   "name": "python3"
  },
  "language_info": {
   "codemirror_mode": {
    "name": "ipython",
    "version": 3
   },
   "file_extension": ".py",
   "mimetype": "text/x-python",
   "name": "python",
   "nbconvert_exporter": "python",
   "pygments_lexer": "ipython3",
   "version": "3.9.7"
  }
 },
 "nbformat": 4,
 "nbformat_minor": 5
}
