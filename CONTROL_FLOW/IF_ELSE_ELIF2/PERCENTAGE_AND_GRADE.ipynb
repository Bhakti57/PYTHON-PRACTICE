{
 "cells": [
  {
   "cell_type": "code",
   "execution_count": 4,
   "id": "801c8b36",
   "metadata": {},
   "outputs": [
    {
     "name": "stdout",
     "output_type": "stream",
     "text": [
      "Enter the percentage: 45\n",
      "You got B grade with 45.0\n"
     ]
    }
   ],
   "source": [
    "\"\"\"Accept the percentage from the user and display the  grade according to the following criteria:\n",
    "\n",
    "    Below 25 —- D\n",
    "    25 to 45 —- C\n",
    "    45 to 50 —- B\n",
    "    50 to 60 –– B+\n",
    "    60 to 80 —- A\n",
    "    Above 80 –- A+\"\"\"\n",
    "percentage=float(input(\"Enter the percentage: \"))\n",
    "if percentage>=80:\n",
    "    print(\"You got A+ grade with\" ,percentage)\n",
    "elif 80>percentage>60:\n",
    "    print(\"You got A grade with\" ,percentage)\n",
    "elif 60>percentage>=50:\n",
    "    print(\"You got B+ grade with\" ,percentage)\n",
    "elif 50>percentage>=45:\n",
    "    print(\"You got B grade with\" ,percentage)\n",
    "elif 45>percentage>=25:\n",
    "    print(\"You got C+ grade with\" ,percentage)\n",
    "else:\n",
    "    print(\"You got C grade with\" ,percentage)"
   ]
  },
  {
   "cell_type": "code",
   "execution_count": null,
   "id": "a864ba3f",
   "metadata": {},
   "outputs": [],
   "source": []
  }
 ],
 "metadata": {
  "kernelspec": {
   "display_name": "Python 3 (ipykernel)",
   "language": "python",
   "name": "python3"
  },
  "language_info": {
   "codemirror_mode": {
    "name": "ipython",
    "version": 3
   },
   "file_extension": ".py",
   "mimetype": "text/x-python",
   "name": "python",
   "nbconvert_exporter": "python",
   "pygments_lexer": "ipython3",
   "version": "3.9.7"
  }
 },
 "nbformat": 4,
 "nbformat_minor": 5
}
